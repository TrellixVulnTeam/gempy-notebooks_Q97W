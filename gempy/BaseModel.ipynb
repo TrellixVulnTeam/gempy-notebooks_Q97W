{
 "cells": [
  {
   "cell_type": "code",
   "execution_count": 1,
   "metadata": {},
   "outputs": [
    {
     "name": "stderr",
     "output_type": "stream",
     "text": [
      "WARNING (theano.tensor.blas): Using NumPy C-API based implementation for BLAS functions.\n"
     ]
    }
   ],
   "source": [
    "import gempy as gp\n",
    "import numpy as np\n",
    "import pandas as pn\n",
    "import matplotlib.pyplot as plt\n",
    "import theano\n",
    "import qgrid"
   ]
  },
  {
   "cell_type": "markdown",
   "metadata": {},
   "source": [
    "Steps to create a gempy model\n",
    "1. Init model\n",
    "2. Load input data into model\n",
    "3. Declaring the sequential order of geological formations / structures\n",
    "4. Generate model\n",
    "5. Compute model"
   ]
  },
  {
   "cell_type": "markdown",
   "metadata": {},
   "source": [
    "### Model from scratch "
   ]
  },
  {
   "cell_type": "code",
   "execution_count": 7,
   "metadata": {},
   "outputs": [
    {
     "name": "stdout",
     "output_type": "stream",
     "text": [
      "Active grids: ['regular']\n",
      "Fault colors changed. If you do not like this behavior, set change_color to False.\n",
      "Compiling theano function...\n",
      "Compilation Done!\n"
     ]
    }
   ],
   "source": [
    "# Init model\n",
    "geo_model = gp.create_model(\"BaseModel\")\n",
    "\n",
    "\n",
    "# Initial data\n",
    "gp.init_data(\n",
    "    geo_model=geo_model,\n",
    "    extent=[0,2000,0,2000,0,2000],\n",
    "    resolution=[50,50,50],\n",
    "    path_o=\"./input_data/simple_fault_model_orientations.csv\",\n",
    "    path_i=\"./input_data/simple_fault_model_points.csv\"\n",
    ")\n",
    "\n",
    "\n",
    "# Declaring the sequential order of geological formations / structures\n",
    "gp.map_series_to_surfaces(\n",
    "    geo_model,\n",
    "        {\"Fault_Series\":'Main_Fault', \n",
    "         \"Strat_Series\": ('Sandstone_2','Siltstone',\n",
    "            'Shale', 'Sandstone_1', 'basement')},\n",
    "    remove_unused_series=True\n",
    ")\n",
    "\n",
    "geo_model.set_is_fault(['Fault_Series'])\n",
    "\n",
    "\n",
    "# Generate model\n",
    "gp.set_interpolation_data(\n",
    "    geo_model=geo_model,\n",
    "    compile_theano=True,\n",
    "    theano_optimizer='fast_compile',\n",
    "    verbose=[]\n",
    ")\n",
    "\n",
    "# Comnpute model\n",
    "solution = gp.compute_model(\n",
    "    model=geo_model,\n",
    "    debug=False,\n",
    "    compute_mesh=False,\n",
    "    sort_surfaces=False\n",
    ")"
   ]
  },
  {
   "cell_type": "code",
   "execution_count": null,
   "metadata": {},
   "outputs": [],
   "source": []
  }
 ],
 "metadata": {
  "kernelspec": {
   "display_name": "Python 3",
   "language": "python",
   "name": "python3"
  },
  "language_info": {
   "codemirror_mode": {
    "name": "ipython",
    "version": 3
   },
   "file_extension": ".py",
   "mimetype": "text/x-python",
   "name": "python",
   "nbconvert_exporter": "python",
   "pygments_lexer": "ipython3",
   "version": "3.6.9"
  }
 },
 "nbformat": 4,
 "nbformat_minor": 2
}
