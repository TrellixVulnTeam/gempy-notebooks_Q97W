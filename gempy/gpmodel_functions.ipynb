{
 "cells": [
  {
   "cell_type": "markdown",
   "metadata": {},
   "source": [
    "Collection of functions needed to create and interact with the model. This refers to model creation, interpolation, interaction (add points etc.) and analysis. It does not however refer to visualizations as this will be done in the frondend."
   ]
  },
  {
   "cell_type": "code",
   "execution_count": 40,
   "metadata": {},
   "outputs": [],
   "source": [
    "import gempy as gp\n",
    "import numpy as np\n",
    "import pandas as pd"
   ]
  },
  {
   "cell_type": "markdown",
   "metadata": {},
   "source": [
    "## InputData"
   ]
  },
  {
   "cell_type": "code",
   "execution_count": 2,
   "metadata": {},
   "outputs": [],
   "source": [
    "# init model\n",
    "geo_model = gp.create_model('GeoModel')"
   ]
  },
  {
   "cell_type": "code",
   "execution_count": 5,
   "metadata": {},
   "outputs": [
    {
     "name": "stdout",
     "output_type": "stream",
     "text": [
      "Active grids: ['regular']\n"
     ]
    }
   ],
   "source": [
    "# Set init data\n",
    "gp.init_data(\n",
    "    geo_model,\n",
    "    [0,2000.,0,2000.,0,2000.],\n",
    "    [50,50,50], \n",
    "    path_o = \"./input_data/simple_fault_model_orientations.csv\",\n",
    "    path_i = \"./input_data/simple_fault_model_points.csv\",\n",
    "    default_values=True\n",
    ");"
   ]
  },
  {
   "cell_type": "code",
   "execution_count": 6,
   "metadata": {},
   "outputs": [],
   "source": [
    "# Map series to surfaces\n",
    "gp.map_series_to_surfaces(\n",
    "    geo_model,       \n",
    "    {\n",
    "        \"Fault_Series\":'Main_Fault', \n",
    "        \"Strat_Series\": (\n",
    "            'Sandstone_2',\n",
    "            'Siltstone',\n",
    "            'Shale',\n",
    "            'Sandstone_1',\n",
    "            'basement'\n",
    "        )\n",
    "    },\n",
    "    remove_unused_series=True\n",
    ");"
   ]
  },
  {
   "cell_type": "code",
   "execution_count": 10,
   "metadata": {},
   "outputs": [
    {
     "name": "stdout",
     "output_type": "stream",
     "text": [
      "Fault colors changed. If you do not like this behavior, set change_color to False.\n"
     ]
    }
   ],
   "source": [
    "# set faults\n",
    "geo_model.set_is_fault(['Fault_Series']);"
   ]
  },
  {
   "cell_type": "markdown",
   "metadata": {},
   "source": [
    "## InterpolatorData"
   ]
  },
  {
   "cell_type": "code",
   "execution_count": 9,
   "metadata": {},
   "outputs": [
    {
     "name": "stdout",
     "output_type": "stream",
     "text": [
      "Compiling theano function...\n",
      "Compilation Done!\n"
     ]
    }
   ],
   "source": [
    "gp.set_interpolation_data(\n",
    "    geo_model,\n",
    "    compile_theano=True,\n",
    "    theano_optimizer='fast_compile',\n",
    "    verbose=[]\n",
    ");"
   ]
  },
  {
   "cell_type": "markdown",
   "metadata": {},
   "source": [
    "## Compute solution"
   ]
  },
  {
   "cell_type": "code",
   "execution_count": 12,
   "metadata": {},
   "outputs": [],
   "source": [
    "sol = gp.compute_model(\n",
    "    geo_model,\n",
    "    compute_mesh=True,\n",
    "    sort_surfaces=False\n",
    ");"
   ]
  },
  {
   "cell_type": "markdown",
   "metadata": {},
   "source": [
    "# Data"
   ]
  },
  {
   "cell_type": "markdown",
   "metadata": {},
   "source": [
    "## Series\n",
    "Object that contains the properties associated with each independent scalar field."
   ]
  },
  {
   "cell_type": "code",
   "execution_count": 21,
   "metadata": {},
   "outputs": [],
   "source": [
    "faults = gp.Faults()\n",
    "series = gp.Series(faults)"
   ]
  },
  {
   "cell_type": "code",
   "execution_count": 23,
   "metadata": {},
   "outputs": [
    {
     "data": {
      "text/html": [
       "<table border=\"1\" class=\"dataframe\">\n",
       "  <thead>\n",
       "    <tr style=\"text-align: right;\">\n",
       "      <th></th>\n",
       "      <th>order_series</th>\n",
       "      <th>BottomRelation</th>\n",
       "    </tr>\n",
       "  </thead>\n",
       "  <tbody>\n",
       "    <tr>\n",
       "      <th>boo</th>\n",
       "      <td>1</td>\n",
       "      <td>Erosion</td>\n",
       "    </tr>\n",
       "    <tr>\n",
       "      <th>foo2</th>\n",
       "      <td>2</td>\n",
       "      <td>Erosion</td>\n",
       "    </tr>\n",
       "    <tr>\n",
       "      <th>foo5</th>\n",
       "      <td>3</td>\n",
       "      <td>Erosion</td>\n",
       "    </tr>\n",
       "    <tr>\n",
       "      <th>foo7</th>\n",
       "      <td>4</td>\n",
       "      <td>Erosion</td>\n",
       "    </tr>\n",
       "  </tbody>\n",
       "</table>"
      ],
      "text/plain": [
       "      order_series BottomRelation\n",
       "boo              1        Erosion\n",
       "foo2             2        Erosion\n",
       "foo5             3        Erosion\n",
       "foo7             4        Erosion"
      ]
     },
     "execution_count": 23,
     "metadata": {},
     "output_type": "execute_result"
    }
   ],
   "source": [
    "series.set_series_index(['foo', 'foo2', 'foo5', 'foo7'])\n",
    "series.add_series('foo3')\n",
    "series.delete_series('foo3')\n",
    "series.rename_series({'foo':'boo'})"
   ]
  },
  {
   "cell_type": "markdown",
   "metadata": {},
   "source": [
    "## Faults\n",
    "Charectirize which mathematical series behave as fault and if mentioned faults are finite or infinite. "
   ]
  },
  {
   "cell_type": "code",
   "execution_count": 24,
   "metadata": {},
   "outputs": [
    {
     "data": {
      "text/html": [
       "<table border=\"1\" class=\"dataframe\">\n",
       "  <thead>\n",
       "    <tr style=\"text-align: right;\">\n",
       "      <th></th>\n",
       "      <th>isFault</th>\n",
       "      <th>isFinite</th>\n",
       "    </tr>\n",
       "  </thead>\n",
       "  <tbody>\n",
       "    <tr>\n",
       "      <th>boo</th>\n",
       "      <td>True</td>\n",
       "      <td>False</td>\n",
       "    </tr>\n",
       "    <tr>\n",
       "      <th>foo2</th>\n",
       "      <td>False</td>\n",
       "      <td>False</td>\n",
       "    </tr>\n",
       "    <tr>\n",
       "      <th>foo5</th>\n",
       "      <td>False</td>\n",
       "      <td>False</td>\n",
       "    </tr>\n",
       "    <tr>\n",
       "      <th>foo7</th>\n",
       "      <td>False</td>\n",
       "      <td>False</td>\n",
       "    </tr>\n",
       "  </tbody>\n",
       "</table>"
      ],
      "text/plain": [
       "      isFault  isFinite\n",
       "boo      True     False\n",
       "foo2    False     False\n",
       "foo5    False     False\n",
       "foo7    False     False"
      ]
     },
     "execution_count": 24,
     "metadata": {},
     "output_type": "execute_result"
    }
   ],
   "source": [
    "faults.set_is_fault(['boo'])"
   ]
  },
  {
   "cell_type": "code",
   "execution_count": 26,
   "metadata": {},
   "outputs": [
    {
     "data": {
      "text/html": [
       "<div>\n",
       "<style scoped>\n",
       "    .dataframe tbody tr th:only-of-type {\n",
       "        vertical-align: middle;\n",
       "    }\n",
       "\n",
       "    .dataframe tbody tr th {\n",
       "        vertical-align: top;\n",
       "    }\n",
       "\n",
       "    .dataframe thead th {\n",
       "        text-align: right;\n",
       "    }\n",
       "</style>\n",
       "<table border=\"1\" class=\"dataframe\">\n",
       "  <thead>\n",
       "    <tr style=\"text-align: right;\">\n",
       "      <th></th>\n",
       "      <th>boo</th>\n",
       "      <th>foo2</th>\n",
       "      <th>foo5</th>\n",
       "      <th>foo7</th>\n",
       "    </tr>\n",
       "  </thead>\n",
       "  <tbody>\n",
       "    <tr>\n",
       "      <th>boo</th>\n",
       "      <td>False</td>\n",
       "      <td>False</td>\n",
       "      <td>False</td>\n",
       "      <td>False</td>\n",
       "    </tr>\n",
       "    <tr>\n",
       "      <th>foo2</th>\n",
       "      <td>False</td>\n",
       "      <td>False</td>\n",
       "      <td>False</td>\n",
       "      <td>False</td>\n",
       "    </tr>\n",
       "    <tr>\n",
       "      <th>foo5</th>\n",
       "      <td>False</td>\n",
       "      <td>False</td>\n",
       "      <td>False</td>\n",
       "      <td>False</td>\n",
       "    </tr>\n",
       "    <tr>\n",
       "      <th>foo7</th>\n",
       "      <td>False</td>\n",
       "      <td>False</td>\n",
       "      <td>False</td>\n",
       "      <td>False</td>\n",
       "    </tr>\n",
       "  </tbody>\n",
       "</table>\n",
       "</div>"
      ],
      "text/plain": [
       "        boo   foo2   foo5   foo7\n",
       "boo   False  False  False  False\n",
       "foo2  False  False  False  False\n",
       "foo5  False  False  False  False\n",
       "foo7  False  False  False  False"
      ]
     },
     "execution_count": 26,
     "metadata": {},
     "output_type": "execute_result"
    }
   ],
   "source": [
    "faults.set_fault_relation()"
   ]
  },
  {
   "cell_type": "markdown",
   "metadata": {},
   "source": [
    "## Surfaces\n",
    "- id refers to the order of the surfaces on the sequential pile\n",
    "- values on the other hand is the final value that each voxel will have after discretization.\n",
    "- needs to have an associate series object."
   ]
  },
  {
   "cell_type": "code",
   "execution_count": 33,
   "metadata": {},
   "outputs": [
    {
     "data": {
      "text/html": [
       "<style  type=\"text/css\" >\n",
       "    #T_a0882b78_3841_11ea_8b71_5c879c2acfb0row0_col4 {\n",
       "            background-color:  #015482;\n",
       "        }    #T_a0882b78_3841_11ea_8b71_5c879c2acfb0row1_col4 {\n",
       "            background-color:  #9f0052;\n",
       "        }    #T_a0882b78_3841_11ea_8b71_5c879c2acfb0row2_col4 {\n",
       "            background-color:  #ffbe00;\n",
       "        }    #T_a0882b78_3841_11ea_8b71_5c879c2acfb0row3_col4 {\n",
       "            background-color:  #728f02;\n",
       "        }</style><table id=\"T_a0882b78_3841_11ea_8b71_5c879c2acfb0\" ><thead>    <tr>        <th class=\"blank level0\" ></th>        <th class=\"col_heading level0 col0\" >surface</th>        <th class=\"col_heading level0 col1\" >series</th>        <th class=\"col_heading level0 col2\" >order_surfaces</th>        <th class=\"col_heading level0 col3\" >isBasement</th>        <th class=\"col_heading level0 col4\" >color</th>        <th class=\"col_heading level0 col5\" >id</th>        <th class=\"col_heading level0 col6\" >val_foo</th>        <th class=\"col_heading level0 col7\" >val2_foo</th>    </tr></thead><tbody>\n",
       "                <tr>\n",
       "                        <th id=\"T_a0882b78_3841_11ea_8b71_5c879c2acfb0level0_row0\" class=\"row_heading level0 row0\" >0</th>\n",
       "                        <td id=\"T_a0882b78_3841_11ea_8b71_5c879c2acfb0row0_col0\" class=\"data row0 col0\" >foo</td>\n",
       "                        <td id=\"T_a0882b78_3841_11ea_8b71_5c879c2acfb0row0_col1\" class=\"data row0 col1\" >foo7</td>\n",
       "                        <td id=\"T_a0882b78_3841_11ea_8b71_5c879c2acfb0row0_col2\" class=\"data row0 col2\" >1</td>\n",
       "                        <td id=\"T_a0882b78_3841_11ea_8b71_5c879c2acfb0row0_col3\" class=\"data row0 col3\" >False</td>\n",
       "                        <td id=\"T_a0882b78_3841_11ea_8b71_5c879c2acfb0row0_col4\" class=\"data row0 col4\" >#015482</td>\n",
       "                        <td id=\"T_a0882b78_3841_11ea_8b71_5c879c2acfb0row0_col5\" class=\"data row0 col5\" >1</td>\n",
       "                        <td id=\"T_a0882b78_3841_11ea_8b71_5c879c2acfb0row0_col6\" class=\"data row0 col6\" >2</td>\n",
       "                        <td id=\"T_a0882b78_3841_11ea_8b71_5c879c2acfb0row0_col7\" class=\"data row0 col7\" >2</td>\n",
       "            </tr>\n",
       "            <tr>\n",
       "                        <th id=\"T_a0882b78_3841_11ea_8b71_5c879c2acfb0level0_row1\" class=\"row_heading level0 row1\" >1</th>\n",
       "                        <td id=\"T_a0882b78_3841_11ea_8b71_5c879c2acfb0row1_col0\" class=\"data row1 col0\" >foo2</td>\n",
       "                        <td id=\"T_a0882b78_3841_11ea_8b71_5c879c2acfb0row1_col1\" class=\"data row1 col1\" >foo7</td>\n",
       "                        <td id=\"T_a0882b78_3841_11ea_8b71_5c879c2acfb0row1_col2\" class=\"data row1 col2\" >2</td>\n",
       "                        <td id=\"T_a0882b78_3841_11ea_8b71_5c879c2acfb0row1_col3\" class=\"data row1 col3\" >False</td>\n",
       "                        <td id=\"T_a0882b78_3841_11ea_8b71_5c879c2acfb0row1_col4\" class=\"data row1 col4\" >#9f0052</td>\n",
       "                        <td id=\"T_a0882b78_3841_11ea_8b71_5c879c2acfb0row1_col5\" class=\"data row1 col5\" >2</td>\n",
       "                        <td id=\"T_a0882b78_3841_11ea_8b71_5c879c2acfb0row1_col6\" class=\"data row1 col6\" >2</td>\n",
       "                        <td id=\"T_a0882b78_3841_11ea_8b71_5c879c2acfb0row1_col7\" class=\"data row1 col7\" >2</td>\n",
       "            </tr>\n",
       "            <tr>\n",
       "                        <th id=\"T_a0882b78_3841_11ea_8b71_5c879c2acfb0level0_row2\" class=\"row_heading level0 row2\" >2</th>\n",
       "                        <td id=\"T_a0882b78_3841_11ea_8b71_5c879c2acfb0row2_col0\" class=\"data row2 col0\" >foo5</td>\n",
       "                        <td id=\"T_a0882b78_3841_11ea_8b71_5c879c2acfb0row2_col1\" class=\"data row2 col1\" >foo7</td>\n",
       "                        <td id=\"T_a0882b78_3841_11ea_8b71_5c879c2acfb0row2_col2\" class=\"data row2 col2\" >3</td>\n",
       "                        <td id=\"T_a0882b78_3841_11ea_8b71_5c879c2acfb0row2_col3\" class=\"data row2 col3\" >False</td>\n",
       "                        <td id=\"T_a0882b78_3841_11ea_8b71_5c879c2acfb0row2_col4\" class=\"data row2 col4\" >#ffbe00</td>\n",
       "                        <td id=\"T_a0882b78_3841_11ea_8b71_5c879c2acfb0row2_col5\" class=\"data row2 col5\" >3</td>\n",
       "                        <td id=\"T_a0882b78_3841_11ea_8b71_5c879c2acfb0row2_col6\" class=\"data row2 col6\" >2</td>\n",
       "                        <td id=\"T_a0882b78_3841_11ea_8b71_5c879c2acfb0row2_col7\" class=\"data row2 col7\" >1</td>\n",
       "            </tr>\n",
       "            <tr>\n",
       "                        <th id=\"T_a0882b78_3841_11ea_8b71_5c879c2acfb0level0_row3\" class=\"row_heading level0 row3\" >3</th>\n",
       "                        <td id=\"T_a0882b78_3841_11ea_8b71_5c879c2acfb0row3_col0\" class=\"data row3 col0\" >feeeee</td>\n",
       "                        <td id=\"T_a0882b78_3841_11ea_8b71_5c879c2acfb0row3_col1\" class=\"data row3 col1\" >foo7</td>\n",
       "                        <td id=\"T_a0882b78_3841_11ea_8b71_5c879c2acfb0row3_col2\" class=\"data row3 col2\" >4</td>\n",
       "                        <td id=\"T_a0882b78_3841_11ea_8b71_5c879c2acfb0row3_col3\" class=\"data row3 col3\" >True</td>\n",
       "                        <td id=\"T_a0882b78_3841_11ea_8b71_5c879c2acfb0row3_col4\" class=\"data row3 col4\" >#728f02</td>\n",
       "                        <td id=\"T_a0882b78_3841_11ea_8b71_5c879c2acfb0row3_col5\" class=\"data row3 col5\" >4</td>\n",
       "                        <td id=\"T_a0882b78_3841_11ea_8b71_5c879c2acfb0row3_col6\" class=\"data row3 col6\" >6</td>\n",
       "                        <td id=\"T_a0882b78_3841_11ea_8b71_5c879c2acfb0row3_col7\" class=\"data row3 col7\" >8</td>\n",
       "            </tr>\n",
       "    </tbody></table>"
      ],
      "text/plain": [
       "  surface series  order_surfaces  isBasement    color  id  val_foo  val2_foo\n",
       "0     foo   foo7               1       False  #015482   1        2         2\n",
       "1    foo2   foo7               2       False  #9f0052   2        2         2\n",
       "2    foo5   foo7               3       False  #ffbe00   3        2         1\n",
       "3  feeeee   foo7               4        True  #728f02   4        6         8"
      ]
     },
     "execution_count": 33,
     "metadata": {},
     "output_type": "execute_result"
    }
   ],
   "source": [
    "surfaces = gp.Surfaces(series)\n",
    "surfaces.set_surfaces_names(['foo', 'foo2', 'foo5'])\n",
    "surfaces.add_surface(['feeeee'])\n",
    "surfaces.set_surfaces_values([2,2,2,5])\n",
    "surfaces.add_surfaces_values([[2,2,2,6], [2,2,1,8]], ['val_foo', 'val2_foo'])\n",
    "surfaces.delete_surface_values(['val_foo', 'value_0'])\n",
    "surfaces.set_basement()  # required\n",
    "surfaces.set_surfaces_values([[2,2,2,6], [2,2,1,8]], ['val_foo', 'val2_foo'])"
   ]
  },
  {
   "cell_type": "code",
   "execution_count": 34,
   "metadata": {},
   "outputs": [
    {
     "data": {
      "text/html": [
       "<style  type=\"text/css\" >\n",
       "    #T_baf32f1c_3841_11ea_8b71_5c879c2acfb0row0_col4 {\n",
       "            background-color:  #9f0052;\n",
       "        }    #T_baf32f1c_3841_11ea_8b71_5c879c2acfb0row1_col4 {\n",
       "            background-color:  #ffbe00;\n",
       "        }    #T_baf32f1c_3841_11ea_8b71_5c879c2acfb0row2_col4 {\n",
       "            background-color:  #015482;\n",
       "        }    #T_baf32f1c_3841_11ea_8b71_5c879c2acfb0row3_col4 {\n",
       "            background-color:  #728f02;\n",
       "        }</style><table id=\"T_baf32f1c_3841_11ea_8b71_5c879c2acfb0\" ><thead>    <tr>        <th class=\"blank level0\" ></th>        <th class=\"col_heading level0 col0\" >surface</th>        <th class=\"col_heading level0 col1\" >series</th>        <th class=\"col_heading level0 col2\" >order_surfaces</th>        <th class=\"col_heading level0 col3\" >isBasement</th>        <th class=\"col_heading level0 col4\" >color</th>        <th class=\"col_heading level0 col5\" >id</th>        <th class=\"col_heading level0 col6\" >val_foo</th>        <th class=\"col_heading level0 col7\" >val2_foo</th>    </tr></thead><tbody>\n",
       "                <tr>\n",
       "                        <th id=\"T_baf32f1c_3841_11ea_8b71_5c879c2acfb0level0_row0\" class=\"row_heading level0 row0\" >1</th>\n",
       "                        <td id=\"T_baf32f1c_3841_11ea_8b71_5c879c2acfb0row0_col0\" class=\"data row0 col0\" >foo2</td>\n",
       "                        <td id=\"T_baf32f1c_3841_11ea_8b71_5c879c2acfb0row0_col1\" class=\"data row0 col1\" >boo</td>\n",
       "                        <td id=\"T_baf32f1c_3841_11ea_8b71_5c879c2acfb0row0_col2\" class=\"data row0 col2\" >1</td>\n",
       "                        <td id=\"T_baf32f1c_3841_11ea_8b71_5c879c2acfb0row0_col3\" class=\"data row0 col3\" >False</td>\n",
       "                        <td id=\"T_baf32f1c_3841_11ea_8b71_5c879c2acfb0row0_col4\" class=\"data row0 col4\" >#9f0052</td>\n",
       "                        <td id=\"T_baf32f1c_3841_11ea_8b71_5c879c2acfb0row0_col5\" class=\"data row0 col5\" >1</td>\n",
       "                        <td id=\"T_baf32f1c_3841_11ea_8b71_5c879c2acfb0row0_col6\" class=\"data row0 col6\" >2</td>\n",
       "                        <td id=\"T_baf32f1c_3841_11ea_8b71_5c879c2acfb0row0_col7\" class=\"data row0 col7\" >2</td>\n",
       "            </tr>\n",
       "            <tr>\n",
       "                        <th id=\"T_baf32f1c_3841_11ea_8b71_5c879c2acfb0level0_row1\" class=\"row_heading level0 row1\" >2</th>\n",
       "                        <td id=\"T_baf32f1c_3841_11ea_8b71_5c879c2acfb0row1_col0\" class=\"data row1 col0\" >foo5</td>\n",
       "                        <td id=\"T_baf32f1c_3841_11ea_8b71_5c879c2acfb0row1_col1\" class=\"data row1 col1\" >boo</td>\n",
       "                        <td id=\"T_baf32f1c_3841_11ea_8b71_5c879c2acfb0row1_col2\" class=\"data row1 col2\" >2</td>\n",
       "                        <td id=\"T_baf32f1c_3841_11ea_8b71_5c879c2acfb0row1_col3\" class=\"data row1 col3\" >False</td>\n",
       "                        <td id=\"T_baf32f1c_3841_11ea_8b71_5c879c2acfb0row1_col4\" class=\"data row1 col4\" >#ffbe00</td>\n",
       "                        <td id=\"T_baf32f1c_3841_11ea_8b71_5c879c2acfb0row1_col5\" class=\"data row1 col5\" >2</td>\n",
       "                        <td id=\"T_baf32f1c_3841_11ea_8b71_5c879c2acfb0row1_col6\" class=\"data row1 col6\" >2</td>\n",
       "                        <td id=\"T_baf32f1c_3841_11ea_8b71_5c879c2acfb0row1_col7\" class=\"data row1 col7\" >1</td>\n",
       "            </tr>\n",
       "            <tr>\n",
       "                        <th id=\"T_baf32f1c_3841_11ea_8b71_5c879c2acfb0level0_row2\" class=\"row_heading level0 row2\" >0</th>\n",
       "                        <td id=\"T_baf32f1c_3841_11ea_8b71_5c879c2acfb0row2_col0\" class=\"data row2 col0\" >foo</td>\n",
       "                        <td id=\"T_baf32f1c_3841_11ea_8b71_5c879c2acfb0row2_col1\" class=\"data row2 col1\" >foo7</td>\n",
       "                        <td id=\"T_baf32f1c_3841_11ea_8b71_5c879c2acfb0row2_col2\" class=\"data row2 col2\" >1</td>\n",
       "                        <td id=\"T_baf32f1c_3841_11ea_8b71_5c879c2acfb0row2_col3\" class=\"data row2 col3\" >False</td>\n",
       "                        <td id=\"T_baf32f1c_3841_11ea_8b71_5c879c2acfb0row2_col4\" class=\"data row2 col4\" >#015482</td>\n",
       "                        <td id=\"T_baf32f1c_3841_11ea_8b71_5c879c2acfb0row2_col5\" class=\"data row2 col5\" >3</td>\n",
       "                        <td id=\"T_baf32f1c_3841_11ea_8b71_5c879c2acfb0row2_col6\" class=\"data row2 col6\" >2</td>\n",
       "                        <td id=\"T_baf32f1c_3841_11ea_8b71_5c879c2acfb0row2_col7\" class=\"data row2 col7\" >2</td>\n",
       "            </tr>\n",
       "            <tr>\n",
       "                        <th id=\"T_baf32f1c_3841_11ea_8b71_5c879c2acfb0level0_row3\" class=\"row_heading level0 row3\" >3</th>\n",
       "                        <td id=\"T_baf32f1c_3841_11ea_8b71_5c879c2acfb0row3_col0\" class=\"data row3 col0\" >feeeee</td>\n",
       "                        <td id=\"T_baf32f1c_3841_11ea_8b71_5c879c2acfb0row3_col1\" class=\"data row3 col1\" >foo7</td>\n",
       "                        <td id=\"T_baf32f1c_3841_11ea_8b71_5c879c2acfb0row3_col2\" class=\"data row3 col2\" >2</td>\n",
       "                        <td id=\"T_baf32f1c_3841_11ea_8b71_5c879c2acfb0row3_col3\" class=\"data row3 col3\" >True</td>\n",
       "                        <td id=\"T_baf32f1c_3841_11ea_8b71_5c879c2acfb0row3_col4\" class=\"data row3 col4\" >#728f02</td>\n",
       "                        <td id=\"T_baf32f1c_3841_11ea_8b71_5c879c2acfb0row3_col5\" class=\"data row3 col5\" >4</td>\n",
       "                        <td id=\"T_baf32f1c_3841_11ea_8b71_5c879c2acfb0row3_col6\" class=\"data row3 col6\" >6</td>\n",
       "                        <td id=\"T_baf32f1c_3841_11ea_8b71_5c879c2acfb0row3_col7\" class=\"data row3 col7\" >8</td>\n",
       "            </tr>\n",
       "    </tbody></table>"
      ],
      "text/plain": [
       "  surface series  order_surfaces  isBasement    color  id  val_foo  val2_foo\n",
       "1    foo2    boo               1       False  #9f0052   1        2         2\n",
       "2    foo5    boo               2       False  #ffbe00   2        2         1\n",
       "0     foo   foo7               1       False  #015482   3        2         2\n",
       "3  feeeee   foo7               2        True  #728f02   4        6         8"
      ]
     },
     "execution_count": 34,
     "metadata": {},
     "output_type": "execute_result"
    }
   ],
   "source": [
    "surfaces.map_series({\"foo7\":'foo', \"boo\": ('foo2','foo5', 'fee')})"
   ]
  },
  {
   "cell_type": "markdown",
   "metadata": {},
   "source": [
    "## Data"
   ]
  },
  {
   "cell_type": "markdown",
   "metadata": {},
   "source": [
    "### surface points"
   ]
  },
  {
   "cell_type": "code",
   "execution_count": 42,
   "metadata": {},
   "outputs": [],
   "source": [
    "surface_points = gp.SurfacePoints(surfaces)"
   ]
  },
  {
   "cell_type": "code",
   "execution_count": 44,
   "metadata": {},
   "outputs": [
    {
     "ename": "AssertionError",
     "evalue": "Some of the surface passed does not exist in the Formationobject. 2    NaN\n4    NaN\nName: surface, dtype: category\nCategories (4, object): [foo2, foo5, foo, feeeee]",
     "output_type": "error",
     "traceback": [
      "\u001b[0;31m---------------------------------------------------------------------------\u001b[0m",
      "\u001b[0;31mAssertionError\u001b[0m                            Traceback (most recent call last)",
      "\u001b[0;32m<ipython-input-44-95c24b5de524>\u001b[0m in \u001b[0;36m<module>\u001b[0;34m\u001b[0m\n\u001b[0;32m----> 1\u001b[0;31m \u001b[0msurface_points\u001b[0m\u001b[0;34m.\u001b[0m\u001b[0mset_surface_points\u001b[0m\u001b[0;34m(\u001b[0m\u001b[0mpd\u001b[0m\u001b[0;34m.\u001b[0m\u001b[0mDataFrame\u001b[0m\u001b[0;34m(\u001b[0m\u001b[0mnp\u001b[0m\u001b[0;34m.\u001b[0m\u001b[0mrandom\u001b[0m\u001b[0;34m.\u001b[0m\u001b[0mrand\u001b[0m\u001b[0;34m(\u001b[0m\u001b[0;36m6\u001b[0m\u001b[0;34m,\u001b[0m\u001b[0;36m3\u001b[0m\u001b[0;34m)\u001b[0m\u001b[0;34m)\u001b[0m\u001b[0;34m,\u001b[0m \u001b[0;34m[\u001b[0m\u001b[0;34m'foo'\u001b[0m\u001b[0;34m,\u001b[0m \u001b[0;34m'foo5'\u001b[0m\u001b[0;34m,\u001b[0m \u001b[0;34m'lala'\u001b[0m\u001b[0;34m,\u001b[0m \u001b[0;34m'foo5'\u001b[0m\u001b[0;34m,\u001b[0m \u001b[0;34m'lala'\u001b[0m\u001b[0;34m,\u001b[0m \u001b[0;34m'feeeee'\u001b[0m\u001b[0;34m]\u001b[0m\u001b[0;34m)\u001b[0m\u001b[0;34m\u001b[0m\u001b[0;34m\u001b[0m\u001b[0m\n\u001b[0m",
      "\u001b[0;32m~/coding/environments/python_3.6.8/lib/python3.6/site-packages/gempy/core/data.py\u001b[0m in \u001b[0;36mset_surface_points\u001b[0;34m(self, coord, surface)\u001b[0m\n\u001b[1;32m   1358\u001b[0m \u001b[0;34m\u001b[0m\u001b[0m\n\u001b[1;32m   1359\u001b[0m         \u001b[0;32massert\u001b[0m \u001b[0;34m~\u001b[0m\u001b[0mself\u001b[0m\u001b[0;34m.\u001b[0m\u001b[0mdf\u001b[0m\u001b[0;34m[\u001b[0m\u001b[0;34m'surface'\u001b[0m\u001b[0;34m]\u001b[0m\u001b[0;34m.\u001b[0m\u001b[0misna\u001b[0m\u001b[0;34m(\u001b[0m\u001b[0;34m)\u001b[0m\u001b[0;34m.\u001b[0m\u001b[0many\u001b[0m\u001b[0;34m(\u001b[0m\u001b[0;34m)\u001b[0m\u001b[0;34m,\u001b[0m \u001b[0;34m'Some of the surface passed does not exist in the Formation'\u001b[0m\u001b[0;31m \u001b[0m\u001b[0;31m\\\u001b[0m\u001b[0;34m\u001b[0m\u001b[0;34m\u001b[0m\u001b[0m\n\u001b[0;32m-> 1360\u001b[0;31m                                                  \u001b[0;34m'object. %s'\u001b[0m \u001b[0;34m%\u001b[0m \u001b[0mself\u001b[0m\u001b[0;34m.\u001b[0m\u001b[0mdf\u001b[0m\u001b[0;34m[\u001b[0m\u001b[0;34m'surface'\u001b[0m\u001b[0;34m]\u001b[0m\u001b[0;34m[\u001b[0m\u001b[0mself\u001b[0m\u001b[0;34m.\u001b[0m\u001b[0mdf\u001b[0m\u001b[0;34m[\u001b[0m\u001b[0;34m'surface'\u001b[0m\u001b[0;34m]\u001b[0m\u001b[0;34m.\u001b[0m\u001b[0misna\u001b[0m\u001b[0;34m(\u001b[0m\u001b[0;34m)\u001b[0m\u001b[0;34m]\u001b[0m\u001b[0;34m\u001b[0m\u001b[0;34m\u001b[0m\u001b[0m\n\u001b[0m\u001b[1;32m   1361\u001b[0m \u001b[0;34m\u001b[0m\u001b[0m\n\u001b[1;32m   1362\u001b[0m         \u001b[0;32mreturn\u001b[0m \u001b[0mself\u001b[0m\u001b[0;34m\u001b[0m\u001b[0;34m\u001b[0m\u001b[0m\n",
      "\u001b[0;31mAssertionError\u001b[0m: Some of the surface passed does not exist in the Formationobject. 2    NaN\n4    NaN\nName: surface, dtype: category\nCategories (4, object): [foo2, foo5, foo, feeeee]"
     ]
    }
   ],
   "source": [
    "surface_points.set_surface_points(pd.DataFrame(np.random.rand(6,3)), ['foo', 'foo5', 'lala', 'foo5', 'lala', 'feeeee'])"
   ]
  },
  {
   "cell_type": "code",
   "execution_count": null,
   "metadata": {},
   "outputs": [],
   "source": []
  }
 ],
 "metadata": {
  "kernelspec": {
   "display_name": "Python 3",
   "language": "python",
   "name": "python3"
  },
  "language_info": {
   "codemirror_mode": {
    "name": "ipython",
    "version": 3
   },
   "file_extension": ".py",
   "mimetype": "text/x-python",
   "name": "python",
   "nbconvert_exporter": "python",
   "pygments_lexer": "ipython3",
   "version": "3.6.9"
  }
 },
 "nbformat": 4,
 "nbformat_minor": 2
}
