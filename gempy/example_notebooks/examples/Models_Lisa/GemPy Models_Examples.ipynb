{
 "cells": [
  {
   "cell_type": "markdown",
   "metadata": {},
   "source": [
    "## GemPy Models - Some Examples"
   ]
  },
  {
   "cell_type": "code",
   "execution_count": 1,
   "metadata": {},
   "outputs": [
    {
     "name": "stderr",
     "output_type": "stream",
     "text": [
      "WARNING (theano.tensor.blas): Using NumPy C-API based implementation for BLAS functions.\n"
     ]
    }
   ],
   "source": [
    "import sys, os\n",
    "sys.path.append(\"../../..\")\n",
    "\n",
    "# Importing gempy\n",
    "import gempy as gp\n",
    "\n",
    "# Embedding matplotlib figures into the notebooks\n",
    "#%matplotlib inline\n",
    "\n",
    "# Aux imports\n",
    "import numpy as np\n",
    "import pandas as pn\n",
    "import matplotlib\n",
    "import theano"
   ]
  },
  {
   "cell_type": "markdown",
   "metadata": {},
   "source": [
    "### Choose a model and load the corresponding data set in the line below\n",
    "\n",
    "Model 1: Discordant layering\n",
    "\n",
    "Model 2: Anticlinal layering\n",
    "\n",
    "Model 3: Parallel steep dipping layers\n",
    "\n",
    "Model 5: Normal faulting\n",
    "\n",
    "Model 6: Synclinal layering\n",
    "\n",
    "Model 7: Graben structure with two faults\n",
    "\n",
    "Model 8: Similar to Model 5\n",
    "\n",
    "Model 9: Parallel flat dipping layers"
   ]
  },
  {
   "cell_type": "code",
   "execution_count": 2,
   "metadata": {},
   "outputs": [
    {
     "data": {
      "text/plain": [
       "'/home/namur/coding/notebooks/gempy/example_notebooks/data/input_data/lisa_models'"
      ]
     },
     "execution_count": 2,
     "metadata": {},
     "output_type": "execute_result"
    }
   ],
   "source": [
    "os.path.abspath(\"../../data/input_data/lisa_models/\")"
   ]
  },
  {
   "cell_type": "code",
   "execution_count": 3,
   "metadata": {},
   "outputs": [],
   "source": [
    "def create_example(name_model, interpolator=None, save_pickle=True, plot_section=True):\n",
    "    \"\"\"\n",
    "    Create an inter_data from one of the examples data_set\n",
    "    \n",
    "    Attr:\n",
    "        name_model (str): name of the model that you want to generate. It has to be in ['Model 1' ,'Model 2', 'Model 3', 'Model 4','Model 5' 'Model 6','Model 7',\n",
    "                          'Model 8', 'Model 9']\n",
    "        save_pickle (bool, str): Save to a pickle the interp_data object. You can pass the path as a string otherwse\n",
    "                                the default name will be given\n",
    "        plot_section (bool)\n",
    "    \n",
    "    \"\"\"\n",
    "    name_list = np.array(['Model 1' ,'Model 2', 'Model 3', 'Model 4','Model 5', 'Model 6','Model 7',\n",
    "                          'Model 8', 'Model 9'])\n",
    "    assert name_model in name_list, 'Name model must be in the following list: ' + str(name_list) \n",
    "    # Extract number of the model\n",
    "    n_model = name_model[-1]\n",
    "    \n",
    "    # Load right gempy geodata\n",
    "    geo_data = gp.create_data([0,2000,0,2000,0,1600], [50,50,50],\n",
    "                  path_o = os.path.abspath(\"../../data/input_data/lisa_models/foliations\"+n_model+\".csv\"),\n",
    "                  path_i = os.path.abspath(\"../../data/input_data/lisa_models/interfaces\"+n_model+\".csv\"))\n",
    "                    \n",
    "    # Set the right sequential pile\n",
    "    subset_list_1 = np.array(['Model 1'])\n",
    "    subset_list_2 = np.array(['Model 5', 'Model 8'])\n",
    "    subset_list_3 = np.array(['Model 2', 'Model 3', 'Model 9', 'Model 6'])\n",
    "    subset_list_4 = np.array(['Model 7'])\n",
    "    ### Model 1 - Discordant layering ###\n",
    "    if name_model in subset_list_1:\n",
    "        gp.map_series_to_surfaces(geo_data, {\"Strat_Series_1\":('Sandstone','Siltstone','Shale'),\n",
    "                                 \"Strat_Series_2\":('Sandstone2','Siltstone2','Shale2')},\n",
    "                )\n",
    "    ### Model 5 - One normal Fault ###\n",
    "    ### Model 8 - ###\n",
    "    elif name_model in subset_list_2:\n",
    "        gp.map_series_to_surfaces(geo_data, {\"Fault_Series\":'Main_Fault',\n",
    "                             \"Strat_Series\": ('Sandstone','Siltstone','Shale', 'Sandstone_2', 'Schist', 'Gneiss')},\n",
    "               )\n",
    "        geo_data.set_is_fault(['Fault_Series'])\n",
    "    elif name_model in subset_list_3:\n",
    "        ### Model 2 - Aufwölbung (durch Salzstock?) ###\n",
    "        ### Model 3+9 - Parallele NNE Schichtung ohne Verwerfung ###\n",
    "        ### Model 6 - Mulde ###\n",
    "        gp.map_series_to_surfaces(geo_data, {\"Strat_Series\":('Sandstone','Siltstone','Shale','Sandstone_2', 'Schist', 'Gneiss')},\n",
    "               )\n",
    "    \n",
    "    elif name_model in subset_list_4:\n",
    "        ### Model 7 - Graben ###\n",
    "        gp.map_series_to_surfaces(geo_data, {\"Fault_1\":'Fault_1',\"Fault_2\":'Fault_2',\n",
    "                                 \"Strat_Series\":('Sandstone','Siltstone','Shale', 'Sandstone_2', 'Schist', 'Gneiss')},\n",
    "                    )\n",
    "        geo_data.set_is_fault(['Fault_1', 'Fault_2'])\n",
    "\n",
    "    else:\n",
    "        print('You would never reach this point. Look for the bug')\n",
    "        \n",
    "   \n",
    "    \n",
    "    # Interpolation and Computation\n",
    "    if interpolator is None:\n",
    "        interp_data = gp.set_interpolation_data(geo_data, theano_optimizer='fast_run')\n",
    "    else:\n",
    "        interp_data = interpolator\n",
    "        geo_data.set_theano_function(interpolator)\n",
    "    sol = gp.compute_model(geo_data)\n",
    "    #ver , sim = gp.get_surfaces(interp_data, lith_block[1], fault_block[1])\n",
    "    \n",
    "    if plot_section is True:\n",
    "        # 2D Plot\n",
    "        gp.plot.plot_section(geo_data, cell_number=25,\n",
    "                         direction='y', show_data=True)\n",
    "    \n",
    "    if save_pickle is not False:\n",
    "        if type(save_pickle) is str:\n",
    "            gp.save_model_to_pickle(geo_data, save_pickle)\n",
    "        else:\n",
    "            gp.save_model_to_pickle(geo_data, 'lisa-'+str(n_model))\n",
    "    \n",
    "    return interp_data        "
   ]
  },
  {
   "cell_type": "code",
   "execution_count": 4,
   "metadata": {},
   "outputs": [],
   "source": [
    "def generate_all_models(list_of_models):\n",
    "    \n",
    "    for e, n in enumerate(list_of_models):\n",
    "        if e ==0:\n",
    "            interp = create_example(n, None, save_pickle=False, plot_section=True)\n",
    "        else:\n",
    "            create_example(n, interp, save_pickle=False, plot_section=True)"
   ]
  },
  {
   "cell_type": "code",
   "execution_count": null,
   "metadata": {
    "scrolled": false
   },
   "outputs": [
    {
     "name": "stdout",
     "output_type": "stream",
     "text": [
      "Active grids: ['regular']\n"
     ]
    },
    {
     "name": "stderr",
     "output_type": "stream",
     "text": [
      "/home/namur/coding/environments/python_3.6.8/lib/python3.6/site-packages/gempy/core/data.py:1618: UserWarning: If pole_vector and orientation are passed pole_vector is used/\n",
      "  warnings.warn('If pole_vector and orientation are passed pole_vector is used/')\n"
     ]
    },
    {
     "name": "stdout",
     "output_type": "stream",
     "text": [
      "Fault colors changed. If you do not like this behavior, set change_color to False.\n",
      "Compiling theano function...\n"
     ]
    }
   ],
   "source": [
    "create_example('Model 5')"
   ]
  },
  {
   "cell_type": "code",
   "execution_count": null,
   "metadata": {
    "scrolled": false
   },
   "outputs": [],
   "source": [
    "generate_all_models(['Model 1' ,'Model 2', 'Model 3', \n",
    "                     'Model 5', 'Model 6','Model 7',\n",
    "                     'Model 8', 'Model 9'])"
   ]
  },
  {
   "cell_type": "code",
   "execution_count": null,
   "metadata": {},
   "outputs": [],
   "source": []
  }
 ],
 "metadata": {
  "kernelspec": {
   "display_name": "Python 3",
   "language": "python",
   "name": "python3"
  },
  "language_info": {
   "codemirror_mode": {
    "name": "ipython",
    "version": 3
   },
   "file_extension": ".py",
   "mimetype": "text/x-python",
   "name": "python",
   "nbconvert_exporter": "python",
   "pygments_lexer": "ipython3",
   "version": "3.6.9"
  }
 },
 "nbformat": 4,
 "nbformat_minor": 2
}
