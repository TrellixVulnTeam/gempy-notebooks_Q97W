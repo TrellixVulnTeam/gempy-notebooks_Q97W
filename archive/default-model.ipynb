{
 "cells": [
  {
   "cell_type": "code",
   "execution_count": 1,
   "metadata": {},
   "outputs": [
    {
     "name": "stderr",
     "output_type": "stream",
     "text": [
      "WARNING (theano.tensor.blas): Using NumPy C-API based implementation for BLAS functions.\n"
     ]
    }
   ],
   "source": [
    "# Import libs\n",
    "import sys\n",
    "sys.path\n",
    "sys.path.append('../service/')\n",
    "\n",
    "import gempy as gp\n",
    "import numpy as np\n",
    "import pandas as pd"
   ]
  },
  {
   "cell_type": "code",
   "execution_count": 2,
   "metadata": {},
   "outputs": [],
   "source": [
    "# instantiate geo_model\n",
    "geo_model = gp.create_model('GeoModel')"
   ]
  },
  {
   "cell_type": "code",
   "execution_count": 3,
   "metadata": {},
   "outputs": [],
   "source": [
    "# External data path\n",
    "data_path = 'https://raw.githubusercontent.com/cgre-aachen/gempy_data/master/'\n",
    "\n",
    "# Importing the data from CSV-files and setting extent and resolution\n",
    "input_data_orientations = pd.read_csv(\n",
    "    data_path + \"/data/input_data/getting_started/simple_fault_model_orientations.csv\"\n",
    ")\n",
    "input_data_surface_points = pd.read_csv(\n",
    "    data_path + \"/data/input_data/getting_started/simple_fault_model_points.csv\"\n",
    ")"
   ]
  },
  {
   "cell_type": "code",
   "execution_count": 6,
   "metadata": {},
   "outputs": [],
   "source": [
    "# Series\n",
    "series_df = pd.DataFrame(columns=['name', 'isfault'])\n",
    "series_df.loc['Fault_Series'] = { 'name': 'Fault_Series', 'isfault': True }\n",
    "series_df.loc['Strat_Series'] = { 'name': 'Strat_Series', 'isfault': False }\n",
    "\n",
    "# Surfaces\n",
    "surfaces_df = pd.DataFrame(columns=['name', 'serie'])\n",
    "surfaces_df.loc[\"Main_Fault\"] = { \"name\": \"Main_Fault\", 'serie': 'Fault_Series' }\n",
    "surfaces_df.loc[\"Shale\"] = { \"name\": \"Shale\", 'serie': 'Strat_Series' }\n",
    "surfaces_df.loc[\"Sandstone_1\"] = { \"name\": \"Sandstone_1\", 'serie': 'Strat_Series' }\n",
    "surfaces_df.loc[\"Siltstone\"] = { \"name\": \"Siltstone\", 'serie': 'Strat_Series' }\n",
    "surfaces_df.loc[\"Sandstone_2\"] = { \"name\": \"Sandstone_2\", 'serie': 'Strat_Series' }\n",
    "surfaces_df.loc[\"Basement\"] = { \"name\": \"Basement\", 'serie': 'Strat_Series' }"
   ]
  },
  {
   "cell_type": "code",
   "execution_count": 7,
   "metadata": {},
   "outputs": [
    {
     "data": {
      "text/html": [
       "<div>\n",
       "<style scoped>\n",
       "    .dataframe tbody tr th:only-of-type {\n",
       "        vertical-align: middle;\n",
       "    }\n",
       "\n",
       "    .dataframe tbody tr th {\n",
       "        vertical-align: top;\n",
       "    }\n",
       "\n",
       "    .dataframe thead th {\n",
       "        text-align: right;\n",
       "    }\n",
       "</style>\n",
       "<table border=\"1\" class=\"dataframe\">\n",
       "  <thead>\n",
       "    <tr style=\"text-align: right;\">\n",
       "      <th></th>\n",
       "      <th>order_series</th>\n",
       "      <th>BottomRelation</th>\n",
       "      <th>isActive</th>\n",
       "    </tr>\n",
       "  </thead>\n",
       "  <tbody>\n",
       "    <tr>\n",
       "      <th>Default series</th>\n",
       "      <td>1</td>\n",
       "      <td>Erosion</td>\n",
       "      <td>False</td>\n",
       "    </tr>\n",
       "  </tbody>\n",
       "</table>\n",
       "</div>"
      ],
      "text/plain": [
       "                order_series BottomRelation  isActive\n",
       "Default series             1        Erosion     False"
      ]
     },
     "execution_count": 7,
     "metadata": {},
     "output_type": "execute_result"
    }
   ],
   "source": [
    "geo_model."
   ]
  },
  {
   "cell_type": "code",
   "execution_count": null,
   "metadata": {},
   "outputs": [],
   "source": []
  }
 ],
 "metadata": {
  "kernelspec": {
   "display_name": "Python 3",
   "language": "python",
   "name": "python3"
  },
  "language_info": {
   "codemirror_mode": {
    "name": "ipython",
    "version": 3
   },
   "file_extension": ".py",
   "mimetype": "text/x-python",
   "name": "python",
   "nbconvert_exporter": "python",
   "pygments_lexer": "ipython3",
   "version": "3.8.2"
  }
 },
 "nbformat": 4,
 "nbformat_minor": 4
}
