{
 "cells": [
  {
   "cell_type": "code",
   "execution_count": 2,
   "metadata": {},
   "outputs": [
    {
     "name": "stdout",
     "output_type": "stream",
     "text": [
      "/home/stefan/coding/notebooks/env/bin/python\n"
     ]
    }
   ],
   "source": [
    "import sys\n",
    "sys.path\n",
    "sys.path.append('../service/')\n",
    "\n",
    "print(sys.executable)"
   ]
  },
  {
   "cell_type": "code",
   "execution_count": 3,
   "metadata": {},
   "outputs": [
    {
     "name": "stderr",
     "output_type": "stream",
     "text": [
      "WARNING (theano.tensor.blas): Using NumPy C-API based implementation for BLAS functions.\n"
     ]
    }
   ],
   "source": [
    "# standart libs\n",
    "import random\n",
    "import copy\n",
    "\n",
    "# 3rd party libs\n",
    "import pandas as pd\n",
    "import numpy as np\n",
    "import scipy.stats as ss\n",
    "import matplotlib.pyplot as plt\n",
    "import gempy as gp\n",
    "from gempy.utils import section_utils\n",
    "\n",
    "# local\n",
    "import functions as fun"
   ]
  },
  {
   "cell_type": "markdown",
   "metadata": {},
   "source": [
    "## Init the geo_model"
   ]
  },
  {
   "cell_type": "code",
   "execution_count": 4,
   "metadata": {},
   "outputs": [
    {
     "name": "stdout",
     "output_type": "stream",
     "text": [
      "Active grids: ['regular']\n",
      "Setting kriging parameters to their default values.\n",
      "Compiling theano function...\n",
      "Level of Optimization:  fast_run\n",
      "Device:  cpu\n",
      "Precision:  float64\n",
      "Number of faults:  0\n",
      "Compilation Done!\n",
      "Kriging values: \n",
      "                     values\n",
      "range              1.73205\n",
      "$C_o$            0.0714286\n",
      "drift equations        [3]\n"
     ]
    },
    {
     "data": {
      "text/plain": [
       "<gempy.core.interpolator.InterpolatorModel at 0x7f8285ae4be0>"
      ]
     },
     "execution_count": 4,
     "metadata": {},
     "output_type": "execute_result"
    }
   ],
   "source": [
    "# instantiate the geo_model\n",
    "geo_model = gp.create_model(\"BaseModel\")\n",
    "\n",
    "# defautl data\n",
    "geo_model = gp.init_data(\n",
    "    geo_model,\n",
    "    extent=[0, 1, 0, 1, 0, 1],\n",
    "    resolution=[5, 5, 5]\n",
    ")\n",
    "\n",
    "# compile theno function\n",
    "gp.set_interpolation_data(\n",
    "    geo_model,\n",
    "    compile_theano=True,\n",
    "    theano_optimizer='fast_run',\n",
    ")"
   ]
  },
  {
   "cell_type": "markdown",
   "metadata": {},
   "source": [
    "### Series"
   ]
  },
  {
   "cell_type": "code",
   "execution_count": 6,
   "metadata": {},
   "outputs": [],
   "source": [
    "# set some series\n",
    "series_df = pd.DataFrame(columns=['name', 'isfault', 'order_series'])\n",
    "series_df.loc[2] = { 'order_series': 2, 'name': 'Fault_Series', 'isfault': True }\n",
    "series_df.loc[0] = { 'order_series': 0, 'name': 'Basement', 'isfault': False }\n",
    "series_df.loc[1] = { 'order_series': 1, 'name': 'Strat_Series', 'isfault': False }"
   ]
  },
  {
   "cell_type": "code",
   "execution_count": 7,
   "metadata": {},
   "outputs": [
    {
     "data": {
      "text/html": [
       "<table border=\"1\" class=\"dataframe\">\n",
       "  <thead>\n",
       "    <tr style=\"text-align: right;\">\n",
       "      <th></th>\n",
       "      <th>order_series</th>\n",
       "      <th>BottomRelation</th>\n",
       "      <th>isActive</th>\n",
       "    </tr>\n",
       "  </thead>\n",
       "  <tbody>\n",
       "    <tr>\n",
       "      <th>Default series</th>\n",
       "      <td>1</td>\n",
       "      <td>Erosion</td>\n",
       "      <td>False</td>\n",
       "    </tr>\n",
       "    <tr>\n",
       "      <th>S1</th>\n",
       "      <td>2</td>\n",
       "      <td>Erosion</td>\n",
       "      <td>NaN</td>\n",
       "    </tr>\n",
       "    <tr>\n",
       "      <th>S2</th>\n",
       "      <td>3</td>\n",
       "      <td>Erosion</td>\n",
       "      <td>NaN</td>\n",
       "    </tr>\n",
       "    <tr>\n",
       "      <th>S3</th>\n",
       "      <td>4</td>\n",
       "      <td>Erosion</td>\n",
       "      <td>NaN</td>\n",
       "    </tr>\n",
       "  </tbody>\n",
       "</table>"
      ],
      "text/plain": [
       "                order_series BottomRelation isActive\n",
       "Default series             1        Erosion    False\n",
       "S1                         2        Erosion      NaN\n",
       "S2                         3        Erosion      NaN\n",
       "S3                         4        Erosion      NaN"
      ]
     },
     "execution_count": 7,
     "metadata": {},
     "output_type": "execute_result"
    }
   ],
   "source": [
    "# old series\n",
    "geo_model.add_series(series_list=['S1', 'S2', 'S3'])"
   ]
  },
  {
   "cell_type": "code",
   "execution_count": 8,
   "metadata": {},
   "outputs": [
    {
     "name": "stdout",
     "output_type": "stream",
     "text": [
      "HOTFIX in update_series()\n"
     ]
    },
    {
     "data": {
      "text/html": [
       "<div>\n",
       "<style scoped>\n",
       "    .dataframe tbody tr th:only-of-type {\n",
       "        vertical-align: middle;\n",
       "    }\n",
       "\n",
       "    .dataframe tbody tr th {\n",
       "        vertical-align: top;\n",
       "    }\n",
       "\n",
       "    .dataframe thead th {\n",
       "        text-align: right;\n",
       "    }\n",
       "</style>\n",
       "<table border=\"1\" class=\"dataframe\">\n",
       "  <thead>\n",
       "    <tr style=\"text-align: right;\">\n",
       "      <th></th>\n",
       "      <th>order_series</th>\n",
       "      <th>BottomRelation</th>\n",
       "      <th>isActive</th>\n",
       "    </tr>\n",
       "  </thead>\n",
       "  <tbody>\n",
       "    <tr>\n",
       "      <th>Fault_Series</th>\n",
       "      <td>1</td>\n",
       "      <td>Erosion</td>\n",
       "      <td>NaN</td>\n",
       "    </tr>\n",
       "    <tr>\n",
       "      <th>Basement</th>\n",
       "      <td>2</td>\n",
       "      <td>Erosion</td>\n",
       "      <td>NaN</td>\n",
       "    </tr>\n",
       "    <tr>\n",
       "      <th>Strat_Series</th>\n",
       "      <td>3</td>\n",
       "      <td>Erosion</td>\n",
       "      <td>NaN</td>\n",
       "    </tr>\n",
       "  </tbody>\n",
       "</table>\n",
       "</div>"
      ],
      "text/plain": [
       "              order_series BottomRelation isActive\n",
       "Fault_Series             1        Erosion      NaN\n",
       "Basement                 2        Erosion      NaN\n",
       "Strat_Series             3        Erosion      NaN"
      ]
     },
     "execution_count": 8,
     "metadata": {},
     "output_type": "execute_result"
    }
   ],
   "source": [
    "fun.update_series(geo_model, series_df)\n",
    "geo_model.series.df"
   ]
  },
  {
   "cell_type": "markdown",
   "metadata": {},
   "source": [
    "### Surfaces"
   ]
  },
  {
   "cell_type": "code",
   "execution_count": 9,
   "metadata": {},
   "outputs": [],
   "source": [
    "surfaces_df = pd.DataFrame(columns=['name', 'serie', 'order_surface'])\n",
    "surfaces_df.loc[0] = { 'name': 'Sandstone', 'serie': 'Strat_Series', 'order_surface': 0 }\n",
    "surfaces_df.loc[1] = { 'name': 'Silt', 'serie': 'Strat_Series', 'order_surface': 1 }\n",
    "surfaces_df.loc[2] = { 'name': 'Shale', 'serie': 'Strat_Series', 'order_surface': 2 }"
   ]
  },
  {
   "cell_type": "code",
   "execution_count": 10,
   "metadata": {},
   "outputs": [
    {
     "data": {
      "text/html": [
       "<style  type=\"text/css\" >\n",
       "    #T_d51fb784_b785_11ea_a781_b75d26dd686frow0_col4 {\n",
       "            background-color:  #015482;\n",
       "        }    #T_d51fb784_b785_11ea_a781_b75d26dd686frow1_col4 {\n",
       "            background-color:  #9f0052;\n",
       "        }</style><table id=\"T_d51fb784_b785_11ea_a781_b75d26dd686f\" ><thead>    <tr>        <th class=\"blank level0\" ></th>        <th class=\"col_heading level0 col0\" >surface</th>        <th class=\"col_heading level0 col1\" >series</th>        <th class=\"col_heading level0 col2\" >order_surfaces</th>        <th class=\"col_heading level0 col3\" >isActive</th>        <th class=\"col_heading level0 col4\" >color</th>        <th class=\"col_heading level0 col5\" >id</th>    </tr></thead><tbody>\n",
       "                <tr>\n",
       "                        <th id=\"T_d51fb784_b785_11ea_a781_b75d26dd686flevel0_row0\" class=\"row_heading level0 row0\" >0</th>\n",
       "                        <td id=\"T_d51fb784_b785_11ea_a781_b75d26dd686frow0_col0\" class=\"data row0 col0\" >Fake1</td>\n",
       "                        <td id=\"T_d51fb784_b785_11ea_a781_b75d26dd686frow0_col1\" class=\"data row0 col1\" >Strat_Series</td>\n",
       "                        <td id=\"T_d51fb784_b785_11ea_a781_b75d26dd686frow0_col2\" class=\"data row0 col2\" >1</td>\n",
       "                        <td id=\"T_d51fb784_b785_11ea_a781_b75d26dd686frow0_col3\" class=\"data row0 col3\" >nan</td>\n",
       "                        <td id=\"T_d51fb784_b785_11ea_a781_b75d26dd686frow0_col4\" class=\"data row0 col4\" >#015482</td>\n",
       "                        <td id=\"T_d51fb784_b785_11ea_a781_b75d26dd686frow0_col5\" class=\"data row0 col5\" >1</td>\n",
       "            </tr>\n",
       "            <tr>\n",
       "                        <th id=\"T_d51fb784_b785_11ea_a781_b75d26dd686flevel0_row1\" class=\"row_heading level0 row1\" >1</th>\n",
       "                        <td id=\"T_d51fb784_b785_11ea_a781_b75d26dd686frow1_col0\" class=\"data row1 col0\" >Fake2</td>\n",
       "                        <td id=\"T_d51fb784_b785_11ea_a781_b75d26dd686frow1_col1\" class=\"data row1 col1\" >Strat_Series</td>\n",
       "                        <td id=\"T_d51fb784_b785_11ea_a781_b75d26dd686frow1_col2\" class=\"data row1 col2\" >2</td>\n",
       "                        <td id=\"T_d51fb784_b785_11ea_a781_b75d26dd686frow1_col3\" class=\"data row1 col3\" >nan</td>\n",
       "                        <td id=\"T_d51fb784_b785_11ea_a781_b75d26dd686frow1_col4\" class=\"data row1 col4\" >#9f0052</td>\n",
       "                        <td id=\"T_d51fb784_b785_11ea_a781_b75d26dd686frow1_col5\" class=\"data row1 col5\" >2</td>\n",
       "            </tr>\n",
       "    </tbody></table>"
      ],
      "text/plain": [
       "  surface        series  order_surfaces isActive    color  id\n",
       "0   Fake1  Strat_Series               1      NaN  #015482   1\n",
       "1   Fake2  Strat_Series               2      NaN  #9f0052   2"
      ]
     },
     "execution_count": 10,
     "metadata": {},
     "output_type": "execute_result"
    }
   ],
   "source": [
    "geo_model.add_surfaces(['Fake1', 'Fake2'])"
   ]
  },
  {
   "cell_type": "code",
   "execution_count": 11,
   "metadata": {},
   "outputs": [
    {
     "data": {
      "text/html": [
       "<div>\n",
       "<style scoped>\n",
       "    .dataframe tbody tr th:only-of-type {\n",
       "        vertical-align: middle;\n",
       "    }\n",
       "\n",
       "    .dataframe tbody tr th {\n",
       "        vertical-align: top;\n",
       "    }\n",
       "\n",
       "    .dataframe thead th {\n",
       "        text-align: right;\n",
       "    }\n",
       "</style>\n",
       "<table border=\"1\" class=\"dataframe\">\n",
       "  <thead>\n",
       "    <tr style=\"text-align: right;\">\n",
       "      <th></th>\n",
       "      <th>surface</th>\n",
       "      <th>series</th>\n",
       "      <th>order_surfaces</th>\n",
       "      <th>isBasement</th>\n",
       "      <th>isFault</th>\n",
       "      <th>isActive</th>\n",
       "      <th>color</th>\n",
       "      <th>vertices</th>\n",
       "      <th>edges</th>\n",
       "      <th>sfai</th>\n",
       "      <th>id</th>\n",
       "    </tr>\n",
       "  </thead>\n",
       "  <tbody>\n",
       "    <tr>\n",
       "      <th>0</th>\n",
       "      <td>Sandstone</td>\n",
       "      <td>Strat_Series</td>\n",
       "      <td>1</td>\n",
       "      <td>False</td>\n",
       "      <td>False</td>\n",
       "      <td>NaN</td>\n",
       "      <td>#015482</td>\n",
       "      <td>NaN</td>\n",
       "      <td>NaN</td>\n",
       "      <td>NaN</td>\n",
       "      <td>1</td>\n",
       "    </tr>\n",
       "    <tr>\n",
       "      <th>1</th>\n",
       "      <td>Silt</td>\n",
       "      <td>Strat_Series</td>\n",
       "      <td>2</td>\n",
       "      <td>False</td>\n",
       "      <td>False</td>\n",
       "      <td>NaN</td>\n",
       "      <td>#9f0052</td>\n",
       "      <td>NaN</td>\n",
       "      <td>NaN</td>\n",
       "      <td>NaN</td>\n",
       "      <td>2</td>\n",
       "    </tr>\n",
       "    <tr>\n",
       "      <th>2</th>\n",
       "      <td>Shale</td>\n",
       "      <td>Strat_Series</td>\n",
       "      <td>3</td>\n",
       "      <td>True</td>\n",
       "      <td>False</td>\n",
       "      <td>NaN</td>\n",
       "      <td>#ffbe00</td>\n",
       "      <td>NaN</td>\n",
       "      <td>NaN</td>\n",
       "      <td>NaN</td>\n",
       "      <td>3</td>\n",
       "    </tr>\n",
       "  </tbody>\n",
       "</table>\n",
       "</div>"
      ],
      "text/plain": [
       "     surface        series  order_surfaces  isBasement isFault isActive  \\\n",
       "0  Sandstone  Strat_Series               1       False   False      NaN   \n",
       "1       Silt  Strat_Series               2       False   False      NaN   \n",
       "2      Shale  Strat_Series               3        True   False      NaN   \n",
       "\n",
       "     color vertices edges sfai  id  \n",
       "0  #015482      NaN   NaN  NaN   1  \n",
       "1  #9f0052      NaN   NaN  NaN   2  \n",
       "2  #ffbe00      NaN   NaN  NaN   3  "
      ]
     },
     "execution_count": 11,
     "metadata": {},
     "output_type": "execute_result"
    }
   ],
   "source": [
    "fun.update_surfaces(geo_model, surfaces_df)\n",
    "geo_model.surfaces.df"
   ]
  },
  {
   "cell_type": "markdown",
   "metadata": {},
   "source": [
    "### Input"
   ]
  },
  {
   "cell_type": "code",
   "execution_count": 12,
   "metadata": {},
   "outputs": [],
   "source": [
    "geo_model_extent = [0,2000,0,2000,0,2000]\n",
    "section = {\n",
    "    'p1': [0, 1000],\n",
    "    'p2': [2000, 1000],\n",
    "    'resolution': [200, 200]\n",
    "}\n",
    "\n",
    "series_df = pd.read_csv('./data/simple_fault_model_series.csv')\n",
    "surfaces_df = pd.read_csv('./data/simple_fault_model_surfaces.csv')\n",
    "\n",
    "surface_points_input_data = pd.read_csv('./data/simple_fault_model_points.csv')\n",
    "orientaions_input_data = pd.read_csv('./data/simple_fault_model_orientations.csv')\n",
    "\n",
    "# Format geological_input_data\n",
    "surface_points_original_df = surface_points_input_data[['X', 'Y', 'Z', 'formation']]\n",
    "\n",
    "# rename colums\n",
    "surface_points_original_df.columns = ['X', 'Y', 'Z', 'surface']\n",
    "\n",
    "# add distribution type and parameter\n",
    "surface_points_original_df['param1'] = 10\n",
    "\n",
    "# Orientaions\n",
    "orientations_original_df = orientaions_input_data[['X', 'Y', 'Z', 'dip', 'azimuth', 'polarity', 'formation']]"
   ]
  },
  {
   "cell_type": "code",
   "execution_count": 14,
   "metadata": {},
   "outputs": [
    {
     "data": {
      "text/html": [
       "<div>\n",
       "<style scoped>\n",
       "    .dataframe tbody tr th:only-of-type {\n",
       "        vertical-align: middle;\n",
       "    }\n",
       "\n",
       "    .dataframe tbody tr th {\n",
       "        vertical-align: top;\n",
       "    }\n",
       "\n",
       "    .dataframe thead th {\n",
       "        text-align: right;\n",
       "    }\n",
       "</style>\n",
       "<table border=\"1\" class=\"dataframe\">\n",
       "  <thead>\n",
       "    <tr style=\"text-align: right;\">\n",
       "      <th></th>\n",
       "      <th>name</th>\n",
       "      <th>serie</th>\n",
       "    </tr>\n",
       "  </thead>\n",
       "  <tbody>\n",
       "    <tr>\n",
       "      <th>0</th>\n",
       "      <td>Main_Fault</td>\n",
       "      <td>Fault_Series</td>\n",
       "    </tr>\n",
       "    <tr>\n",
       "      <th>1</th>\n",
       "      <td>Sandstone_2</td>\n",
       "      <td>Strat_Series</td>\n",
       "    </tr>\n",
       "    <tr>\n",
       "      <th>2</th>\n",
       "      <td>Siltstone</td>\n",
       "      <td>Strat_Series</td>\n",
       "    </tr>\n",
       "    <tr>\n",
       "      <th>3</th>\n",
       "      <td>Shale</td>\n",
       "      <td>Strat_Series</td>\n",
       "    </tr>\n",
       "    <tr>\n",
       "      <th>4</th>\n",
       "      <td>Sandstone_1</td>\n",
       "      <td>Strat_Series</td>\n",
       "    </tr>\n",
       "    <tr>\n",
       "      <th>5</th>\n",
       "      <td>basement</td>\n",
       "      <td>Strat_Series</td>\n",
       "    </tr>\n",
       "  </tbody>\n",
       "</table>\n",
       "</div>"
      ],
      "text/plain": [
       "          name         serie\n",
       "0   Main_Fault  Fault_Series\n",
       "1  Sandstone_2  Strat_Series\n",
       "2    Siltstone  Strat_Series\n",
       "3        Shale  Strat_Series\n",
       "4  Sandstone_1  Strat_Series\n",
       "5     basement  Strat_Series"
      ]
     },
     "execution_count": 14,
     "metadata": {},
     "output_type": "execute_result"
    }
   ],
   "source": [
    "surfaces_df"
   ]
  },
  {
   "cell_type": "code",
   "execution_count": 11,
   "metadata": {},
   "outputs": [
    {
     "name": "stdout",
     "output_type": "stream",
     "text": [
      "Active grids: ['regular']\n",
      "Active grids: ['regular' 'sections']\n",
      "Fault colors changed. If you do not like this behavior, set change_color to False.\n",
      "HOTFIX in update_series()\n"
     ]
    },
    {
     "data": {
      "text/plain": [
       "True"
      ]
     },
     "execution_count": 11,
     "metadata": {},
     "output_type": "execute_result"
    }
   ],
   "source": [
    "fun.set_congiguration(geo_model, geo_model_extent, section)\n",
    "fun.update_series(geo_model, series_df)\n",
    "fun.update_surfaces(geo_model, surfaces_df)\n",
    "geo_model.set_surface_points(surface_points_original_df, update_surfaces=False)\n",
    "geo_model.set_orientations(orientations_original_df, update_surfaces=False)\n",
    "geo_model.update_to_interpolator()"
   ]
  },
  {
   "cell_type": "code",
   "execution_count": 12,
   "metadata": {},
   "outputs": [
    {
     "name": "stdout",
     "output_type": "stream",
     "text": [
      "Run realizations setup checks until stable workflow.\n"
     ]
    }
   ],
   "source": [
    "fun.check_setup_single_realization(geo_model)"
   ]
  },
  {
   "cell_type": "code",
   "execution_count": 18,
   "metadata": {},
   "outputs": [
    {
     "data": {
      "text/html": [
       "<style  type=\"text/css\" >\n",
       "    #T_ee78b838_b6e6_11ea_aca0_adf396ad11d1row0_col4 {\n",
       "            background-color:  #015482;\n",
       "        }    #T_ee78b838_b6e6_11ea_aca0_adf396ad11d1row1_col4 {\n",
       "            background-color:  #9f0052;\n",
       "        }    #T_ee78b838_b6e6_11ea_aca0_adf396ad11d1row2_col4 {\n",
       "            background-color:  #ffbe00;\n",
       "        }    #T_ee78b838_b6e6_11ea_aca0_adf396ad11d1row3_col4 {\n",
       "            background-color:  #728f02;\n",
       "        }    #T_ee78b838_b6e6_11ea_aca0_adf396ad11d1row4_col4 {\n",
       "            background-color:  #443988;\n",
       "        }    #T_ee78b838_b6e6_11ea_aca0_adf396ad11d1row5_col4 {\n",
       "            background-color:  #ff3f20;\n",
       "        }</style><table id=\"T_ee78b838_b6e6_11ea_aca0_adf396ad11d1\" ><thead>    <tr>        <th class=\"blank level0\" ></th>        <th class=\"col_heading level0 col0\" >surface</th>        <th class=\"col_heading level0 col1\" >series</th>        <th class=\"col_heading level0 col2\" >order_surfaces</th>        <th class=\"col_heading level0 col3\" >isActive</th>        <th class=\"col_heading level0 col4\" >color</th>        <th class=\"col_heading level0 col5\" >id</th>    </tr></thead><tbody>\n",
       "                <tr>\n",
       "                        <th id=\"T_ee78b838_b6e6_11ea_aca0_adf396ad11d1level0_row0\" class=\"row_heading level0 row0\" >0</th>\n",
       "                        <td id=\"T_ee78b838_b6e6_11ea_aca0_adf396ad11d1row0_col0\" class=\"data row0 col0\" >Main_Fault</td>\n",
       "                        <td id=\"T_ee78b838_b6e6_11ea_aca0_adf396ad11d1row0_col1\" class=\"data row0 col1\" >Fault_Series</td>\n",
       "                        <td id=\"T_ee78b838_b6e6_11ea_aca0_adf396ad11d1row0_col2\" class=\"data row0 col2\" >1</td>\n",
       "                        <td id=\"T_ee78b838_b6e6_11ea_aca0_adf396ad11d1row0_col3\" class=\"data row0 col3\" >True</td>\n",
       "                        <td id=\"T_ee78b838_b6e6_11ea_aca0_adf396ad11d1row0_col4\" class=\"data row0 col4\" >#015482</td>\n",
       "                        <td id=\"T_ee78b838_b6e6_11ea_aca0_adf396ad11d1row0_col5\" class=\"data row0 col5\" >1</td>\n",
       "            </tr>\n",
       "            <tr>\n",
       "                        <th id=\"T_ee78b838_b6e6_11ea_aca0_adf396ad11d1level0_row1\" class=\"row_heading level0 row1\" >1</th>\n",
       "                        <td id=\"T_ee78b838_b6e6_11ea_aca0_adf396ad11d1row1_col0\" class=\"data row1 col0\" >Sandstone_2</td>\n",
       "                        <td id=\"T_ee78b838_b6e6_11ea_aca0_adf396ad11d1row1_col1\" class=\"data row1 col1\" >Strat_Series</td>\n",
       "                        <td id=\"T_ee78b838_b6e6_11ea_aca0_adf396ad11d1row1_col2\" class=\"data row1 col2\" >1</td>\n",
       "                        <td id=\"T_ee78b838_b6e6_11ea_aca0_adf396ad11d1row1_col3\" class=\"data row1 col3\" >True</td>\n",
       "                        <td id=\"T_ee78b838_b6e6_11ea_aca0_adf396ad11d1row1_col4\" class=\"data row1 col4\" >#9f0052</td>\n",
       "                        <td id=\"T_ee78b838_b6e6_11ea_aca0_adf396ad11d1row1_col5\" class=\"data row1 col5\" >2</td>\n",
       "            </tr>\n",
       "            <tr>\n",
       "                        <th id=\"T_ee78b838_b6e6_11ea_aca0_adf396ad11d1level0_row2\" class=\"row_heading level0 row2\" >2</th>\n",
       "                        <td id=\"T_ee78b838_b6e6_11ea_aca0_adf396ad11d1row2_col0\" class=\"data row2 col0\" >Siltstone</td>\n",
       "                        <td id=\"T_ee78b838_b6e6_11ea_aca0_adf396ad11d1row2_col1\" class=\"data row2 col1\" >Strat_Series</td>\n",
       "                        <td id=\"T_ee78b838_b6e6_11ea_aca0_adf396ad11d1row2_col2\" class=\"data row2 col2\" >2</td>\n",
       "                        <td id=\"T_ee78b838_b6e6_11ea_aca0_adf396ad11d1row2_col3\" class=\"data row2 col3\" >True</td>\n",
       "                        <td id=\"T_ee78b838_b6e6_11ea_aca0_adf396ad11d1row2_col4\" class=\"data row2 col4\" >#ffbe00</td>\n",
       "                        <td id=\"T_ee78b838_b6e6_11ea_aca0_adf396ad11d1row2_col5\" class=\"data row2 col5\" >3</td>\n",
       "            </tr>\n",
       "            <tr>\n",
       "                        <th id=\"T_ee78b838_b6e6_11ea_aca0_adf396ad11d1level0_row3\" class=\"row_heading level0 row3\" >3</th>\n",
       "                        <td id=\"T_ee78b838_b6e6_11ea_aca0_adf396ad11d1row3_col0\" class=\"data row3 col0\" >Shale</td>\n",
       "                        <td id=\"T_ee78b838_b6e6_11ea_aca0_adf396ad11d1row3_col1\" class=\"data row3 col1\" >Strat_Series</td>\n",
       "                        <td id=\"T_ee78b838_b6e6_11ea_aca0_adf396ad11d1row3_col2\" class=\"data row3 col2\" >3</td>\n",
       "                        <td id=\"T_ee78b838_b6e6_11ea_aca0_adf396ad11d1row3_col3\" class=\"data row3 col3\" >True</td>\n",
       "                        <td id=\"T_ee78b838_b6e6_11ea_aca0_adf396ad11d1row3_col4\" class=\"data row3 col4\" >#728f02</td>\n",
       "                        <td id=\"T_ee78b838_b6e6_11ea_aca0_adf396ad11d1row3_col5\" class=\"data row3 col5\" >4</td>\n",
       "            </tr>\n",
       "            <tr>\n",
       "                        <th id=\"T_ee78b838_b6e6_11ea_aca0_adf396ad11d1level0_row4\" class=\"row_heading level0 row4\" >4</th>\n",
       "                        <td id=\"T_ee78b838_b6e6_11ea_aca0_adf396ad11d1row4_col0\" class=\"data row4 col0\" >Sandstone_1</td>\n",
       "                        <td id=\"T_ee78b838_b6e6_11ea_aca0_adf396ad11d1row4_col1\" class=\"data row4 col1\" >Strat_Series</td>\n",
       "                        <td id=\"T_ee78b838_b6e6_11ea_aca0_adf396ad11d1row4_col2\" class=\"data row4 col2\" >4</td>\n",
       "                        <td id=\"T_ee78b838_b6e6_11ea_aca0_adf396ad11d1row4_col3\" class=\"data row4 col3\" >True</td>\n",
       "                        <td id=\"T_ee78b838_b6e6_11ea_aca0_adf396ad11d1row4_col4\" class=\"data row4 col4\" >#443988</td>\n",
       "                        <td id=\"T_ee78b838_b6e6_11ea_aca0_adf396ad11d1row4_col5\" class=\"data row4 col5\" >5</td>\n",
       "            </tr>\n",
       "            <tr>\n",
       "                        <th id=\"T_ee78b838_b6e6_11ea_aca0_adf396ad11d1level0_row5\" class=\"row_heading level0 row5\" >5</th>\n",
       "                        <td id=\"T_ee78b838_b6e6_11ea_aca0_adf396ad11d1row5_col0\" class=\"data row5 col0\" >basement</td>\n",
       "                        <td id=\"T_ee78b838_b6e6_11ea_aca0_adf396ad11d1row5_col1\" class=\"data row5 col1\" >Strat_Series</td>\n",
       "                        <td id=\"T_ee78b838_b6e6_11ea_aca0_adf396ad11d1row5_col2\" class=\"data row5 col2\" >5</td>\n",
       "                        <td id=\"T_ee78b838_b6e6_11ea_aca0_adf396ad11d1row5_col3\" class=\"data row5 col3\" >True</td>\n",
       "                        <td id=\"T_ee78b838_b6e6_11ea_aca0_adf396ad11d1row5_col4\" class=\"data row5 col4\" >#ff3f20</td>\n",
       "                        <td id=\"T_ee78b838_b6e6_11ea_aca0_adf396ad11d1row5_col5\" class=\"data row5 col5\" >6</td>\n",
       "            </tr>\n",
       "    </tbody></table>"
      ],
      "text/plain": [
       "       surface        series  order_surfaces  isActive    color  id\n",
       "0   Main_Fault  Fault_Series               1      True  #015482   1\n",
       "1  Sandstone_2  Strat_Series               1      True  #9f0052   2\n",
       "2    Siltstone  Strat_Series               2      True  #ffbe00   3\n",
       "3        Shale  Strat_Series               3      True  #728f02   4\n",
       "4  Sandstone_1  Strat_Series               4      True  #443988   5\n",
       "5     basement  Strat_Series               5      True  #ff3f20   6"
      ]
     },
     "execution_count": 18,
     "metadata": {},
     "output_type": "execute_result"
    }
   ],
   "source": [
    "geo_model.surfaces"
   ]
  },
  {
   "cell_type": "code",
   "execution_count": 13,
   "metadata": {},
   "outputs": [
    {
     "name": "stderr",
     "output_type": "stream",
     "text": [
      "/home/stefan/coding/notebooks/env/lib/python3.8/site-packages/gempy/core/solution.py:196: FutureWarning: marching_cubes_lewiner is deprecated in favor of marching_cubes. marching_cubes_lewiner will be removed in version 0.19\n",
      "  vertices, simplices, normals, values = measure.marching_cubes_lewiner(\n"
     ]
    }
   ],
   "source": [
    "# solution = gp.compute_model(model=geo_model, sort_surfaces=True)\n",
    "# solution = gp.compute_model(model=geo_model, sort_surfaces=True)\n",
    "solution = gp.compute_model(model=geo_model, sort_surfaces=False)\n",
    "solution = gp.compute_model(model=geo_model, sort_surfaces=False)"
   ]
  },
  {
   "cell_type": "code",
   "execution_count": 14,
   "metadata": {},
   "outputs": [
    {
     "data": {
      "image/png": "[encoded data removed]",
      "text/plain": [
       "<Figure size 936x936 with 1 Axes>"
      ]
     },
     "metadata": {},
     "output_type": "display_data"
    }
   ],
   "source": [
    "polygondict, cdict, extent = gp.utils.section_utils.get_polygon_dictionary(\n",
    "    geo_model=geo_model,\n",
    "    section_name=\"section\"\n",
    ")"
   ]
  },
  {
   "cell_type": "code",
   "execution_count": 15,
   "metadata": {},
   "outputs": [
    {
     "name": "stdout",
     "output_type": "stream",
     "text": [
      "Realization: 0\n",
      "Realization: 1\n",
      "Realization: 2\n",
      "Realization: 3\n",
      "Realization: 4\n",
      "Realization: 5\n",
      "Realization: 6\n",
      "Realization: 7\n",
      "Realization: 8\n",
      "Realization: 9\n"
     ]
    }
   ],
   "source": [
    "# Constants\n",
    "n_realizations = 10\n",
    "\n",
    "# Run realizations\n",
    "list_section_data = fun.run_realizations(\n",
    "    geo_model=geo_model,\n",
    "    n_realizations=n_realizations,\n",
    "    surface_points_original_df=surface_points_original_df,\n",
    "    orientations_original_df=orientations_original_df,\n",
    "    section=section\n",
    ")\n",
    "\n",
    "# Process output\n",
    "section_data_stack, lithology_ids = fun.process_list_section_data(\n",
    "    list_section_data=list_section_data)\n",
    "\n",
    "# Count occurrences\n",
    "count_array = fun.count_lithology_occurrences_over_realizations(\n",
    "        section_data_stack=section_data_stack,\n",
    "        lithology_ids=lithology_ids,\n",
    "        section=section\n",
    ")\n",
    "\n",
    "# Calculate entrop\n",
    "entropy_map = fun.calculate_information_entropy(\n",
    "    count_array=count_array, n_realizations=n_realizations)"
   ]
  },
  {
   "cell_type": "code",
   "execution_count": 16,
   "metadata": {},
   "outputs": [
    {
     "data": {
      "image/png": "[encoded data removed]",
      "text/plain": [
       "<Figure size 748.8x514.8 with 2 Axes>"
      ]
     },
     "metadata": {},
     "output_type": "display_data"
    }
   ],
   "source": [
    "plt.imshow(entropy_map[:,::-1].T, cmap='viridis')\n",
    "plt.colorbar()\n",
    "plt.show()"
   ]
  },
  {
   "cell_type": "code",
   "execution_count": null,
   "metadata": {},
   "outputs": [],
   "source": []
  }
 ],
 "metadata": {
  "kernelspec": {
   "display_name": "notebooks",
   "language": "python",
   "name": "notebooks"
  },
  "language_info": {
   "codemirror_mode": {
    "name": "ipython",
    "version": 3
   },
   "file_extension": ".py",
   "mimetype": "text/x-python",
   "name": "python",
   "nbconvert_exporter": "python",
   "pygments_lexer": "ipython3",
   "version": "3.8.2"
  }
 },
 "nbformat": 4,
 "nbformat_minor": 4
}
