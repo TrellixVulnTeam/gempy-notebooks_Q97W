{
 "cells": [
  {
   "cell_type": "code",
   "execution_count": null,
   "metadata": {},
   "outputs": [],
   "source": [
    "import sys\n",
    "sys.path\n",
    "sys.path.append('../service/')\n",
    "\n",
    "print(sys.executable)"
   ]
  },
  {
   "cell_type": "code",
   "execution_count": null,
   "metadata": {},
   "outputs": [],
   "source": [
    "# standart libs\n",
    "import random\n",
    "import copy\n",
    "\n",
    "# 3rd party libs\n",
    "import pandas as pd\n",
    "import numpy as np\n",
    "import scipy.stats as ss\n",
    "import matplotlib.pyplot as plt\n",
    "import gempy as gp\n",
    "from gempy.utils import section_utils\n",
    "\n",
    "# local\n",
    "import functions as fun"
   ]
  },
  {
   "cell_type": "markdown",
   "metadata": {},
   "source": [
    "## Init the geo_model"
   ]
  },
  {
   "cell_type": "code",
   "execution_count": null,
   "metadata": {},
   "outputs": [],
   "source": [
    "# instantiate the geo_model\n",
    "geo_model = gp.create_model(\"BaseModel\")\n",
    "\n",
    "# defautl data\n",
    "geo_model = gp.init_data(\n",
    "    geo_model,\n",
    "    extent=[0, 1, 0, 1, 0, 1],\n",
    "    resolution=[5, 5, 5]\n",
    ")\n",
    "\n",
    "# compile theno function\n",
    "gp.set_interpolation_data(\n",
    "    geo_model,\n",
    "    compile_theano=True,\n",
    "    theano_optimizer='fast_run',\n",
    ")"
   ]
  },
  {
   "cell_type": "markdown",
   "metadata": {},
   "source": [
    "### Series"
   ]
  },
  {
   "cell_type": "code",
   "execution_count": null,
   "metadata": {},
   "outputs": [],
   "source": [
    "# set some series\n",
    "series_df = pd.DataFrame(columns=['name', 'isfault', 'order_series'])\n",
    "series_df.loc[2] = { 'order_series': 2, 'name': 'Fault_Series', 'isfault': True }\n",
    "series_df.loc[0] = { 'order_series': 0, 'name': 'Basement', 'isfault': False }\n",
    "series_df.loc[1] = { 'order_series': 1, 'name': 'Strat_Series', 'isfault': False }"
   ]
  },
  {
   "cell_type": "code",
   "execution_count": null,
   "metadata": {},
   "outputs": [],
   "source": [
    "# old series\n",
    "geo_model.add_series(series_list=['S1', 'S2', 'S3'])"
   ]
  },
  {
   "cell_type": "code",
   "execution_count": null,
   "metadata": {},
   "outputs": [],
   "source": [
    "fun.update_series(geo_model, series_df)\n",
    "geo_model.series.df"
   ]
  },
  {
   "cell_type": "markdown",
   "metadata": {},
   "source": [
    "### Surfaces"
   ]
  },
  {
   "cell_type": "code",
   "execution_count": null,
   "metadata": {},
   "outputs": [],
   "source": [
    "surfaces_df = pd.DataFrame(columns=['name', 'serie', 'order_surface'])\n",
    "surfaces_df.loc[0] = { 'name': 'Sandstone', 'serie': 'Strat_Series', 'order_surface': 0 }\n",
    "surfaces_df.loc[1] = { 'name': 'Silt', 'serie': 'Strat_Series', 'order_surface': 1 }\n",
    "surfaces_df.loc[2] = { 'name': 'Shale', 'serie': 'Strat_Series', 'order_surface': 2 }"
   ]
  },
  {
   "cell_type": "code",
   "execution_count": null,
   "metadata": {},
   "outputs": [],
   "source": [
    "geo_model.add_surfaces(['Fake1', 'Fake2'])"
   ]
  },
  {
   "cell_type": "code",
   "execution_count": null,
   "metadata": {},
   "outputs": [],
   "source": [
    "fun.update_surfaces(geo_model, surfaces_df)\n",
    "geo_model.surfaces.df"
   ]
  },
  {
   "cell_type": "markdown",
   "metadata": {},
   "source": [
    "### Input"
   ]
  },
  {
   "cell_type": "code",
   "execution_count": null,
   "metadata": {},
   "outputs": [],
   "source": [
    "geo_model_extent = [0,2000,0,2000,0,2000]\n",
    "section = {\n",
    "    'p1': [0, 1000],\n",
    "    'p2': [2000, 1000],\n",
    "    'resolution': [200, 200]\n",
    "}\n",
    "\n",
    "series_df = pd.read_csv('./data/simple_fault_model_series.csv')\n",
    "surfaces_df = pd.read_csv('./data/simple_fault_model_surfaces.csv')\n",
    "\n",
    "surface_points_input_data = pd.read_csv('./data/simple_fault_model_points.csv')\n",
    "orientaions_input_data = pd.read_csv('./data/simple_fault_model_orientations.csv')\n",
    "\n",
    "# Format geological_input_data\n",
    "surface_points_original_df = surface_points_input_data[['X', 'Y', 'Z', 'formation']]\n",
    "\n",
    "# rename colums\n",
    "surface_points_original_df.columns = ['X', 'Y', 'Z', 'surface']\n",
    "\n",
    "# add distribution type and parameter\n",
    "surface_points_original_df['param1'] = 10\n",
    "\n",
    "# Orientaions\n",
    "orientations_original_df = orientaions_input_data[['X', 'Y', 'Z', 'dip', 'azimuth', 'polarity', 'formation']]"
   ]
  },
  {
   "cell_type": "code",
   "execution_count": null,
   "metadata": {},
   "outputs": [],
   "source": [
    "surfaces_df"
   ]
  },
  {
   "cell_type": "code",
   "execution_count": null,
   "metadata": {},
   "outputs": [],
   "source": [
    "fun.set_congiguration(geo_model, geo_model_extent, section)\n",
    "fun.update_series(geo_model, series_df)\n",
    "fun.update_surfaces(geo_model, surfaces_df)\n",
    "geo_model.set_surface_points(surface_points_original_df, update_surfaces=False)\n",
    "geo_model.set_orientations(orientations_original_df, update_surfaces=False)\n",
    "geo_model.update_to_interpolator()"
   ]
  },
  {
   "cell_type": "code",
   "execution_count": null,
   "metadata": {},
   "outputs": [],
   "source": [
    "fun.check_setup_single_realization(geo_model)"
   ]
  },
  {
   "cell_type": "code",
   "execution_count": null,
   "metadata": {},
   "outputs": [],
   "source": [
    "geo_model.surfaces"
   ]
  },
  {
   "cell_type": "code",
   "execution_count": null,
   "metadata": {},
   "outputs": [],
   "source": [
    "# solution = gp.compute_model(model=geo_model, sort_surfaces=True)\n",
    "# solution = gp.compute_model(model=geo_model, sort_surfaces=True)\n",
    "solution = gp.compute_model(model=geo_model, sort_surfaces=False)\n",
    "solution = gp.compute_model(model=geo_model, sort_surfaces=False)"
   ]
  },
  {
   "cell_type": "code",
   "execution_count": null,
   "metadata": {},
   "outputs": [],
   "source": [
    "polygondict, cdict, extent = gp.utils.section_utils.get_polygon_dictionary(\n",
    "    geo_model=geo_model,\n",
    "    section_name=\"section\"\n",
    ")"
   ]
  },
  {
   "cell_type": "code",
   "execution_count": null,
   "metadata": {},
   "outputs": [],
   "source": [
    "# Constants\n",
    "n_realizations = 10\n",
    "\n",
    "# Run realizations\n",
    "list_section_data = fun.run_realizations(\n",
    "    geo_model=geo_model,\n",
    "    n_realizations=n_realizations,\n",
    "    surface_points_original_df=surface_points_original_df,\n",
    "    orientations_original_df=orientations_original_df,\n",
    "    section=section\n",
    ")\n",
    "\n",
    "# Process output\n",
    "section_data_stack, lithology_ids = fun.process_list_section_data(\n",
    "    list_section_data=list_section_data)\n",
    "\n",
    "# Count occurrences\n",
    "count_array = fun.count_lithology_occurrences_over_realizations(\n",
    "        section_data_stack=section_data_stack,\n",
    "        lithology_ids=lithology_ids,\n",
    "        section=section\n",
    ")\n",
    "\n",
    "# Calculate entrop\n",
    "entropy_map = fun.calculate_information_entropy(\n",
    "    count_array=count_array, n_realizations=n_realizations)"
   ]
  },
  {
   "cell_type": "code",
   "execution_count": null,
   "metadata": {},
   "outputs": [],
   "source": [
    "plt.imshow(entropy_map[:,::-1].T, cmap='viridis')\n",
    "plt.colorbar()\n",
    "plt.show()"
   ]
  },
  {
   "cell_type": "code",
   "execution_count": null,
   "metadata": {},
   "outputs": [],
   "source": []
  }
 ],
 "metadata": {
  "kernelspec": {
   "display_name": "notebooks",
   "language": "python",
   "name": "notebooks"
  },
  "language_info": {
   "codemirror_mode": {
    "name": "ipython",
    "version": 3
   },
   "file_extension": ".py",
   "mimetype": "text/x-python",
   "name": "python",
   "nbconvert_exporter": "python",
   "pygments_lexer": "ipython3",
   "version": "3.8.2"
  }
 },
 "nbformat": 4,
 "nbformat_minor": 4
}
