{
 "cells": [
  {
   "cell_type": "code",
   "execution_count": 1,
   "metadata": {},
   "outputs": [
    {
     "name": "stderr",
     "output_type": "stream",
     "text": [
      "WARNING (theano.tensor.blas): Using NumPy C-API based implementation for BLAS functions.\n"
     ]
    }
   ],
   "source": [
    "# standart libs\n",
    "import random\n",
    "import copy\n",
    "from operator import itemgetter\n",
    "\n",
    "# 3rd party libs\n",
    "import pandas as pd\n",
    "import numpy as np\n",
    "import gempy as gp\n",
    "import matplotlib.pyplot as plt\n",
    "\n",
    "# local\n",
    "import functions.realization_setup as real_setup\n",
    "import functions.realization_run as real_run\n",
    "import functions.post_processing as post_pro"
   ]
  },
  {
   "cell_type": "markdown",
   "metadata": {},
   "source": [
    "# Init the geo_model"
   ]
  },
  {
   "cell_type": "code",
   "execution_count": 2,
   "metadata": {},
   "outputs": [
    {
     "name": "stdout",
     "output_type": "stream",
     "text": [
      "Active grids: ['regular']\n",
      "Setting kriging parameters to their default values.\n",
      "Compiling theano function...\n",
      "Level of Optimization:  fast_run\n",
      "Device:  cpu\n",
      "Precision:  float64\n",
      "Number of faults:  0\n",
      "Compilation Done!\n",
      "Kriging values: \n",
      "                     values\n",
      "range              1.73205\n",
      "$C_o$            0.0714286\n",
      "drift equations        [3]\n"
     ]
    },
    {
     "data": {
      "text/plain": [
       "<gempy.core.interpolator.InterpolatorModel at 0x7f8a0fab9a90>"
      ]
     },
     "execution_count": 2,
     "metadata": {},
     "output_type": "execute_result"
    }
   ],
   "source": [
    "# instantiate the geo_model\n",
    "geo_model = gp.create_model(\"GeoModel\")\n",
    "\n",
    "# defautl data\n",
    "geo_model = gp.init_data(\n",
    "    geo_model,\n",
    "    extent=[0, 1, 0, 1, 0, 1],\n",
    "    resolution=[1, 1, 1]\n",
    ")\n",
    "\n",
    "# compile theno function\n",
    "gp.set_interpolation_data(\n",
    "    geo_model,\n",
    "    compile_theano=True,\n",
    "    theano_optimizer='fast_run',\n",
    ")"
   ]
  },
  {
   "cell_type": "markdown",
   "metadata": {},
   "source": [
    "# Model data"
   ]
  },
  {
   "cell_type": "markdown",
   "metadata": {},
   "source": [
    "### Model 1"
   ]
  },
  {
   "cell_type": "code",
   "execution_count": 3,
   "metadata": {},
   "outputs": [],
   "source": [
    "# meta\n",
    "geo_model_extent_1 = [0,1000,0,1000,0,1000]\n",
    "section_1 = {\n",
    "    'p1': [0, 500],\n",
    "    'p2': [1000, 500],\n",
    "    'resolution': [200, 200]\n",
    "}\n",
    "\n",
    "# sereis\n",
    "series_df_1 = pd.DataFrame(columns=['name', 'isfault', 'order_series'])\n",
    "series_df_1.loc[0] = { 'order_series': 0, 'name': 'Basement_Series', 'isfault': False }\n",
    "series_df_1.loc[1] = { 'order_series': 1, 'name': 'Strat_Series', 'isfault': False }\n",
    "\n",
    "# surfaces\n",
    "surfaces_df_1 = pd.DataFrame(columns=['name', 'serie', 'order_surface'])\n",
    "surfaces_df_1.loc[0] = { 'name': 'basement', 'serie': 'Basement_Series', 'order_surface': 0 }\n",
    "surfaces_df_1.loc[2] = { 'name': 'rock1', 'serie': 'Strat_Series', 'order_surface': 1 }\n",
    "surfaces_df_1.loc[1] = { 'name': 'rock2', 'serie': 'Strat_Series', 'order_surface': 2 }\n",
    "\n",
    "# geoData\n",
    "surface_points_input_data_1 = pd.read_csv('./data/model2_surface_points.csv')\n",
    "orientaions_input_data_1 = pd.read_csv('./data/model2_orientations.csv')\n",
    "\n",
    "# Format geological_input_data\n",
    "surface_points_original_df_1 = surface_points_input_data_1[['X', 'Y', 'Z', 'formation']]\n",
    "\n",
    "# rename colums\n",
    "surface_points_original_df_1.columns = ['X', 'Y', 'Z', 'surface']\n",
    "\n",
    "# add distribution type and parameter\n",
    "surface_points_original_df_1['param1'] = 10\n",
    "\n",
    "# Orientaions\n",
    "orientations_original_df_1 = orientaions_input_data_1[['X', 'Y', 'Z', 'dip', 'azimuth', 'polarity', 'formation']]"
   ]
  },
  {
   "cell_type": "code",
   "execution_count": 16,
   "metadata": {},
   "outputs": [
    {
     "name": "stdout",
     "output_type": "stream",
     "text": [
      "Active grids: ['regular' 'sections']\n",
      "Active grids: ['regular' 'sections']\n",
      "HOTFIX in update_series()\n"
     ]
    }
   ],
   "source": [
    "# %%timeit\n",
    "# setup model 1\n",
    "real_setup.setup_realization(\n",
    "        geo_model=geo_model,\n",
    "        geo_model_extent=geo_model_extent_1,\n",
    "        section=section_1,\n",
    "        series_df=series_df_1,\n",
    "        surfaces_df=surfaces_df_1,\n",
    "        surface_points_original_df=surface_points_original_df_1,\n",
    "        orientations_original_df=orientations_original_df_1\n",
    ")"
   ]
  },
  {
   "cell_type": "code",
   "execution_count": 5,
   "metadata": {},
   "outputs": [
    {
     "name": "stdout",
     "output_type": "stream",
     "text": [
      "Run realizations setup checks until stable workflow.\n"
     ]
    },
    {
     "name": "stderr",
     "output_type": "stream",
     "text": [
      "/home/stefan/coding/notebooks/env/lib/python3.8/site-packages/gempy/core/solution.py:196: FutureWarning: marching_cubes_lewiner is deprecated in favor of marching_cubes. marching_cubes_lewiner will be removed in version 0.19\n",
      "  vertices, simplices, normals, values = measure.marching_cubes_lewiner(\n"
     ]
    }
   ],
   "source": [
    "if real_run.check_setup_single_realization(geo_model):\n",
    "    solution = gp.compute_model(model=geo_model, sort_surfaces=False)"
   ]
  },
  {
   "cell_type": "code",
   "execution_count": 6,
   "metadata": {},
   "outputs": [],
   "source": [
    "Bx = post_pro.compute_boolean_matrix_for_section_surface_top(geo_model)"
   ]
  },
  {
   "cell_type": "code",
   "execution_count": 7,
   "metadata": {},
   "outputs": [
    {
     "data": {
      "text/plain": [
       "dict_keys(['0-0', '0-1', '0-2'])"
      ]
     },
     "execution_count": 7,
     "metadata": {},
     "output_type": "execute_result"
    }
   ],
   "source": [
    "Bx.keys()"
   ]
  },
  {
   "cell_type": "code",
   "execution_count": 8,
   "metadata": {},
   "outputs": [
    {
     "data": {
      "image/png": "[encoded data removed]",
      "text/plain": [
       "<Figure size 748.8x514.8 with 2 Axes>"
      ]
     },
     "metadata": {},
     "output_type": "display_data"
    }
   ],
   "source": [
    "# plot for sanity check\n",
    "fig, (ax1, ax2) = plt.subplots(1, 2)\n",
    "ax1.imshow(Bx['0-1'])\n",
    "ax1.grid()\n",
    "ax2.imshow(Bx['0-2'])\n",
    "ax2.grid()\n",
    "plt.show()"
   ]
  },
  {
   "cell_type": "markdown",
   "metadata": {},
   "source": [
    "### Model 2"
   ]
  },
  {
   "cell_type": "code",
   "execution_count": 9,
   "metadata": {},
   "outputs": [],
   "source": [
    "geo_model_extent_2 = [0,2000,0,2000,0,2000]\n",
    "section_2 = {\n",
    "    'p1': [0, 1000],\n",
    "    'p2': [2000, 1000],\n",
    "    'resolution': [200, 200]\n",
    "}\n",
    "\n",
    "series_df_2 = pd.read_csv('./data/simple_fault_model_series.csv')\n",
    "series_df_2['order_surface'] = [0,1]\n",
    "surfaces_df_2 = pd.read_csv('./data/simple_fault_model_surfaces.csv')\n",
    "surfaces_df_2['order_surface'] = [0,1,2,3,4,5]\n",
    "\n",
    "surface_points_input_data_2 = pd.read_csv('./data/simple_fault_model_points.csv')\n",
    "orientaions_input_data_2 = pd.read_csv('./data/simple_fault_model_orientations.csv')\n",
    "\n",
    "# Format geological_input_data\n",
    "surface_points_original_df_2 = surface_points_input_data_2[['X', 'Y', 'Z', 'formation']]\n",
    "\n",
    "# rename colums\n",
    "surface_points_original_df_2.columns = ['X', 'Y', 'Z', 'surface']\n",
    "\n",
    "# add distribution type and parameter\n",
    "surface_points_original_df_2['param1'] = 10\n",
    "\n",
    "# Orientaions\n",
    "orientations_original_df_2 = orientaions_input_data_2[['X', 'Y', 'Z', 'dip', 'azimuth', 'polarity', 'formation']]"
   ]
  },
  {
   "cell_type": "code",
   "execution_count": 10,
   "metadata": {},
   "outputs": [
    {
     "name": "stdout",
     "output_type": "stream",
     "text": [
      "Active grids: ['regular' 'sections']\n",
      "Active grids: ['regular' 'sections']\n",
      "HOTFIX in update_series()\n",
      "Fault colors changed. If you do not like this behavior, set change_color to False.\n"
     ]
    }
   ],
   "source": [
    "# %%timeit\n",
    "real_setup.setup_realization(\n",
    "        geo_model=geo_model,\n",
    "        geo_model_extent=geo_model_extent_2,\n",
    "        section=section_2,\n",
    "        series_df=series_df_2,\n",
    "        surfaces_df=surfaces_df_2,\n",
    "        surface_points_original_df=surface_points_original_df_2,\n",
    "        orientations_original_df=orientations_original_df_2\n",
    ")"
   ]
  },
  {
   "cell_type": "code",
   "execution_count": 11,
   "metadata": {},
   "outputs": [],
   "source": [
    "solution = gp.compute_model(model=geo_model, sort_surfaces=False)"
   ]
  },
  {
   "cell_type": "code",
   "execution_count": 12,
   "metadata": {},
   "outputs": [
    {
     "name": "stdout",
     "output_type": "stream",
     "text": [
      "Run realizations setup checks until stable workflow.\n"
     ]
    }
   ],
   "source": [
    "if real_run.check_setup_single_realization(geo_model):\n",
    "    solution = gp.compute_model(model=geo_model, sort_surfaces=False)"
   ]
  },
  {
   "cell_type": "code",
   "execution_count": 13,
   "metadata": {},
   "outputs": [],
   "source": [
    "Bx = post_pro.compute_boolean_matrix_for_section_surface_top(geo_model)"
   ]
  },
  {
   "cell_type": "code",
   "execution_count": 14,
   "metadata": {},
   "outputs": [
    {
     "data": {
      "image/png": "[encoded data removed]",
      "text/plain": [
       "<Figure size 748.8x514.8 with 6 Axes>"
      ]
     },
     "metadata": {},
     "output_type": "display_data"
    }
   ],
   "source": [
    "# plot for sanity check\n",
    "fig, axs = plt.subplots(2, 3)\n",
    "axs[0,0].imshow(Bx['1-1'])\n",
    "axs[0,0].grid()\n",
    "axs[0,1].imshow(Bx['1-2'])\n",
    "axs[0,1].grid()\n",
    "axs[0,2].imshow(Bx['1-3'])\n",
    "axs[0,2].grid()\n",
    "axs[1,0].imshow(Bx['1-4'])\n",
    "axs[1,0].grid()\n",
    "axs[1,1].imshow(Bx['1-0'])\n",
    "axs[1,1].grid()\n",
    "axs[1,2].imshow(Bx['0-1'])\n",
    "axs[1,2].grid()\n",
    "plt.show()"
   ]
  }
 ],
 "metadata": {
  "kernelspec": {
   "display_name": "notebooks",
   "language": "python",
   "name": "notebooks"
  },
  "language_info": {
   "codemirror_mode": {
    "name": "ipython",
    "version": 3
   },
   "file_extension": ".py",
   "mimetype": "text/x-python",
   "name": "python",
   "nbconvert_exporter": "python",
   "pygments_lexer": "ipython3",
   "version": "3.8.2"
  }
 },
 "nbformat": 4,
 "nbformat_minor": 4
}
