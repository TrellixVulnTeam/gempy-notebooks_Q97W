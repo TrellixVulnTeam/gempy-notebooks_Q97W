{
 "cells": [
  {
   "cell_type": "code",
   "execution_count": 1,
   "metadata": {},
   "outputs": [],
   "source": []
  },
  {
   "cell_type": "code",
   "execution_count": 2,
   "metadata": {},
   "outputs": [],
   "source": [
    "# Import data\n",
    "series_df = pd.read_csv('./data/simple_fault_model_series.csv')\n",
    "surfaces_df = pd.read_csv('./data/simple_fault_model_surfaces.csv')\n",
    "surface_points_data = pd.read_csv('./data/simple_fault_model_points.csv')\n",
    "orientaions_data = pd.read_csv('./data/simple_fault_model_orientations.csv')"
   ]
  },
  {
   "cell_type": "code",
   "execution_count": 3,
   "metadata": {},
   "outputs": [],
   "source": [
    "# constants\n",
    "n_realizations = 10\n",
    "random_seeds = np.random.rand(n_realizations)"
   ]
  },
  {
   "cell_type": "code",
   "execution_count": 4,
   "metadata": {},
   "outputs": [],
   "source": [
    "# copy and format data\n",
    "df = copy.deepcopy(surface_points_data)\n",
    "df['type'] = 'normal'\n",
    "df['param1'] = 1\n",
    "df['param2'] = 0.1"
   ]
  },
  {
   "cell_type": "code",
   "execution_count": null,
   "metadata": {},
   "outputs": [],
   "source": [
    "# Sample from normal distribution\n",
    "# ss.norm.rvs(loc, scale) is a random variable sample of the normal distribution\n",
    "# with loc being the mean and scale the standard deviation.\n",
    "df['X_norm'] = ss.norm.rvs(loc=df['X'].values, scale=df['param1'].values)\n",
    "df['Y_norm'] = ss.norm.rvs(loc=df['Y'].values, scale=df['param1'].values)\n",
    "df['Z_norm'] = ss.norm.rvs(loc=df['Z'].values, scale=df['param1'].values)"
   ]
  },
  {
   "cell_type": "code",
   "execution_count": null,
   "metadata": {},
   "outputs": [],
   "source": [
    "# Sample from uniform distribution\n",
    "# ss.uniform.rvs(loc, scale) is a random variable sample of the uniform distribution\n",
    "# with loc being the lower bound and scale upper bound.\n",
    "df['X_uniform'] = ss.norm.rvs(\n",
    "    loc=(df['X'].values - df['param1'].values / 2),\n",
    "    scale=(df['X'].values + df['param1'].values / 2))\n",
    "df['Y_uniform'] = ss.norm.rvs(\n",
    "    loc=(df['Y'].values - df['param1'].values / 2),\n",
    "    scale=(df['Y'].values + df['param1'].values / 2))\n",
    "df['Z_uniform'] = ss.norm.rvs(\n",
    "    loc=(df['Z'].values - df['param1'].values / 2),\n",
    "    scale=(df['Z'].values + df['param1'].values / 2))"
   ]
  },
  {
   "cell_type": "code",
   "execution_count": null,
   "metadata": {},
   "outputs": [],
   "source": [
    "# Create a list of realizations of xyz samples\n",
    "xyz_realizations = []\n",
    "for i in range(n_realizations):\n",
    "    \n",
    "    random.seed(random_seeds[i])\n",
    "    x_samples = ss.norm.rvs(loc=df['X'].values, scale=df['param1'].values)\n",
    "    y_samples = ss.norm.rvs(loc=df['Y'].values, scale=df['param1'].values)\n",
    "    z_samples = ss.norm.rvs(loc=df['Z'].values, scale=df['param1'].values)\n",
    "    xyz_samples = np.vstack([x_samples, y_samples, z_samples])\n",
    "    xyz_realizations.append(xyz_samples)\n",
    "    \n",
    "# Stack them in along axis=2\n",
    "xyz_samples = np.dstack(xyz_realizations)"
   ]
  },
  {
   "cell_type": "code",
   "execution_count": null,
   "metadata": {},
   "outputs": [],
   "source": []
  }
 ],
 "metadata": {
  "kernelspec": {
   "display_name": "Python 3",
   "language": "python",
   "name": "python3"
  },
  "language_info": {
   "codemirror_mode": {
    "name": "ipython",
    "version": 3
   },
   "file_extension": ".py",
   "mimetype": "text/x-python",
   "name": "python",
   "nbconvert_exporter": "python",
   "pygments_lexer": "ipython3",
   "version": "3.6.9"
  }
 },
 "nbformat": 4,
 "nbformat_minor": 4
}
