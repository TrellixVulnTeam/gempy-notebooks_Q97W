{
 "cells": [
  {
   "cell_type": "code",
   "execution_count": 1,
   "metadata": {},
   "outputs": [],
   "source": [
    "# Import libs\n",
    "import sys\n",
    "sys.path\n",
    "sys.path.append('../service/')\n",
    "\n",
    "import random\n",
    "import copy\n",
    "\n",
    "import pandas as pd\n",
    "import numpy as np\n",
    "import scipy.stats as ss\n",
    "import matplotlib.pyplot as plt\n",
    "import gempy as gp\n",
    "from gempy.utils import section_utils"
   ]
  },
  {
   "cell_type": "markdown",
   "metadata": {},
   "source": [
    "#### Meta data\n",
    "- AMD® Ryzen 5 3600 6-core processor × 12 \n",
    "- https://www.gempy.org/documentation-1"
   ]
  },
  {
   "cell_type": "markdown",
   "metadata": {},
   "source": [
    "## TODO\n",
    "- function to update withouth geo_model.init_data()\n",
    "- avoide double computation of solution\n",
    "- deactivate regular grid\n",
    "- deactivate plotting\n",
    "- split into function\n",
    "- check workflow\n",
    "- comments\n",
    "- run on GPU"
   ]
  },
  {
   "cell_type": "markdown",
   "metadata": {},
   "source": [
    "#### Init geo_model"
   ]
  },
  {
   "cell_type": "code",
   "execution_count": 3,
   "metadata": {},
   "outputs": [
    {
     "name": "stdout",
     "output_type": "stream",
     "text": [
      "Active grids: ['regular']\n",
      "Setting kriging parameters to their default values.\n",
      "Compiling theano function...\n",
      "Level of Optimization:  fast_run\n",
      "Device:  cpu\n",
      "Precision:  float64\n",
      "Number of faults:  0\n",
      "Compilation Done!\n",
      "Kriging values: \n",
      "                   values\n",
      "range            1732.05\n",
      "$C_o$            71428.6\n",
      "drift equations      [3]\n"
     ]
    },
    {
     "data": {
      "text/plain": [
       "<gempy.core.interpolator.InterpolatorModel at 0x7fa83c13ab38>"
      ]
     },
     "execution_count": 3,
     "metadata": {},
     "output_type": "execute_result"
    }
   ],
   "source": [
    "# instantiate the geo_model\n",
    "geo_model = gp.create_model(\"BaseModel\")\n",
    "\n",
    "# defautl data\n",
    "geo_model = gp.init_data(\n",
    "    geo_model,\n",
    "    extent=[0, 1000, 0, 1000, 0, 1000],\n",
    "    resolution=[2, 2, 2]\n",
    ")\n",
    "\n",
    "# compile theno function\n",
    "gp.set_interpolation_data(\n",
    "    geo_model,\n",
    "    compile_theano=True,\n",
    "    theano_optimizer='fast_run',\n",
    ")"
   ]
  },
  {
   "cell_type": "markdown",
   "metadata": {},
   "source": [
    "#### Import topological data and set topological realtionships"
   ]
  },
  {
   "cell_type": "code",
   "execution_count": 4,
   "metadata": {},
   "outputs": [],
   "source": [
    "# Import topological data\n",
    "series_df = pd.read_csv('./data/simple_fault_model_series.csv')\n",
    "surfaces_df = pd.read_csv('./data/simple_fault_model_surfaces.csv')"
   ]
  },
  {
   "cell_type": "code",
   "execution_count": 5,
   "metadata": {},
   "outputs": [],
   "source": [
    "# Set Topoligical Realtionships - Sereis\n",
    "series_old = list(geo_model.series.df.to_dict()['order_series'].keys())\n",
    "\n",
    "# add new series\n",
    "for index, row in series_df.iterrows():\n",
    "\n",
    "    serie_name = row['name']\n",
    "    serie_isfault = row['isfault']\n",
    "    if serie_name not in series_old:\n",
    "\n",
    "        geo_model.add_series(series_list=[serie_name])\n",
    "\n",
    "# remove obsolete series    \n",
    "for serie in series_old:\n",
    "\n",
    "    if serie not in series_df['name'].to_list():\n",
    "\n",
    "        geo_model.delete_series(serie)"
   ]
  },
  {
   "cell_type": "code",
   "execution_count": 6,
   "metadata": {},
   "outputs": [],
   "source": [
    "# Set Topoligical Realtionships - Surfaces\n",
    "surfaces_old = geo_model.surfaces.df['surface'].to_list()\n",
    "\n",
    "# add and update surfaces\n",
    "for index, row in surfaces_df.iterrows():\n",
    "\n",
    "    surface_name = row['name']\n",
    "    surface_serie = row['serie']\n",
    "    if surface_name not in surfaces_old:\n",
    "\n",
    "        geo_model.add_surfaces(surface_list=[surface_name])\n",
    "        gp.map_series_to_surfaces(\n",
    "            geo_model,\n",
    "            {surface_serie:surface_name}\n",
    "        )\n",
    "\n",
    "    else:\n",
    "\n",
    "        gp.map_series_to_surfaces(\n",
    "            geo_model,\n",
    "            {surface_serie:surface_name}\n",
    "        )\n",
    "\n",
    "\n",
    "# remove obsolete surfaces\n",
    "for surface in surfaces_old:\n",
    "\n",
    "    if surface not in surfaces_df['name'].to_list():\n",
    "\n",
    "        geo_model.delete_surfaces(surface)"
   ]
  },
  {
   "cell_type": "markdown",
   "metadata": {},
   "source": [
    "#### Import and format geological imput data"
   ]
  },
  {
   "cell_type": "code",
   "execution_count": 7,
   "metadata": {},
   "outputs": [],
   "source": [
    "# Import geological imput data\n",
    "surface_points_input_data = pd.read_csv('./data/simple_fault_model_points.csv')\n",
    "orientaions_input_data = pd.read_csv('./data/simple_fault_model_orientations.csv')"
   ]
  },
  {
   "cell_type": "code",
   "execution_count": 8,
   "metadata": {},
   "outputs": [],
   "source": [
    "# Format geological_input_data\n",
    "surface_points_original_df = surface_points_input_data[['X', 'Y', 'Z', 'formation']]\n",
    "\n",
    "# rename colums\n",
    "surface_points_original_df.columns = ['X', 'Y', 'Z', 'surface']\n",
    "\n",
    "# add distribution type and parameter\n",
    "surface_points_original_df['param1'] = 10\n",
    "\n",
    "# create a deepcopy to be manipulated in place\n",
    "surface_points_copy = copy.deepcopy(surface_points_original_df)\n",
    "\n",
    "# Orientaions\n",
    "orientations_df = orientaions_input_data[['X', 'Y', 'Z', 'dip', 'azimuth', 'polarity', 'formation']]"
   ]
  },
  {
   "cell_type": "markdown",
   "metadata": {},
   "source": [
    "#### Section grid\n"
   ]
  },
  {
   "cell_type": "code",
   "execution_count": 9,
   "metadata": {},
   "outputs": [],
   "source": [
    "section_dict = {'section': ([0, 0], [0, 2000], [100,100])}"
   ]
  },
  {
   "cell_type": "code",
   "execution_count": 10,
   "metadata": {},
   "outputs": [
    {
     "name": "stdout",
     "output_type": "stream",
     "text": [
      "Active grids: ['regular']\n",
      "Fault colors changed. If you do not like this behavior, set change_color to False.\n",
      "Active grids: ['regular' 'sections']\n"
     ]
    },
    {
     "name": "stderr",
     "output_type": "stream",
     "text": [
      "/home/stefan/coding/gempy-canvas-server/env/lib/python3.6/site-packages/gempy/core/solution.py:284: UserWarning: Attribute error. Using non masked marching cubesmarching_cubes_lewiner() got an unexpected keyword argument 'mask'.\n",
      "  warnings.warn('Attribute error. Using non masked marching cubes' + str(e)+'.')\n"
     ]
    },
    {
     "name": "stdout",
     "output_type": "stream",
     "text": [
      "Active grids: ['regular' 'sections']\n",
      "Fault colors changed. If you do not like this behavior, set change_color to False.\n",
      "Active grids: ['regular' 'sections']\n",
      "Active grids: ['regular' 'sections']\n",
      "Fault colors changed. If you do not like this behavior, set change_color to False.\n",
      "Active grids: ['regular' 'sections']\n",
      "Active grids: ['regular' 'sections']\n",
      "Fault colors changed. If you do not like this behavior, set change_color to False.\n",
      "Active grids: ['regular' 'sections']\n",
      "Active grids: ['regular' 'sections']\n",
      "Fault colors changed. If you do not like this behavior, set change_color to False.\n",
      "Active grids: ['regular' 'sections']\n",
      "Active grids: ['regular' 'sections']\n",
      "Fault colors changed. If you do not like this behavior, set change_color to False.\n",
      "Active grids: ['regular' 'sections']\n",
      "Active grids: ['regular' 'sections']\n",
      "Fault colors changed. If you do not like this behavior, set change_color to False.\n",
      "Active grids: ['regular' 'sections']\n",
      "Active grids: ['regular' 'sections']\n",
      "Fault colors changed. If you do not like this behavior, set change_color to False.\n",
      "Active grids: ['regular' 'sections']\n",
      "Active grids: ['regular' 'sections']\n",
      "Fault colors changed. If you do not like this behavior, set change_color to False.\n",
      "Active grids: ['regular' 'sections']\n",
      "Active grids: ['regular' 'sections']\n",
      "Fault colors changed. If you do not like this behavior, set change_color to False.\n",
      "Active grids: ['regular' 'sections']\n"
     ]
    }
   ],
   "source": [
    "# Collect section realizations\n",
    "\n",
    "# constants\n",
    "n_realizations = 10\n",
    "\n",
    "# storage for section data \n",
    "list_section_data = []\n",
    "\n",
    "# realizations\n",
    "for i in range(n_realizations):\n",
    "    \n",
    "    # manipulate surface_points_copy in place\n",
    "    surface_points_copy['X'] = ss.norm.rvs(\n",
    "        loc=surface_points_original_df['X'].values,\n",
    "        scale=surface_points_original_df['param1'].values)\n",
    "    surface_points_copy['Y'] = ss.norm.rvs(\n",
    "        loc=surface_points_original_df['Y'].values,\n",
    "        scale=surface_points_original_df['param1'].values)\n",
    "    surface_points_copy['Z'] = ss.norm.rvs(\n",
    "        loc=surface_points_original_df['Z'].values,\n",
    "        scale=surface_points_original_df['param1'].values)\n",
    "    \n",
    "    # Data to model\n",
    "    gp.init_data(\n",
    "        geo_model,\n",
    "        extent=[0, 2000, 0, 2000, 0, 2000],\n",
    "        resolution=[5, 5, 5],\n",
    "        surface_points_df=surface_points_copy,\n",
    "        orientations_df=orientations_df,\n",
    "        update_surfaces=False\n",
    "    )\n",
    "    \n",
    "    # Set fault realtions\n",
    "    for index, row in series_df.iterrows():\n",
    "\n",
    "        serie_name = row['name']\n",
    "        serie_isfault = row['isfault']        \n",
    "        if serie_isfault:\n",
    "\n",
    "            geo_model.set_is_fault([serie_name])\n",
    "            \n",
    "    # update to interpolator\n",
    "    geo_model.update_to_interpolator()\n",
    "    \n",
    "    # Set section grid  # Only one => client canvas\n",
    "    geo_model.set_section_grid(section_dict=section_dict)\n",
    "    \n",
    "    # till here: until90.1 ms for 1 realizations\n",
    "            \n",
    "    # Compute solution\n",
    "    # TODO: Fix bug!\n",
    "    # till here: until 90.1 ms for 1 realizations\n",
    "    # 213 m with 2x gp.compute_model()\n",
    "    solution = gp.compute_model(model=geo_model)\n",
    "    solution = gp.compute_model(model=geo_model)\n",
    "    \n",
    "    # collect extracted section data\n",
    "    list_section_data.append(geo_model \\\n",
    "        .solutions \\\n",
    "        .sections[0][0] \\\n",
    "        .reshape(section_dict['section'][2])\n",
    "    )"
   ]
  },
  {
   "cell_type": "code",
   "execution_count": 15,
   "metadata": {},
   "outputs": [],
   "source": [
    "geo_model.set_surface_points?"
   ]
  },
  {
   "cell_type": "code",
   "execution_count": null,
   "metadata": {},
   "outputs": [],
   "source": [
    "# Process results Stack results\n",
    "section_data_stack = np.round(np.dstack(list_section_data))\n",
    "\n",
    "# Get lithologies\n",
    "lithology_ids = np.unique(section_data_stack)"
   ]
  },
  {
   "cell_type": "code",
   "execution_count": null,
   "metadata": {},
   "outputs": [],
   "source": [
    "# Count lithology occurrences over realizations\n",
    "counter_array = np.empty((\n",
    "    section_dict['section'][2][0],\n",
    "    section_dict['section'][2][1],\n",
    "    len(lithology_ids)))\n",
    "\n",
    "for index, lithology in enumerate(lithology_ids):\n",
    "    \n",
    "    counter_array[:,:,index] = np.sum((\n",
    "        section_data_stack == lithology).astype(int), axis=2)"
   ]
  },
  {
   "cell_type": "code",
   "execution_count": null,
   "metadata": {},
   "outputs": [],
   "source": [
    "probability_array = counter_array / n_realizations\n",
    "entropy_map = ss.entropy(probability_array, axis=2)\n",
    "plt.imshow(entropy_map, cmap='viridis')\n",
    "plt.colorbar()\n",
    "plt.show()"
   ]
  },
  {
   "cell_type": "code",
   "execution_count": null,
   "metadata": {},
   "outputs": [],
   "source": []
  }
 ],
 "metadata": {
  "kernelspec": {
   "display_name": "Python 3",
   "language": "python",
   "name": "python3"
  },
  "language_info": {
   "codemirror_mode": {
    "name": "ipython",
    "version": 3
   },
   "file_extension": ".py",
   "mimetype": "text/x-python",
   "name": "python",
   "nbconvert_exporter": "python",
   "pygments_lexer": "ipython3",
   "version": "3.6.9"
  }
 },
 "nbformat": 4,
 "nbformat_minor": 4
}
