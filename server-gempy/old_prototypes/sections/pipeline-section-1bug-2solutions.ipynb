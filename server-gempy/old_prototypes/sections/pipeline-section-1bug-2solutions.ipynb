{
 "cells": [
  {
   "cell_type": "code",
   "execution_count": 1,
   "metadata": {},
   "outputs": [
    {
     "name": "stderr",
     "output_type": "stream",
     "text": [
      "WARNING (theano.tensor.blas): Using NumPy C-API based implementation for BLAS functions.\n"
     ]
    }
   ],
   "source": [
    "# Import libs\n",
    "import pandas as pd\n",
    "import matplotlib.pyplot as plt\n",
    "import gempy as gp\n",
    "from gempy.utils import section_utils"
   ]
  },
  {
   "cell_type": "markdown",
   "metadata": {},
   "source": [
    "# Init"
   ]
  },
  {
   "cell_type": "code",
   "execution_count": 2,
   "metadata": {},
   "outputs": [
    {
     "name": "stdout",
     "output_type": "stream",
     "text": [
      "Active grids: ['regular']\n",
      "Setting kriging parameters to their default values.\n",
      "Compiling theano function...\n",
      "Level of Optimization:  fast_run\n",
      "Device:  cpu\n",
      "Precision:  float64\n",
      "Number of faults:  0\n",
      "Compilation Done!\n",
      "Kriging values: \n",
      "                   values\n",
      "range            1732.05\n",
      "$C_o$            71428.6\n",
      "drift equations      [3]\n"
     ]
    },
    {
     "data": {
      "text/plain": [
       "<gempy.core.interpolator.InterpolatorModel at 0x7f4691cd8c88>"
      ]
     },
     "execution_count": 2,
     "metadata": {},
     "output_type": "execute_result"
    }
   ],
   "source": [
    "# instantiate the geo_model\n",
    "geo_model = gp.create_model(\"BaseModel\")\n",
    "\n",
    "# defautl data\n",
    "geo_model = gp.init_data(\n",
    "    geo_model,\n",
    "    extent=[0, 1000, 0, 1000, 0, 1000],\n",
    "    resolution=[10, 10, 10]\n",
    ")\n",
    "\n",
    "gp.set_interpolation_data(\n",
    "    geo_model,\n",
    "    compile_theano=True,\n",
    "    theano_optimizer='fast_run',\n",
    ")"
   ]
  },
  {
   "cell_type": "markdown",
   "metadata": {},
   "source": [
    "# Data"
   ]
  },
  {
   "cell_type": "code",
   "execution_count": 3,
   "metadata": {},
   "outputs": [],
   "source": [
    "gpmodel_extent = {\n",
    "    \"x_min\": 0,\n",
    "    \"x_max\": 2000,\n",
    "    \"y_min\": 0,\n",
    "    \"y_max\": 2000,\n",
    "    \"z_min\": 0,\n",
    "    \"z_max\": 2000,\n",
    "}\n",
    "\n",
    "gpmodel_resolution = {\n",
    "    \"nx\": 10,\n",
    "    \"ny\": 10,\n",
    "    \"nz\": 10\n",
    "}\n",
    "\n",
    "series_data = {\n",
    "    'name': ['Fault_Series', 'Strat_Series'],\n",
    "    'isfault': [True, False]\n",
    "}\n",
    "series_df = pd.DataFrame.from_dict(series_data)\n",
    "\n",
    "surfaces_data = {\n",
    "    'name': ['Main_Fault', 'Sandstone_2', 'Siltstone', 'Shale', 'Sandstone_1', 'basement'],\n",
    "    'serie': ['Fault_Series', 'Strat_Series', 'Strat_Series', 'Strat_Series', 'Strat_Series', 'Strat_Series']\n",
    "}\n",
    "surfaces_df = pd.DataFrame.from_dict(surfaces_data)\n",
    "\n",
    "input_data_surface_points_df = pd.read_csv('./data/simple_fault_model_points.csv')\n",
    "input_data_surface_points_df = input_data_surface_points_df[['X', 'Y', 'Z', 'formation']]\n",
    "input_data_surface_points_df.columns=['X', 'Y', 'Z', 'surface']\n",
    "\n",
    "orientations_df = pd.read_csv('./data/simple_fault_model_orientations.csv')\n",
    "\n",
    "canvas_resolution = {\n",
    "    'widht': 2560,\n",
    "    'height': 1920\n",
    "}\n",
    "\n",
    "section_dict = {\n",
    "    'section': (\n",
    "        [0, 1000],\n",
    "        [2000, 1000],\n",
    "        [\n",
    "            int(canvas_resolution['widht'] / 10),  # set to lower computational time\n",
    "            int(canvas_resolution['height'] / 10),  # set to lower computational time\n",
    "        ],\n",
    "    )\n",
    "}"
   ]
  },
  {
   "cell_type": "markdown",
   "metadata": {},
   "source": [
    "# Inner-Functions"
   ]
  },
  {
   "cell_type": "code",
   "execution_count": 4,
   "metadata": {},
   "outputs": [],
   "source": [
    "def update_series(geo_model, series_df):\n",
    "    \n",
    "    series_old = list(geo_model.series.df.to_dict()['order_series'].keys())\n",
    "\n",
    "    # add new series\n",
    "    for index, row in series_df.iterrows():\n",
    "\n",
    "        serie_name = row['name']\n",
    "        serie_isfault = row['isfault']\n",
    "        if serie_name not in series_old:\n",
    "\n",
    "            geo_model.add_series(series_list=[serie_name])\n",
    "\n",
    "    # remove obsolete series    \n",
    "    for serie in series_old:\n",
    "\n",
    "        if serie not in series_df['name'].to_list():\n",
    "\n",
    "            geo_model.delete_series(serie)"
   ]
  },
  {
   "cell_type": "code",
   "execution_count": 5,
   "metadata": {},
   "outputs": [],
   "source": [
    "def update_faults_relations(geo_model, series_df):\n",
    "\n",
    "    for index, row in series_df.iterrows():\n",
    "        \n",
    "        serie_name = row['name']\n",
    "        serie_isfault = row['isfault']        \n",
    "        if serie_isfault:\n",
    "\n",
    "            geo_model.set_is_fault([serie_name])"
   ]
  },
  {
   "cell_type": "code",
   "execution_count": 6,
   "metadata": {},
   "outputs": [],
   "source": [
    "def update_surfaces(geo_model, surfaces_df):\n",
    "    \n",
    "    surfaces_old = geo_model.surfaces.df['surface'].to_list()\n",
    "\n",
    "    # add and update surfaces\n",
    "    for index, row in surfaces_df.iterrows():\n",
    "\n",
    "        surface_name = row['name']\n",
    "        surface_serie = row['serie']\n",
    "        if surface_name not in surfaces_old:\n",
    "\n",
    "            geo_model.add_surfaces(surface_list=[surface_name])\n",
    "            gp.map_series_to_surfaces(\n",
    "                geo_model,\n",
    "                {surface_serie:surface_name}\n",
    "            )\n",
    "\n",
    "        else:\n",
    "\n",
    "            gp.map_series_to_surfaces(\n",
    "                geo_model,\n",
    "                {surface_serie:surface_name}\n",
    "            )\n",
    "\n",
    "\n",
    "    # remove obsolete surfaces\n",
    "    for surface in surfaces_old:\n",
    "\n",
    "        if surface not in surfaces_df['name'].to_list():\n",
    "\n",
    "            geo_model.delete_surfaces(surface)"
   ]
  },
  {
   "cell_type": "markdown",
   "metadata": {},
   "source": [
    "# Main Function"
   ]
  },
  {
   "cell_type": "code",
   "execution_count": 7,
   "metadata": {},
   "outputs": [],
   "source": [
    "def calulate_solution():    \n",
    "    \n",
    "    # Add topoligical data\n",
    "    update_series(geo_model=geo_model, series_df=series_df)\n",
    "    update_surfaces(geo_model=geo_model, surfaces_df=surfaces_df)\n",
    "    \n",
    "    # Set initial geo_model data including geological input_data\n",
    "    gp.init_data(\n",
    "        geo_model,\n",
    "        extent=geo_model_extent,\n",
    "        resolution=[10, 10, 10],\n",
    "        surface_points_df=input_data_surface_points_df,\n",
    "        orientations_df=orientations_df,\n",
    "        update_surfaces=False\n",
    "    )\n",
    "    \n",
    "    # Update fault realtions\n",
    "    update_faults_relations(geo_model, series_df)\n",
    "    \n",
    "    # Update model to interpolator\n",
    "    geo_model.update_to_interpolator()\n",
    "\n",
    "    # Set section grid  # Only one => client canvas\n",
    "    geo_model.set_section_grid(section_dict=section_dict)\n",
    "\n",
    "    # Compute model 2x  # Due to buggy behaviour\n",
    "    # TODO: Reapalce or fix\n",
    "    solution = gp.compute_model(\n",
    "        model=geo_model,\n",
    "        compute_mesh=False  # Avoide unecessay computation\n",
    "    )\n",
    "    solution = gp.compute_model(\n",
    "        model=geo_model,\n",
    "        compute_mesh=False  # Avoide unecessay computation\n",
    "    )"
   ]
  },
  {
   "cell_type": "markdown",
   "metadata": {},
   "source": [
    "# Postprocessing"
   ]
  },
  {
   "cell_type": "code",
   "execution_count": 8,
   "metadata": {},
   "outputs": [],
   "source": [
    "def process_client_section_polygons(polygondict, extent, canvas_resolution):\n",
    "\n",
    "    keys = list(polygondict.keys())\n",
    "    polygons_dict = {}\n",
    "    # loop over rock units\n",
    "    for key in keys:\n",
    "\n",
    "        # extract polygons of rock unit\n",
    "        polygons = polygondict[key]\n",
    "\n",
    "        # if polygons of rock unit present\n",
    "        if polygons:\n",
    "\n",
    "            # loop over plygons of rock unit i\n",
    "            for index, polygon in enumerate(polygons):\n",
    "\n",
    "                # rescale towards original canvas resolution\n",
    "                polygon[:, 0] = (\n",
    "                    # polygon[:, 0] / extent[1] * (canvas_resolution[\"widht\"] - 250)\n",
    "                    polygon[:, 0] / extent[1] * (canvas_resolution[\"widht\"])\n",
    "                )\n",
    "                polygon[:, 1] = (\n",
    "                    # polygon[:, 1] / extent[3] * (canvas_resolution[\"height\"] - 90)\n",
    "                    polygon[:, 1] / extent[3] * (canvas_resolution[\"height\"])\n",
    "                )\n",
    "\n",
    "                # polygons_dict[f'{key}_{index}'] = polygon.flatten().tolist()\n",
    "                polygons_dict[f'{key}_{index}'] = polygon\n",
    "                \n",
    "    # retrun polygons_dict\n",
    "    return polygons_dict"
   ]
  },
  {
   "cell_type": "markdown",
   "metadata": {},
   "source": [
    "# Pipeline"
   ]
  },
  {
   "cell_type": "code",
   "execution_count": 9,
   "metadata": {},
   "outputs": [],
   "source": [
    "canvas_resolution = {\n",
    "    'widht': 2560,\n",
    "    'height': 1920\n",
    "}\n",
    "\n",
    "section_dict = {\n",
    "    'section': (\n",
    "        [0, 1000],\n",
    "        [2000, 1000],\n",
    "        [\n",
    "            # TODO: Add api\n",
    "            int(canvas_resolution['widht'] / 20),  # set to lower computational cost\n",
    "            int(canvas_resolution['height'] / 20),  # set to lower computational cost\n",
    "        ],\n",
    "    )\n",
    "}\n",
    "\n",
    "geo_model_extent = [0,2000,0,2000,0,2000]"
   ]
  },
  {
   "cell_type": "code",
   "execution_count": 10,
   "metadata": {},
   "outputs": [
    {
     "name": "stdout",
     "output_type": "stream",
     "text": [
      "Active grids: ['regular']\n",
      "Fault colors changed. If you do not like this behavior, set change_color to False.\n",
      "Active grids: ['regular' 'sections']\n"
     ]
    },
    {
     "data": {
      "image/png": "[encoded data removed]",
      "text/plain": [
       "<Figure size 936x936 with 1 Axes>"
      ]
     },
     "metadata": {},
     "output_type": "display_data"
    }
   ],
   "source": [
    "# %%timeit  # ~1s\n",
    "calulate_solution()\n",
    "\n",
    "polygondict, cdict, extent = gp.utils.section_utils.get_polygon_dictionary(\n",
    "    geo_model=geo_model,\n",
    "    section_name='section'\n",
    ")\n",
    "\n",
    "polygons_dict = process_client_section_polygons(\n",
    "    polygondict=polygondict,\n",
    "    extent=extent,\n",
    "    canvas_resolution=canvas_resolution\n",
    ")"
   ]
  },
  {
   "cell_type": "code",
   "execution_count": 11,
   "metadata": {},
   "outputs": [],
   "source": [
    "keys = list(polygondict.keys())\n",
    "polygons_dict = {}\n",
    "# loop over rock units\n",
    "for key in keys:\n",
    "\n",
    "    # extract polygons of rock unit\n",
    "    polygons = polygondict[key]\n",
    "\n",
    "    # if polygons of rock unit present\n",
    "    if polygons:\n",
    "\n",
    "        # loop over plygons of rock unit i\n",
    "        for index, polygon in enumerate(polygons):\n",
    "\n",
    "            # rescale towards original canvas resolution\n",
    "            polygon[:, 0] = (\n",
    "                # polygon[:, 0] / extent[1] * (canvas_resolution[\"widht\"] - 250)\n",
    "                polygon[:, 0] / extent[1] * (canvas_resolution[\"widht\"])\n",
    "            )\n",
    "            polygon[:, 1] = (\n",
    "                # polygon[:, 1] / extent[3] * (canvas_resolution[\"height\"] - 90)\n",
    "                polygon[:, 1] / extent[3] * (canvas_resolution[\"height\"])\n",
    "            )\n",
    "\n",
    "            # polygons_dict[f'{key}_{index}'] = polygon.flatten().tolist()\n",
    "            polygons_dict[f'{key}_{index}'] = polygon"
   ]
  },
  {
   "cell_type": "code",
   "execution_count": 12,
   "metadata": {},
   "outputs": [
    {
     "data": {
      "image/png": "[encoded data removed]",
      "text/plain": [
       "<Figure size 748.8x514.8 with 1 Axes>"
      ]
     },
     "metadata": {},
     "output_type": "display_data"
    }
   ],
   "source": [
    "fig, ax = plt.subplots()\n",
    "\n",
    "polygons_dict_keys = list(polygons_dict.keys())\n",
    "for key in polygons_dict_keys:\n",
    "    \n",
    "    polygon = polygons_dict[key]\n",
    "    ax.plot(polygon[:,0], polygon[:,1]) \n",
    "    \n",
    "ax.set(xlabel='XY', ylabel='Z', title='section')\n",
    "plt.grid()\n",
    "plt.xlim(0, 2000)\n",
    "plt.ylim(0, 2000)\n",
    "\n",
    "plt.show()"
   ]
  },
  {
   "cell_type": "code",
   "execution_count": null,
   "metadata": {},
   "outputs": [],
   "source": []
  }
 ],
 "metadata": {
  "kernelspec": {
   "display_name": "Python 3",
   "language": "python",
   "name": "python3"
  },
  "language_info": {
   "codemirror_mode": {
    "name": "ipython",
    "version": 3
   },
   "file_extension": ".py",
   "mimetype": "text/x-python",
   "name": "python",
   "nbconvert_exporter": "python",
   "pygments_lexer": "ipython3",
   "version": "3.6.9"
  }
 },
 "nbformat": 4,
 "nbformat_minor": 4
}
