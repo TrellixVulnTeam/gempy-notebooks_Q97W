{
 "cells": [
  {
   "cell_type": "code",
   "execution_count": 1,
   "metadata": {},
   "outputs": [],
   "source": [
    "# Import libs\n",
    "import sys\n",
    "sys.path\n",
    "sys.path.append('../service/')\n",
    "\n",
    "import random\n",
    "import copy\n",
    "\n",
    "import pandas as pd\n",
    "import numpy as np\n",
    "import scipy.stats as ss\n",
    "import matplotlib.pyplot as plt\n",
    "import gempy as gp\n",
    "from gempy.utils import section_utils"
   ]
  },
  {
   "cell_type": "markdown",
   "metadata": {},
   "source": [
    "## TODO\n",
    "- function to update withouth geo_model.init_data()\n",
    "- avoide double computation of solution\n",
    "- deactivate regular grid\n",
    "- deactivate plotting\n",
    "- split into function\n",
    "- check workflow\n",
    "- comments\n",
    "- run on GPU"
   ]
  },
  {
   "cell_type": "markdown",
   "metadata": {},
   "source": [
    "## Init geo_model\n",
    "- Runs on init of app-process"
   ]
  },
  {
   "cell_type": "code",
   "execution_count": 2,
   "metadata": {},
   "outputs": [
    {
     "name": "stdout",
     "output_type": "stream",
     "text": [
      "Active grids: ['regular']\n",
      "Setting kriging parameters to their default values.\n",
      "Compiling theano function...\n",
      "Level of Optimization:  fast_run\n",
      "Device:  cpu\n",
      "Precision:  float64\n",
      "Number of faults:  0\n",
      "Compilation Done!\n",
      "Kriging values: \n",
      "                   values\n",
      "range            1732.05\n",
      "$C_o$            71428.6\n",
      "drift equations      [3]\n"
     ]
    },
    {
     "data": {
      "text/plain": [
       "<gempy.core.interpolator.InterpolatorModel at 0x7f61d2d54898>"
      ]
     },
     "execution_count": 2,
     "metadata": {},
     "output_type": "execute_result"
    }
   ],
   "source": [
    "# instantiate the geo_model\n",
    "geo_model = gp.create_model(\"BaseModel\")\n",
    "\n",
    "# defautl data\n",
    "geo_model = gp.init_data(\n",
    "    geo_model,\n",
    "    extent=[0, 1000, 0, 1000, 0, 1000],\n",
    "    resolution=[2, 2, 2]\n",
    ")\n",
    "\n",
    "# compile theno function\n",
    "gp.set_interpolation_data(\n",
    "    geo_model,\n",
    "    compile_theano=True,\n",
    "    theano_optimizer='fast_run',\n",
    ")"
   ]
  },
  {
   "cell_type": "markdown",
   "metadata": {},
   "source": [
    "## Define functions"
   ]
  },
  {
   "cell_type": "code",
   "execution_count": 3,
   "metadata": {},
   "outputs": [],
   "source": [
    "def update_series(geo_model, series_df):\n",
    "    \"\"\"Updates series of the geo-model to the one stored in data.\n",
    "    \n",
    "    Loops over series and appends missing ones and removes obsolet ones.\n",
    "    \n",
    "    Args:\n",
    "        geo_model = The geo_model\n",
    "        series_df: DataFrame = containing series data\n",
    "    \"\"\"\n",
    "\n",
    "    # Get currently stored series data\n",
    "    series_old = list(geo_model.series.df.to_dict()['order_series'].keys())\n",
    "\n",
    "    # add new series\n",
    "    for index, row in series_df.iterrows():\n",
    "\n",
    "        serie_name = row['name']\n",
    "        if serie_name not in series_old:\n",
    "\n",
    "            geo_model.add_series(series_list=[serie_name])\n",
    "\n",
    "    # remove obsolete series\n",
    "    for serie in series_old:\n",
    "\n",
    "        if serie not in series_df['name'].to_list():\n",
    "\n",
    "            geo_model.delete_series(serie)"
   ]
  },
  {
   "cell_type": "code",
   "execution_count": 4,
   "metadata": {},
   "outputs": [],
   "source": [
    "def update_faults_relations(geo_model, series_df):\n",
    "    \"\"\"Sets fault relations.\n",
    "    \n",
    "    Sets isfault property of surfaceses accordingly.\n",
    "    \n",
    "    Args:\n",
    "        geo_model = The geo_model\n",
    "        series_df: DataFrame = containing series data    \n",
    "    \"\"\"\n",
    "\n",
    "    for index, row in series_df.iterrows():\n",
    "\n",
    "        serie_name = row['name']\n",
    "        serie_isfault = row['isfault']\n",
    "        if serie_isfault:\n",
    "\n",
    "            geo_model.set_is_fault([serie_name])"
   ]
  },
  {
   "cell_type": "code",
   "execution_count": 5,
   "metadata": {},
   "outputs": [],
   "source": [
    "def update_surfaces(geo_model, surfaces_df):\n",
    "    \"\"\"Updates surfaces of the geo-model to the one stored in data.\n",
    "    \n",
    "    Adds missing surfaces and removes obsolet ones.\n",
    "\n",
    "    Args:\n",
    "        geo_model = The geo_model\n",
    "        series_df: DataFrame = containing surface data\n",
    "    \"\"\"\n",
    "    \n",
    "    # Getting current surface data\n",
    "    surfaces_old = geo_model.surfaces.df['surface'].to_list()\n",
    "\n",
    "    # add and update surfaces\n",
    "    for index, row in surfaces_df.iterrows():\n",
    "\n",
    "        surface_name = row['name']\n",
    "        surface_serie = row['serie']\n",
    "        if surface_name not in surfaces_old:\n",
    "\n",
    "            geo_model.add_surfaces(surface_list=[surface_name])\n",
    "            gp.map_series_to_surfaces(\n",
    "                geo_model,\n",
    "                {surface_serie: surface_name}\n",
    "            )\n",
    "\n",
    "        else:\n",
    "\n",
    "            gp.map_series_to_surfaces(\n",
    "                geo_model,\n",
    "                {surface_serie: surface_name}\n",
    "            )\n",
    "\n",
    "    # remove obsolete surfaces\n",
    "    for surface in surfaces_old:\n",
    "\n",
    "        if surface not in surfaces_df['name'].to_list():\n",
    "\n",
    "            geo_model.delete_surfaces(surface)"
   ]
  },
  {
   "cell_type": "code",
   "execution_count": 6,
   "metadata": {},
   "outputs": [],
   "source": [
    "def set_configuration_and_topology(\n",
    "    geo_model,\n",
    "    series_df,\n",
    "    surfaces_df,\n",
    "    extent,\n",
    "    orientations_original_df,\n",
    "    section_dict\n",
    "):\n",
    "    \"\"\"Set topological and confiuration data of the geo_model based on\n",
    "    input.\n",
    "    \n",
    "    Args:\n",
    "    \"\"\"\n",
    "    \n",
    "    # Topoligical Realtionships\n",
    "    update_series(geo_model=geo_model, series_df=series_df)\n",
    "    update_surfaces(geo_model=geo_model, surfaces_df=surfaces_df)\n",
    "    \n",
    "    # Set original geo-model\n",
    "    # TODO: Replace with function\n",
    "    \n",
    "    gp.init_data(\n",
    "        geo_model,\n",
    "        extent=extent,\n",
    "        resolution=[5, 5, 5],\n",
    "        # orientations_df=orientations_original_df,\n",
    "        update_surfaces=False\n",
    "    )\n",
    "\n",
    "    # Set fault realtions\n",
    "    for index, row in series_df.iterrows():\n",
    "\n",
    "        serie_name = row['name']\n",
    "        serie_isfault = row['isfault']\n",
    "        if serie_isfault:\n",
    "\n",
    "            geo_model.set_is_fault([serie_name])\n",
    "\n",
    "    # Set section grid  # Only one => client canvas\n",
    "    geo_model.set_section_grid(section_dict=section_dict)\n",
    "    geo_model.set_active_grid(grid_name=['sections'], reset=True)\n",
    "    \n",
    "    # update to interpolator\n",
    "    geo_model.update_to_interpolator()"
   ]
  },
  {
   "cell_type": "code",
   "execution_count": 7,
   "metadata": {},
   "outputs": [],
   "source": [
    "def manipulate_surface_points_inplace(surface_points_copy):\n",
    "    \"\"\"Manipulates the surface_points_copy dataframe.\n",
    "    \n",
    "        Samples X, Y, Z values form the original DataFrame and thier\n",
    "        respective distribution types and parameters.\\\n",
    "        Potential update:\n",
    "            - Sampling parameter per axis i.e. param1_x, param1_y, ...\n",
    "            - Diffenrent sampling types i.e. normal, uniformal, ...\n",
    "    \n",
    "        Args:\n",
    "            surface_points_copy: DataFrame = copy of the original geological\n",
    "                input data surface-points DataFrame.\n",
    "            surface_points_original_df: DataFrame = original geological input data\n",
    "                surface-points DataFrame.\n",
    "    \"\"\"\n",
    "    \n",
    "    surface_points_copy['X'] = ss.norm.rvs(\n",
    "        loc=surface_points_original_df['X'].values,\n",
    "        scale=surface_points_original_df['param1'].values)\n",
    "    surface_points_copy['Y'] = ss.norm.rvs(\n",
    "        loc=surface_points_original_df['Y'].values,\n",
    "        scale=surface_points_original_df['param1'].values)\n",
    "    surface_points_copy['Z'] = ss.norm.rvs(\n",
    "        loc=surface_points_original_df['Z'].values,\n",
    "        scale=surface_points_original_df['param1'].values)    "
   ]
  },
  {
   "cell_type": "code",
   "execution_count": 8,
   "metadata": {},
   "outputs": [],
   "source": [
    "def run_realizations(\n",
    "    geo_model,\n",
    "    n_realizations,\n",
    "    surface_points_original_df,\n",
    "    series_df,\n",
    "    orientations_original_df,\n",
    "    section_dict\n",
    "):\n",
    "    \"\"\"Runs x ralizations, interpolates sections and returns them as \n",
    "    a list.\n",
    "    \n",
    "    If gp.compute_model(model=geo_model) fails, the last known interpolation\n",
    "    gets run.\n",
    "    \"\"\"\n",
    "\n",
    "    # Copy geological input data to manipulate per realization.\n",
    "    surface_points_copy = copy.deepcopy(surface_points_original_df)\n",
    "\n",
    "    # Storage for calucalted ralizations\n",
    "    list_section_data = []\n",
    "\n",
    "    # TODO: Move Topological Realtaions updates to here\n",
    "\n",
    "    # Calculate realizations\n",
    "    for i in range(n_realizations):\n",
    "\n",
    "        print(f'Realization: {i}')\n",
    "        \n",
    "        # manipulate surface_points_copy in place\n",
    "        manipulate_surface_points_inplace(surface_points_copy)\n",
    "        \n",
    "        # Set manipulated surface points\n",
    "        geo_model.set_surface_points(surface_points_copy, update_surfaces=False)\n",
    "        geo_model.set_orientations(orientations_original_df, update_surfaces=False)\n",
    "\n",
    "        # update to interpolator\n",
    "        geo_model.update_to_interpolator()\n",
    "\n",
    "        # Compute solution\n",
    "        # TODO: Fix bug!\n",
    "        # till here: until 90.1 ms for 1 realizations\n",
    "        # 213 m with 2x gp.compute_model()\n",
    "        try:\n",
    "            solution = gp.compute_model(model=geo_model)\n",
    "            solution = gp.compute_model(model=geo_model)\n",
    "            # gp.plot.plot_section_by_name(geo_model, 'section')\n",
    "        except ValueError as err:\n",
    "            print('ValueError')\n",
    "            # Append last working realization\n",
    "            list_section_data.append(geo_model\n",
    "                                     .solutions\n",
    "                                     .sections[0][0]\n",
    "                                     .reshape(section_dict['section'][2])\n",
    "                                     )\n",
    "\n",
    "            \n",
    "        # collect extracted section data\n",
    "        list_section_data.append(geo_model\n",
    "                                 .solutions\n",
    "                                 .sections[0][0]\n",
    "                                 .reshape(section_dict['section'][2])\n",
    "                                 )\n",
    "\n",
    "    return list_section_data"
   ]
  },
  {
   "cell_type": "code",
   "execution_count": 9,
   "metadata": {},
   "outputs": [],
   "source": [
    "def process_list_section_data(list_section_data):\n",
    "\n",
    "    # Process results Stack results\n",
    "    section_data_stack = np.round(np.dstack(list_section_data))\n",
    "\n",
    "    # Get lithologies in stack\n",
    "    lithology_ids = np.unique(section_data_stack)\n",
    "\n",
    "    return section_data_stack, lithology_ids"
   ]
  },
  {
   "cell_type": "code",
   "execution_count": 10,
   "metadata": {},
   "outputs": [],
   "source": [
    "def count_lithology_occurrences_over_realizations(\n",
    "        section_data_stack,\n",
    "        lithology_ids,\n",
    "        section_dict\n",
    "):\n",
    "\n",
    "    count_array = np.empty((\n",
    "        section_dict['section'][2][0],\n",
    "        section_dict['section'][2][1],\n",
    "        len(lithology_ids)))\n",
    "\n",
    "    for index, lithology in enumerate(lithology_ids):\n",
    "\n",
    "        count_array[:, :, index] = np.sum((\n",
    "            section_data_stack == lithology).astype(int), axis=2)\n",
    "\n",
    "    return count_array"
   ]
  },
  {
   "cell_type": "code",
   "execution_count": 11,
   "metadata": {},
   "outputs": [],
   "source": [
    "def calculate_information_entropy(count_array, n_realizations):\n",
    "\n",
    "    # Calculate information entropy\n",
    "    probability_array = count_array / n_realizations\n",
    "    return ss.entropy(probability_array, axis=2)"
   ]
  },
  {
   "cell_type": "markdown",
   "metadata": {},
   "source": [
    "#### Import topological data and set topological realtionships"
   ]
  },
  {
   "cell_type": "code",
   "execution_count": 12,
   "metadata": {},
   "outputs": [],
   "source": [
    "# Import topological data\n",
    "series_df = pd.read_csv('./data/simple_fault_model_series.csv')\n",
    "surfaces_df = pd.read_csv('./data/simple_fault_model_surfaces.csv')"
   ]
  },
  {
   "cell_type": "markdown",
   "metadata": {},
   "source": [
    "#### Import and format geological imput data"
   ]
  },
  {
   "cell_type": "code",
   "execution_count": 13,
   "metadata": {},
   "outputs": [],
   "source": [
    "# Import geological imput data\n",
    "surface_points_input_data = pd.read_csv('./data/simple_fault_model_points.csv')\n",
    "orientaions_input_data = pd.read_csv('./data/simple_fault_model_orientations.csv')"
   ]
  },
  {
   "cell_type": "code",
   "execution_count": 14,
   "metadata": {},
   "outputs": [],
   "source": [
    "# Format geological_input_data\n",
    "surface_points_original_df = surface_points_input_data[['X', 'Y', 'Z', 'formation']]\n",
    "\n",
    "# rename colums\n",
    "surface_points_original_df.columns = ['X', 'Y', 'Z', 'surface']\n",
    "\n",
    "# add distribution type and parameter\n",
    "surface_points_original_df['param1'] = 10\n",
    "\n",
    "# Orientaions\n",
    "orientations_original_df = orientaions_input_data[['X', 'Y', 'Z', 'dip', 'azimuth', 'polarity', 'formation']]"
   ]
  },
  {
   "cell_type": "markdown",
   "metadata": {},
   "source": [
    "#### Section grid\n"
   ]
  },
  {
   "cell_type": "code",
   "execution_count": 15,
   "metadata": {},
   "outputs": [],
   "source": [
    "section_dict = {'section': ([0, 0], [0, 2000], [200,200])}"
   ]
  },
  {
   "cell_type": "markdown",
   "metadata": {},
   "source": [
    "#### UQ"
   ]
  },
  {
   "cell_type": "code",
   "execution_count": 16,
   "metadata": {},
   "outputs": [
    {
     "name": "stdout",
     "output_type": "stream",
     "text": [
      "Active grids: ['regular']\n",
      "Fault colors changed. If you do not like this behavior, set change_color to False.\n",
      "Active grids: ['regular' 'sections']\n",
      "Active grids: ['sections']\n",
      "Realization: 0\n",
      "Realization: 1\n"
     ]
    }
   ],
   "source": [
    "# Constants\n",
    "n_realizations = 2\n",
    "\n",
    "# Setup original model\n",
    "set_configuration_and_topology(\n",
    "    geo_model=geo_model,\n",
    "    series_df=series_df,\n",
    "    surfaces_df=surfaces_df,\n",
    "    extent=[0,2000,0,2000,0,2000],\n",
    "    orientations_original_df=orientations_original_df,\n",
    "    section_dict=section_dict\n",
    ")\n",
    "\n",
    "# Run realizations\n",
    "list_section_data = run_realizations(\n",
    "    geo_model=geo_model,\n",
    "    n_realizations=n_realizations,\n",
    "    surface_points_original_df=surface_points_original_df,\n",
    "    series_df=series_df,\n",
    "    orientations_original_df=orientations_original_df,\n",
    "    section_dict=section_dict\n",
    ")\n",
    "\n",
    "# Process output\n",
    "section_data_stack, lithology_ids = process_list_section_data(\n",
    "    list_section_data=list_section_data)\n",
    "\n",
    "# Count occurrences\n",
    "count_array = count_lithology_occurrences_over_realizations(\n",
    "        section_data_stack=section_data_stack,\n",
    "        lithology_ids=lithology_ids,\n",
    "        section_dict=section_dict\n",
    ")\n",
    "\n",
    "# Calculate entrop\n",
    "entropy_map = calculate_information_entropy(\n",
    "    count_array=count_array, n_realizations=n_realizations)"
   ]
  },
  {
   "cell_type": "code",
   "execution_count": 17,
   "metadata": {},
   "outputs": [
    {
     "data": {
      "image/png": "[encoded data removed]",
      "text/plain": [
       "<Figure size 748.8x514.8 with 2 Axes>"
      ]
     },
     "metadata": {},
     "output_type": "display_data"
    }
   ],
   "source": [
    "plt.imshow(entropy_map[:,::-1].T, cmap='viridis')\n",
    "plt.colorbar()\n",
    "plt.show()"
   ]
  },
  {
   "cell_type": "markdown",
   "metadata": {},
   "source": [
    "#### Questions\n",
    "- ValueError: Surface level must be within volume data range.\n",
    "- conditions for .compute_model()\n",
    "- 1x Orientation per Sereis and 2x SurfacePoints per Surface\n",
    "- f_geologcial_input_data() => modify_surface_points"
   ]
  },
  {
   "cell_type": "code",
   "execution_count": null,
   "metadata": {},
   "outputs": [],
   "source": []
  }
 ],
 "metadata": {
  "kernelspec": {
   "display_name": "Python 3",
   "language": "python",
   "name": "python3"
  },
  "language_info": {
   "codemirror_mode": {
    "name": "ipython",
    "version": 3
   },
   "file_extension": ".py",
   "mimetype": "text/x-python",
   "name": "python",
   "nbconvert_exporter": "python",
   "pygments_lexer": "ipython3",
   "version": "3.6.9"
  }
 },
 "nbformat": 4,
 "nbformat_minor": 4
}
