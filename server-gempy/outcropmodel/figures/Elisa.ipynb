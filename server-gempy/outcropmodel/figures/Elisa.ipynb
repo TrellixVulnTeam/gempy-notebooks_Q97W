{
 "cells": [
  {
   "cell_type": "code",
   "execution_count": 1,
   "metadata": {},
   "outputs": [
    {
     "name": "stderr",
     "output_type": "stream",
     "text": [
      "WARNING (theano.tensor.blas): Using NumPy C-API based implementation for BLAS functions.\n"
     ]
    },
    {
     "name": "stdout",
     "output_type": "stream",
     "text": [
      "/home/namur/coding/notebooks/env/bin/python3\n"
     ]
    }
   ],
   "source": [
    "# standart libs\n",
    "import sys\n",
    "import random\n",
    "import copy\n",
    "import cProfile\n",
    "\n",
    "\n",
    "# 3rd party libs\n",
    "import pandas as pd\n",
    "import numpy as np\n",
    "import gempy as gp\n",
    "import matplotlib.pyplot as plt\n",
    "import matplotlib\n",
    "\n",
    "\n",
    "# local\n",
    "import functions.realization_setup as real_setup\n",
    "import functions.realization_run as real_run\n",
    "import functions.post_processing as post_pro\n",
    "import functions.uq_runs as uq_runs\n",
    "\n",
    "# executable\n",
    "print(sys.executable)"
   ]
  },
  {
   "cell_type": "code",
   "execution_count": 2,
   "metadata": {},
   "outputs": [
    {
     "name": "stdout",
     "output_type": "stream",
     "text": [
      "Active grids: ['regular']\n",
      "Setting kriging parameters to their default values.\n",
      "Compiling theano function...\n",
      "Level of Optimization:  fast_run\n",
      "Device:  cpu\n",
      "Precision:  float64\n",
      "Number of faults:  0\n",
      "Compilation Done!\n",
      "Kriging values: \n",
      "                     values\n",
      "range              1.73205\n",
      "$C_o$            0.0714286\n",
      "drift equations        [3]\n"
     ]
    },
    {
     "data": {
      "text/plain": [
       "<gempy.core.interpolator.InterpolatorModel at 0x7fccab4bfc88>"
      ]
     },
     "execution_count": 2,
     "metadata": {},
     "output_type": "execute_result"
    }
   ],
   "source": [
    "# instantiate the geo_model\n",
    "geo_model = gp.create_model(\"GeoModel\")\n",
    "\n",
    "# defautl data\n",
    "geo_model = gp.init_data(\n",
    "    geo_model,\n",
    "    extent=[0, 1, 0, 1, 0, 1],\n",
    "    resolution=[1, 1, 1]\n",
    ")\n",
    "\n",
    "# compile theno function\n",
    "gp.set_interpolation_data(\n",
    "    geo_model,\n",
    "    compile_theano=True,\n",
    "    theano_optimizer='fast_run',\n",
    ")"
   ]
  },
  {
   "cell_type": "code",
   "execution_count": 3,
   "metadata": {},
   "outputs": [],
   "source": [
    "# meta\n",
    "geo_model_extent_1 = [0,1000,0,1000,0,1000]\n",
    "section_1 = {\n",
    "    'p1': [0, 500],\n",
    "    'p2': [1000, 500],\n",
    "    'resolution': [200, 200]\n",
    "}\n",
    "\n",
    "# sereis\n",
    "series_df_1 = pd.DataFrame(columns=['name', 'isfault', 'order_series'])\n",
    "series_df_1.loc[0] = { 'order_series': 0, 'name': 'Basement_Series', 'isfault': False }\n",
    "series_df_1.loc[1] = { 'order_series': 1, 'name': 'Strat_Series', 'isfault': False }\n",
    "\n",
    "# surfaces\n",
    "surfaces_df_1 = pd.DataFrame(columns=['name', 'serie', 'order_surface'])\n",
    "surfaces_df_1.loc[0] = { 'name': 'basement', 'serie': 'Basement_Series', 'order_surface': 0 }\n",
    "surfaces_df_1.loc[2] = { 'name': 'rock1', 'serie': 'Strat_Series', 'order_surface': 1 }\n",
    "surfaces_df_1.loc[1] = { 'name': 'rock2', 'serie': 'Strat_Series', 'order_surface': 2 }\n",
    "\n",
    "# geoData\n",
    "surface_points_input_data_1 = pd.read_csv('./data/model2_surface_points.csv')\n",
    "orientaions_input_data_1 = pd.read_csv('./data/model2_orientations.csv')\n",
    "\n",
    "# Format geological_input_data\n",
    "surface_points_original_df_1 = surface_points_input_data_1[['X', 'Y', 'Z', 'formation']]\n",
    "\n",
    "# rename colums\n",
    "surface_points_original_df_1.columns = ['X', 'Y', 'Z', 'surface']\n",
    "\n",
    "# add distribution type and parameter\n",
    "surface_points_original_df_1['param1'] = 10\n",
    "\n",
    "# Orientaions\n",
    "orientations_original_df_1 = orientaions_input_data_1[['X', 'Y', 'Z', 'dip', 'azimuth', 'polarity', 'formation']]"
   ]
  },
  {
   "cell_type": "code",
   "execution_count": 5,
   "metadata": {},
   "outputs": [
    {
     "name": "stdout",
     "output_type": "stream",
     "text": [
      "Active grids: ['regular']\n",
      "Active grids: ['regular' 'sections']\n",
      "HOTFIX in update_series()\n",
      "HOTFIX in update_surfaces()\n",
      "Run realizations setup checks until stable workflow.\n"
     ]
    }
   ],
   "source": [
    "# Pass origin data to mode\n",
    "real_setup.setup_realization(\n",
    "        geo_model=geo_model,\n",
    "        geo_model_extent=geo_model_extent_1,\n",
    "        section=section_1,\n",
    "        series_df=series_df_1,\n",
    "        surfaces_df=surfaces_df_1,\n",
    "        surface_points_original_df=surface_points_original_df_1,\n",
    "        orientations_original_df=orientations_original_df_1\n",
    ")\n",
    "\n",
    "# recompute\n",
    "if real_run.check_setup_single_realization(geo_model):\n",
    "    solution = gp.compute_model(model=geo_model, sort_surfaces=False)\n",
    "\n",
    "# extract tops\n",
    "Bx = post_pro.compute_boolean_matrix_for_section_surface_top(geo_model)\n",
    "\n",
    "extent = { 'z_min': 0, 'z_max': 1000 }\n",
    "section_coordinates = post_pro.compute_setction_grid_coordinates(geo_model, extent)\n",
    "\n",
    "tops_dict = post_pro.get_tops_coordinates(Bx, section_coordinates)"
   ]
  },
  {
   "cell_type": "markdown",
   "metadata": {},
   "source": [
    "# Setup a drawn line inlcuding noise"
   ]
  },
  {
   "cell_type": "code",
   "execution_count": 6,
   "metadata": {},
   "outputs": [],
   "source": [
    "# get interpolated tops and extract one\n",
    "x = tops_dict['0-1']['xvals']\n",
    "y = tops_dict['0-1']['yvasl']\n",
    "z = tops_dict['0-1']['zvals']\n",
    "\n",
    "# add noise to the top\n",
    "noise = np.random.normal(0,5,len(x))\n",
    "xx = x + noise\n",
    "noise = np.random.normal(0,5,len(y))\n",
    "yy = y + noise\n",
    "yy = np.array(y)\n",
    "noise = np.random.normal(0,5,len(z))\n",
    "zz = z + noise\n",
    "\n",
    "# remove points that are out of bound\n",
    "xx[xx < 0], xx[xx > 1000] = 0, 1000\n",
    "yy[yy < 0], yy[yy > 1000] = 0, 1000\n",
    "zz[zz < 0], zz[zz > 1000] = 0, 1000"
   ]
  },
  {
   "cell_type": "code",
   "execution_count": 7,
   "metadata": {},
   "outputs": [
    {
     "name": "stdout",
     "output_type": "stream",
     "text": [
      "Run realizations setup checks until stable workflow.\n"
     ]
    }
   ],
   "source": [
    "# creat new df including new noise data\n",
    "df0 = surface_points_original_df_1\n",
    "df1 = pd.DataFrame(columns=df0.columns)\n",
    "df1.X = xx[::4]\n",
    "df1.Y = yy[::4]\n",
    "df1.Z = zz[::4]\n",
    "df1.surface = 'rock1'\n",
    "df1.param1 = 10\n",
    "\n",
    "# concate into new df\n",
    "df2 = pd.concat([df0, df1], ignore_index=True)\n",
    "\n",
    "# set new surface points\n",
    "geo_model.set_surface_points(df2, update_surfaces=False)\n",
    "geo_model.update_to_interpolator()\n",
    "\n",
    "# recompute\n",
    "if real_run.check_setup_single_realization(geo_model):\n",
    "    solution = gp.compute_model(model=geo_model, sort_surfaces=False)\n",
    "\n",
    "# extract tops\n",
    "Bx = post_pro.compute_boolean_matrix_for_section_surface_top(geo_model)\n",
    "\n",
    "extent = { 'z_min': 0, 'z_max': 1000 }\n",
    "section_coordinates = post_pro.compute_setction_grid_coordinates(geo_model, extent)\n",
    "\n",
    "tops_dict = post_pro.get_tops_coordinates(Bx, section_coordinates)\n"
   ]
  },
  {
   "cell_type": "code",
   "execution_count": 8,
   "metadata": {},
   "outputs": [
    {
     "data": {
      "text/plain": [
       "[<matplotlib.lines.Line2D at 0x7fcc8b5e8780>]"
      ]
     },
     "execution_count": 8,
     "metadata": {},
     "output_type": "execute_result"
    },
    {
     "data": {
      "image/png": "[encoded data removed]",
      "text/plain": [
       "<Figure size 748.8x514.8 with 1 Axes>"
      ]
     },
     "metadata": {},
     "output_type": "display_data"
    }
   ],
   "source": [
    "plt.plot(tops_dict['0-1']['xvals'], tops_dict['0-1']['zvals'], '.')\n",
    "plt.plot(\n",
    "    geo_model.surface_points.df[geo_model.surface_points.df.surface == 'rock1']['X'],\n",
    "    geo_model.surface_points.df[geo_model.surface_points.df.surface == 'rock1']['Z'],\n",
    "    '.',\n",
    "    color='orange'\n",
    ")"
   ]
  },
  {
   "cell_type": "markdown",
   "metadata": {},
   "source": [
    "# 1. Kannst du von dem geo_model eine 3D Visualisierung machen?"
   ]
  },
  {
   "cell_type": "code",
   "execution_count": null,
   "metadata": {},
   "outputs": [],
   "source": []
  }
 ],
 "metadata": {
  "kernelspec": {
   "display_name": "notebooks",
   "language": "python",
   "name": "notebooks"
  },
  "language_info": {
   "codemirror_mode": {
    "name": "ipython",
    "version": 3
   },
   "file_extension": ".py",
   "mimetype": "text/x-python",
   "name": "python",
   "nbconvert_exporter": "python",
   "pygments_lexer": "ipython3",
   "version": "3.6.9"
  }
 },
 "nbformat": 4,
 "nbformat_minor": 4
}
