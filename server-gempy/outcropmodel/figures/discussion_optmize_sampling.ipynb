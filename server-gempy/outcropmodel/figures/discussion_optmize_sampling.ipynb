{
 "cells": [
  {
   "cell_type": "code",
   "execution_count": 1,
   "metadata": {},
   "outputs": [
    {
     "name": "stderr",
     "output_type": "stream",
     "text": [
      "WARNING (theano.tensor.blas): Using NumPy C-API based implementation for BLAS functions.\n"
     ]
    }
   ],
   "source": [
    "# standart libs\n",
    "import sys\n",
    "import random\n",
    "import copy\n",
    "from operator import itemgetter\n",
    "from PIL import Image\n",
    "import time\n",
    "\n",
    "\n",
    "# 3rd party libs\n",
    "import pandas as pd\n",
    "import numpy as np\n",
    "import gempy as gp\n",
    "import matplotlib.pyplot as plt\n",
    "import scipy.stats as ss\n",
    "from skimage import measure\n",
    "from matplotlib import gridspec\n",
    "\n",
    "\n",
    "# local\n",
    "import functions.realization_setup as real_setup\n",
    "import functions.realization_run as real_run\n",
    "import functions.post_processing as post_pro\n",
    "import functions.uq_runs as uq_runs"
   ]
  },
  {
   "cell_type": "code",
   "execution_count": 2,
   "metadata": {},
   "outputs": [
    {
     "data": {
      "text/plain": [
       "[<matplotlib.lines.Line2D at 0x7fa91a274320>]"
      ]
     },
     "execution_count": 2,
     "metadata": {},
     "output_type": "execute_result"
    },
    {
     "data": {
      "image/png": "[encoded data removed]",
      "text/plain": [
       "<Figure size 748.8x514.8 with 1 Axes>"
      ]
     },
     "metadata": {},
     "output_type": "display_data"
    }
   ],
   "source": [
    "# create basic form\n",
    "xsim = np.linspace(0, 2 * np.pi, 1000)\n",
    "ysim = np.cos(xsim) * (-1)\n",
    "# rescale\n",
    "xsim = (xsim / (2 * np.pi)) * 1000\n",
    "ysim = (ysim + 1) * 250 + 250\n",
    "\n",
    "# create basic form\n",
    "xcom = np.linspace(0, np.pi, 1000)\n",
    "ycom = np.exp(-xcom) * np.sin(np.pi * xcom)\n",
    "# rescale\n",
    "xcom = (xcom / np.pi) * 1000\n",
    "ycom -= np.min(ycom)\n",
    "ycom = (ycom / np.max(ycom)) * 500 + 250\n",
    "\n",
    "# n-points\n",
    "def n_points(n, xvals, yvals):\n",
    "    st = int(xvals.shape[0] / n)\n",
    "    ss = int(st/2)\n",
    "    return (xvals[ss::st], yvals[ss::st])\n",
    "\n",
    "# sample 5 points\n",
    "xsim_n, ysim_n = n_points(10, xsim, ysim)\n",
    "xcom_n, ycom_n = n_points(10, xcom, ycom)\n",
    "\n",
    "# extrema\n",
    "def extrema(xvals, yvals):\n",
    "    b0 = (yvals[1:] - yvals[:-1]) > 0\n",
    "    b1 = b0[1:] ^ b0[:-1]   \n",
    "    return (xvals[1:-1][b1], yvals[1:-1][b1])\n",
    "\n",
    "# sample extrema\n",
    "xsim_ext, ysim_ext = extrema(xsim, ysim)\n",
    "xcom_ext, ycom_ext = extrema(xcom, ycom)\n",
    "\n",
    "plt.plot(xsim, ysim)"
   ]
  },
  {
   "cell_type": "code",
   "execution_count": 3,
   "metadata": {},
   "outputs": [
    {
     "name": "stdout",
     "output_type": "stream",
     "text": [
      "Active grids: ['regular']\n",
      "Setting kriging parameters to their default values.\n",
      "Compiling theano function...\n",
      "Level of Optimization:  fast_run\n",
      "Device:  cpu\n",
      "Precision:  float64\n",
      "Number of faults:  0\n",
      "Compilation Done!\n",
      "Kriging values: \n",
      "                     values\n",
      "range              1.73205\n",
      "$C_o$            0.0714286\n",
      "drift equations        [3]\n"
     ]
    },
    {
     "data": {
      "text/plain": [
       "<gempy.core.interpolator.InterpolatorModel at 0x7fa91a226cc0>"
      ]
     },
     "execution_count": 3,
     "metadata": {},
     "output_type": "execute_result"
    }
   ],
   "source": [
    "# instantiate the geo_model\n",
    "geo_model = gp.create_model(\"GeoModel\")\n",
    "\n",
    "# defautl data\n",
    "geo_model = gp.init_data(\n",
    "    geo_model,\n",
    "    extent=[0, 1, 0, 1, 0, 1],\n",
    "    resolution=[1, 1, 1]\n",
    ")\n",
    "\n",
    "# compile theno function\n",
    "gp.set_interpolation_data(\n",
    "    geo_model,\n",
    "    compile_theano=True,\n",
    "    theano_optimizer='fast_run',\n",
    ")"
   ]
  },
  {
   "cell_type": "code",
   "execution_count": 4,
   "metadata": {},
   "outputs": [],
   "source": [
    "def compare(xline, yline, A):\n",
    "    \"\"\"Compared the drawn line with the resutling interpolation.\n",
    "    Assumes that (including matrix shifting) the shape of the extracted\n",
    "    line (boolen matrix) equals the shape and coordinates of the drawn\n",
    "    line.\n",
    "    \"\"\"\n",
    "    # create coordinates to extract from\n",
    "    _x = np.arange(0, 998, 1)\n",
    "    X, Y = np.meshgrid(_x, _x)\n",
    "    xcorr, ycoor = X[A], Y[A]\n",
    "    # extract the corresponding line point\n",
    "    # works as boolen matrix idx and line coor are interchangeable\n",
    "    # !nomralized setting! No generic approach!\n",
    "    xerr, yerr = xline[xcorr], yline[xcorr] \n",
    "    # return\n",
    "    return (xcorr, ycoor, xerr, yerr) \n",
    "\n",
    "def sort_xy(x, y):\n",
    "    a = np.argsort(x)\n",
    "    return x[a], y[a]"
   ]
  },
  {
   "cell_type": "code",
   "execution_count": 5,
   "metadata": {},
   "outputs": [],
   "source": [
    "def comp_3points(p):\n",
    "     # setup the model input\n",
    "    extent = [0,1000,0,1000,0,1000]\n",
    "    section = {\n",
    "        'p1': [0, 500],\n",
    "        'p2': [1000, 500],\n",
    "        'resolution': [1000 - 2, 1000 - 1] # to fit plot shape\n",
    "    }\n",
    "    series_df = pd.DataFrame(columns=['name', 'isfault', 'order_series'])\n",
    "    series_df.loc[0] = { 'order_series': 0, 'name': 'Strat_Series', 'isfault': False }\n",
    "    xsim_ext, ysim_ext = extrema(xsim, ysim)\n",
    "    surfaces_df = pd.DataFrame(columns=['name', 'serie', 'order_surface'])\n",
    "    surfaces_df.loc[0] = { 'name': 'basement', 'serie': 'Basement_Series', 'order_surface': 0 }\n",
    "    surfaces_df.loc[1] = { 'name': 'rock1', 'serie': 'Strat_Series', 'order_surface': 1 }\n",
    "    surface_points = pd.DataFrame(columns=['X', 'Y', 'Z', 'surface'])\n",
    "    surface_points.X = np.array([0, p['x'], 1000])\n",
    "    surface_points.Y = 500\n",
    "    surface_points.Z = np.array([250, p['z'], 250])    \n",
    "    surface_points.surface = 'rock1'\n",
    "    orientations = pd.DataFrame(columns=['X', 'Y', 'Z', 'dip', 'azimuth', 'polarity', 'formation'])\n",
    "    orientations.loc[0]=[500, 501, 750, 0, 90, 1, 'rock1']   \n",
    "    real_setup.setup_realization(\n",
    "            geo_model=geo_model,\n",
    "            geo_model_extent=extent,\n",
    "            section=section,\n",
    "            series_df=series_df,\n",
    "            surfaces_df=surfaces_df,\n",
    "            surface_points_original_df=surface_points,\n",
    "            orientations_original_df=orientations\n",
    "    )\n",
    "    print(geo_model.surface_points.df)\n",
    "    if real_run.check_setup_single_realization(geo_model):\n",
    "        solution = gp.compute_model(model=geo_model, sort_surfaces=False)\n",
    "    Bx = post_pro.compute_boolean_matrix_for_section_surface_top(geo_model)\n",
    "    A = Bx['0-1']\n",
    "    # apply\n",
    "    xcoor, ycoor, xerr, yerr = compare(xsim, ysim, A)\n",
    "    # calc err\n",
    "    yerr = ycoor - yerr\n",
    "    # sort\n",
    "    xcoor_sorted, ycoor_sorted = sort_xy(xcoor, ycoor)\n",
    "    xcoor_sorted, yerr_sorted = sort_xy(x=xcoor, y=yerr)\n",
    "    err_abs = np.sum(np.abs(yerr_sorted))\n",
    "    return err_abs "
   ]
  },
  {
   "cell_type": "code",
   "execution_count": 6,
   "metadata": {},
   "outputs": [
    {
     "name": "stdout",
     "output_type": "stream",
     "text": [
      "Active grids: ['regular']\n",
      "Active grids: ['regular' 'sections']\n",
      "HOTFIX in update_series()\n",
      "HOTFIX in update_surfaces()\n",
      "      X    Y    Z     X_r      Y_r     Z_r surface        series  id  \\\n",
      "0     0  500  250  0.2501  0.49985  0.3751   rock1  Strat_Series   2   \n",
      "1   500  500  750  0.5001  0.49985  0.6251   rock1  Strat_Series   2   \n",
      "2  1000  500  250  0.7501  0.49985  0.3751   rock1  Strat_Series   2   \n",
      "\n",
      "   order_series    smooth  \n",
      "0             1  0.000001  \n",
      "1             1  0.000001  \n",
      "2             1  0.000001  \n",
      "Run realizations setup checks until stable workflow.\n"
     ]
    },
    {
     "data": {
      "text/plain": [
       "[<matplotlib.lines.Line2D at 0x7fa8fd842b00>]"
      ]
     },
     "execution_count": 6,
     "metadata": {},
     "output_type": "execute_result"
    },
    {
     "data": {
      "image/png": "[encoded data removed]",
      "text/plain": [
       "<Figure size 748.8x514.8 with 1 Axes>"
      ]
     },
     "metadata": {},
     "output_type": "display_data"
    }
   ],
   "source": [
    "extent = [0,1000,0,1000,0,1000]\n",
    "section = {\n",
    "    'p1': [0, 500],\n",
    "    'p2': [1000, 500],\n",
    "    'resolution': [1000 - 2, 1000 - 1] # to fit plot shape\n",
    "}\n",
    "series_df = pd.DataFrame(columns=['name', 'isfault', 'order_series'])\n",
    "series_df.loc[0] = { 'order_series': 0, 'name': 'Strat_Series', 'isfault': False }\n",
    "xsim_ext, ysim_ext = extrema(xsim, ysim)\n",
    "surfaces_df = pd.DataFrame(columns=['name', 'serie', 'order_surface'])\n",
    "surfaces_df.loc[0] = { 'name': 'basement', 'serie': 'Basement_Series', 'order_surface': 0 }\n",
    "surfaces_df.loc[1] = { 'name': 'rock1', 'serie': 'Strat_Series', 'order_surface': 1 }\n",
    "surface_points = pd.DataFrame(columns=['X', 'Y', 'Z', 'surface'])\n",
    "surface_points.X = np.array([0, 500, 1000])\n",
    "surface_points.Y = 500\n",
    "surface_points.Z = np.array([250, 750, 250])    \n",
    "surface_points.surface = 'rock1'\n",
    "orientations = pd.DataFrame(columns=['X', 'Y', 'Z', 'dip', 'azimuth', 'polarity', 'formation'])\n",
    "orientations.loc[0]=[500, 501, 750, 0, 90, 1, 'rock1']   \n",
    "real_setup.setup_realization(\n",
    "        geo_model=geo_model,\n",
    "        geo_model_extent=extent,\n",
    "        section=section,\n",
    "        series_df=series_df,\n",
    "        surfaces_df=surfaces_df,\n",
    "        surface_points_original_df=surface_points,\n",
    "        orientations_original_df=orientations\n",
    ")\n",
    "print(geo_model.surface_points.df)\n",
    "if real_run.check_setup_single_realization(geo_model):\n",
    "    solution = gp.compute_model(model=geo_model, sort_surfaces=False)\n",
    "Bx = post_pro.compute_boolean_matrix_for_section_surface_top(geo_model)\n",
    "A = Bx['0-1']\n",
    "_x = np.arange(0, 998, 1)\n",
    "X, Y = np.meshgrid(_x, _x)\n",
    "xcorr, ycoor = X[A], Y[A]\n",
    "plt.plot(xcorr, ycoor, 'o')"
   ]
  },
  {
   "cell_type": "code",
   "execution_count": 9,
   "metadata": {},
   "outputs": [
    {
     "name": "stderr",
     "output_type": "stream",
     "text": [
      "/home/namur/coding/notebooks/env/lib/python3.6/site-packages/ipykernel_launcher.py:18: VisibleDeprecationWarning: Creating an ndarray from ragged nested sequences (which is a list-or-tuple of lists-or-tuples-or ndarrays with different lengths or shapes) is deprecated. If you meant to do this, you must specify 'dtype=object' when creating the ndarray\n"
     ]
    },
    {
     "name": "stdout",
     "output_type": "stream",
     "text": [
      "Active grids: ['regular' 'sections']\n",
      "Active grids: ['regular' 'sections']\n",
      "HOTFIX in update_series()\n",
      "             X    Y                    Z       X_r      Y_r  \\\n",
      "0     0.000000  500                  250  0.250100  0.49985   \n",
      "1     1.001001  500  [250.0049446703292]  0.250601  0.49985   \n",
      "2  1000.000000  500                  250  0.750100  0.49985   \n",
      "\n",
      "                    Z_r surface        series  id  order_series    smooth  \n",
      "0                0.3751   rock1  Strat_Series   2             1  0.000001  \n",
      "1  [0.3751024723351646]   rock1  Strat_Series   2             1  0.000001  \n",
      "2                0.3751   rock1  Strat_Series   2             1  0.000001  \n",
      "Run realizations setup checks until stable workflow.\n"
     ]
    },
    {
     "name": "stderr",
     "output_type": "stream",
     "text": [
      "/home/namur/coding/notebooks/env/lib/python3.6/site-packages/ipykernel_launcher.py:18: VisibleDeprecationWarning: Creating an ndarray from ragged nested sequences (which is a list-or-tuple of lists-or-tuples-or ndarrays with different lengths or shapes) is deprecated. If you meant to do this, you must specify 'dtype=object' when creating the ndarray\n"
     ]
    },
    {
     "name": "stdout",
     "output_type": "stream",
     "text": [
      "Active grids: ['regular' 'sections']\n",
      "Active grids: ['regular' 'sections']\n",
      "HOTFIX in update_series()\n",
      "             X    Y                     Z       X_r      Y_r  \\\n",
      "0     0.000000  500                   250  0.250100  0.49985   \n",
      "1    21.021021  500  [252.17743861553615]  0.260611  0.49985   \n",
      "2  1000.000000  500                   250  0.750100  0.49985   \n",
      "\n",
      "                    Z_r surface        series  id  order_series    smooth  \n",
      "0                0.3751   rock1  Strat_Series   2             1  0.000001  \n",
      "1  [0.3761887193077681]   rock1  Strat_Series   2             1  0.000001  \n",
      "2                0.3751   rock1  Strat_Series   2             1  0.000001  \n",
      "Run realizations setup checks until stable workflow.\n"
     ]
    },
    {
     "name": "stderr",
     "output_type": "stream",
     "text": [
      "/home/namur/coding/notebooks/env/lib/python3.6/site-packages/ipykernel_launcher.py:18: VisibleDeprecationWarning: Creating an ndarray from ragged nested sequences (which is a list-or-tuple of lists-or-tuples-or ndarrays with different lengths or shapes) is deprecated. If you meant to do this, you must specify 'dtype=object' when creating the ndarray\n"
     ]
    },
    {
     "name": "stdout",
     "output_type": "stream",
     "text": [
      "Active grids: ['regular' 'sections']\n",
      "Active grids: ['regular' 'sections']\n",
      "HOTFIX in update_series()\n",
      "             X    Y                    Z       X_r      Y_r  \\\n",
      "0     0.000000  500                  250  0.250100  0.49985   \n",
      "1    41.041041  500  [258.2660604310004]  0.270621  0.49985   \n",
      "2  1000.000000  500                  250  0.750100  0.49985   \n",
      "\n",
      "                    Z_r surface        series  id  order_series    smooth  \n",
      "0                0.3751   rock1  Strat_Series   2             1  0.000001  \n",
      "1  [0.3792330302155002]   rock1  Strat_Series   2             1  0.000001  \n",
      "2                0.3751   rock1  Strat_Series   2             1  0.000001  \n",
      "Run realizations setup checks until stable workflow.\n"
     ]
    },
    {
     "name": "stderr",
     "output_type": "stream",
     "text": [
      "/home/namur/coding/notebooks/env/lib/python3.6/site-packages/ipykernel_launcher.py:18: VisibleDeprecationWarning: Creating an ndarray from ragged nested sequences (which is a list-or-tuple of lists-or-tuples-or ndarrays with different lengths or shapes) is deprecated. If you meant to do this, you must specify 'dtype=object' when creating the ndarray\n"
     ]
    },
    {
     "name": "stdout",
     "output_type": "stream",
     "text": [
      "Active grids: ['regular' 'sections']\n",
      "Active grids: ['regular' 'sections']\n",
      "HOTFIX in update_series()\n",
      "             X    Y                     Z       X_r      Y_r  \\\n",
      "0     0.000000  500                   250  0.250100  0.49985   \n",
      "1    61.061061  500  [268.17459683634195]  0.280631  0.49985   \n",
      "2  1000.000000  500                   250  0.750100  0.49985   \n",
      "\n",
      "                     Z_r surface        series  id  order_series    smooth  \n",
      "0                 0.3751   rock1  Strat_Series   2             1  0.000001  \n",
      "1  [0.38418729841817095]   rock1  Strat_Series   2             1  0.000001  \n",
      "2                 0.3751   rock1  Strat_Series   2             1  0.000001  \n",
      "Run realizations setup checks until stable workflow.\n"
     ]
    },
    {
     "name": "stderr",
     "output_type": "stream",
     "text": [
      "/home/namur/coding/notebooks/env/lib/python3.6/site-packages/ipykernel_launcher.py:18: VisibleDeprecationWarning: Creating an ndarray from ragged nested sequences (which is a list-or-tuple of lists-or-tuples-or ndarrays with different lengths or shapes) is deprecated. If you meant to do this, you must specify 'dtype=object' when creating the ndarray\n"
     ]
    },
    {
     "name": "stdout",
     "output_type": "stream",
     "text": [
      "Active grids: ['regular' 'sections']\n",
      "Active grids: ['regular' 'sections']\n",
      "HOTFIX in update_series()\n",
      "             X    Y                   Z       X_r      Y_r  \\\n",
      "0     0.000000  500                 250  0.250100  0.49985   \n",
      "1    81.081081  500  [281.746471709703]  0.290641  0.49985   \n",
      "2  1000.000000  500                 250  0.750100  0.49985   \n",
      "\n",
      "                     Z_r surface        series  id  order_series    smooth  \n",
      "0                 0.3751   rock1  Strat_Series   2             1  0.000001  \n",
      "1  [0.39097323585485144]   rock1  Strat_Series   2             1  0.000001  \n",
      "2                 0.3751   rock1  Strat_Series   2             1  0.000001  \n",
      "Run realizations setup checks until stable workflow.\n"
     ]
    },
    {
     "name": "stderr",
     "output_type": "stream",
     "text": [
      "/home/namur/coding/notebooks/env/lib/python3.6/site-packages/ipykernel_launcher.py:18: VisibleDeprecationWarning: Creating an ndarray from ragged nested sequences (which is a list-or-tuple of lists-or-tuples-or ndarrays with different lengths or shapes) is deprecated. If you meant to do this, you must specify 'dtype=object' when creating the ndarray\n"
     ]
    },
    {
     "name": "stdout",
     "output_type": "stream",
     "text": [
      "Active grids: ['regular' 'sections']\n",
      "Active grids: ['regular' 'sections']\n",
      "HOTFIX in update_series()\n",
      "             X    Y                    Z       X_r      Y_r  \\\n",
      "0     0.000000  500                  250  0.250100  0.49985   \n",
      "1   101.101101  500  [298.7672203262163]  0.300651  0.49985   \n",
      "2  1000.000000  500                  250  0.750100  0.49985   \n",
      "\n",
      "                    Z_r surface        series  id  order_series    smooth  \n",
      "0                0.3751   rock1  Strat_Series   2             1  0.000001  \n",
      "1  [0.3994836101631082]   rock1  Strat_Series   2             1  0.000001  \n",
      "2                0.3751   rock1  Strat_Series   2             1  0.000001  \n",
      "Run realizations setup checks until stable workflow.\n"
     ]
    },
    {
     "name": "stderr",
     "output_type": "stream",
     "text": [
      "/home/namur/coding/notebooks/env/lib/python3.6/site-packages/ipykernel_launcher.py:18: VisibleDeprecationWarning: Creating an ndarray from ragged nested sequences (which is a list-or-tuple of lists-or-tuples-or ndarrays with different lengths or shapes) is deprecated. If you meant to do this, you must specify 'dtype=object' when creating the ndarray\n"
     ]
    },
    {
     "name": "stdout",
     "output_type": "stream",
     "text": [
      "Active grids: ['regular' 'sections']\n",
      "Active grids: ['regular' 'sections']\n",
      "HOTFIX in update_series()\n",
      "             X    Y                     Z       X_r      Y_r  \\\n",
      "0     0.000000  500                   250  0.250100  0.49985   \n",
      "1   121.121121  500  [318.96787836052994]  0.310661  0.49985   \n",
      "2  1000.000000  500                   250  0.750100  0.49985   \n",
      "\n",
      "                   Z_r surface        series  id  order_series    smooth  \n",
      "0               0.3751   rock1  Strat_Series   2             1  0.000001  \n",
      "1  [0.409583939180265]   rock1  Strat_Series   2             1  0.000001  \n",
      "2               0.3751   rock1  Strat_Series   2             1  0.000001  \n",
      "Run realizations setup checks until stable workflow.\n"
     ]
    },
    {
     "name": "stderr",
     "output_type": "stream",
     "text": [
      "/home/namur/coding/notebooks/env/lib/python3.6/site-packages/ipykernel_launcher.py:18: VisibleDeprecationWarning: Creating an ndarray from ragged nested sequences (which is a list-or-tuple of lists-or-tuples-or ndarrays with different lengths or shapes) is deprecated. If you meant to do this, you must specify 'dtype=object' when creating the ndarray\n"
     ]
    },
    {
     "name": "stdout",
     "output_type": "stream",
     "text": [
      "Active grids: ['regular' 'sections']\n",
      "Active grids: ['regular' 'sections']\n",
      "HOTFIX in update_series()\n",
      "             X    Y                     Z       X_r      Y_r  \\\n",
      "0     0.000000  500                   250  0.250100  0.49985   \n",
      "1   141.141141  500  [342.02923209988194]  0.320671  0.49985   \n",
      "2  1000.000000  500                   250  0.750100  0.49985   \n",
      "\n",
      "                     Z_r surface        series  id  order_series    smooth  \n",
      "0                 0.3751   rock1  Strat_Series   2             1  0.000001  \n",
      "1  [0.42111461604994094]   rock1  Strat_Series   2             1  0.000001  \n",
      "2                 0.3751   rock1  Strat_Series   2             1  0.000001  \n",
      "Run realizations setup checks until stable workflow.\n"
     ]
    },
    {
     "name": "stderr",
     "output_type": "stream",
     "text": [
      "/home/namur/coding/notebooks/env/lib/python3.6/site-packages/ipykernel_launcher.py:18: VisibleDeprecationWarning: Creating an ndarray from ragged nested sequences (which is a list-or-tuple of lists-or-tuples-or ndarrays with different lengths or shapes) is deprecated. If you meant to do this, you must specify 'dtype=object' when creating the ndarray\n"
     ]
    },
    {
     "name": "stdout",
     "output_type": "stream",
     "text": [
      "Active grids: ['regular' 'sections']\n",
      "Active grids: ['regular' 'sections']\n",
      "HOTFIX in update_series()\n",
      "             X    Y                     Z       X_r      Y_r  \\\n",
      "0     0.000000  500                   250  0.250100  0.49985   \n",
      "1   161.161161  500  [367.58686270524487]  0.330681  0.49985   \n",
      "2  1000.000000  500                   250  0.750100  0.49985   \n",
      "\n",
      "                    Z_r surface        series  id  order_series    smooth  \n",
      "0                0.3751   rock1  Strat_Series   2             1  0.000001  \n",
      "1  [0.4338934313526224]   rock1  Strat_Series   2             1  0.000001  \n",
      "2                0.3751   rock1  Strat_Series   2             1  0.000001  \n",
      "Run realizations setup checks until stable workflow.\n"
     ]
    },
    {
     "name": "stderr",
     "output_type": "stream",
     "text": [
      "/home/namur/coding/notebooks/env/lib/python3.6/site-packages/ipykernel_launcher.py:18: VisibleDeprecationWarning: Creating an ndarray from ragged nested sequences (which is a list-or-tuple of lists-or-tuples-or ndarrays with different lengths or shapes) is deprecated. If you meant to do this, you must specify 'dtype=object' when creating the ndarray\n"
     ]
    },
    {
     "name": "stdout",
     "output_type": "stream",
     "text": [
      "Active grids: ['regular' 'sections']\n",
      "Active grids: ['regular' 'sections']\n",
      "HOTFIX in update_series()\n",
      "             X    Y                    Z       X_r      Y_r  \\\n",
      "0     0.000000  500                  250  0.250100  0.49985   \n",
      "1   181.181181  500  [395.2369048103975]  0.340691  0.49985   \n",
      "2  1000.000000  500                  250  0.750100  0.49985   \n",
      "\n",
      "                     Z_r surface        series  id  order_series    smooth  \n",
      "0                 0.3751   rock1  Strat_Series   2             1  0.000001  \n",
      "1  [0.44771845240519875]   rock1  Strat_Series   2             1  0.000001  \n",
      "2                 0.3751   rock1  Strat_Series   2             1  0.000001  \n",
      "Run realizations setup checks until stable workflow.\n"
     ]
    },
    {
     "name": "stderr",
     "output_type": "stream",
     "text": [
      "/home/namur/coding/notebooks/env/lib/python3.6/site-packages/ipykernel_launcher.py:18: VisibleDeprecationWarning: Creating an ndarray from ragged nested sequences (which is a list-or-tuple of lists-or-tuples-or ndarrays with different lengths or shapes) is deprecated. If you meant to do this, you must specify 'dtype=object' when creating the ndarray\n"
     ]
    },
    {
     "name": "stdout",
     "output_type": "stream",
     "text": [
      "Active grids: ['regular' 'sections']\n",
      "Active grids: ['regular' 'sections']\n",
      "HOTFIX in update_series()\n",
      "             X    Y                     Z       X_r      Y_r  \\\n",
      "0     0.000000  500                   250  0.250100  0.49985   \n",
      "1   201.201201  500  [424.54242846071077]  0.350701  0.49985   \n",
      "2  1000.000000  500                   250  0.750100  0.49985   \n",
      "\n",
      "                    Z_r surface        series  id  order_series    smooth  \n",
      "0                0.3751   rock1  Strat_Series   2             1  0.000001  \n",
      "1  [0.4623712142303554]   rock1  Strat_Series   2             1  0.000001  \n",
      "2                0.3751   rock1  Strat_Series   2             1  0.000001  \n",
      "Run realizations setup checks until stable workflow.\n"
     ]
    },
    {
     "name": "stderr",
     "output_type": "stream",
     "text": [
      "/home/namur/coding/notebooks/env/lib/python3.6/site-packages/ipykernel_launcher.py:18: VisibleDeprecationWarning: Creating an ndarray from ragged nested sequences (which is a list-or-tuple of lists-or-tuples-or ndarrays with different lengths or shapes) is deprecated. If you meant to do this, you must specify 'dtype=object' when creating the ndarray\n"
     ]
    },
    {
     "name": "stdout",
     "output_type": "stream",
     "text": [
      "Active grids: ['regular' 'sections']\n",
      "Active grids: ['regular' 'sections']\n",
      "HOTFIX in update_series()\n",
      "             X    Y                     Z       X_r      Y_r  \\\n",
      "0     0.000000  500                   250  0.250100  0.49985   \n",
      "1   221.221221  500  [455.04034354333004]  0.360711  0.49985   \n",
      "2  1000.000000  500                   250  0.750100  0.49985   \n",
      "\n",
      "                   Z_r surface        series  id  order_series    smooth  \n",
      "0               0.3751   rock1  Strat_Series   2             1  0.000001  \n",
      "1  [0.477620171771665]   rock1  Strat_Series   2             1  0.000001  \n",
      "2               0.3751   rock1  Strat_Series   2             1  0.000001  \n",
      "Run realizations setup checks until stable workflow.\n"
     ]
    },
    {
     "name": "stderr",
     "output_type": "stream",
     "text": [
      "/home/namur/coding/notebooks/env/lib/python3.6/site-packages/ipykernel_launcher.py:18: VisibleDeprecationWarning: Creating an ndarray from ragged nested sequences (which is a list-or-tuple of lists-or-tuples-or ndarrays with different lengths or shapes) is deprecated. If you meant to do this, you must specify 'dtype=object' when creating the ndarray\n"
     ]
    },
    {
     "name": "stdout",
     "output_type": "stream",
     "text": [
      "Active grids: ['regular' 'sections']\n",
      "Active grids: ['regular' 'sections']\n",
      "HOTFIX in update_series()\n",
      "             X    Y                    Z       X_r      Y_r  \\\n",
      "0     0.000000  500                  250  0.250100  0.49985   \n",
      "1   241.241241  500  [486.2487176039517]  0.370721  0.49985   \n",
      "2  1000.000000  500                  250  0.750100  0.49985   \n",
      "\n",
      "                     Z_r surface        series  id  order_series    smooth  \n",
      "0                 0.3751   rock1  Strat_Series   2             1  0.000001  \n",
      "1  [0.49322435880197585]   rock1  Strat_Series   2             1  0.000001  \n",
      "2                 0.3751   rock1  Strat_Series   2             1  0.000001  \n",
      "Run realizations setup checks until stable workflow.\n"
     ]
    },
    {
     "name": "stderr",
     "output_type": "stream",
     "text": [
      "/home/namur/coding/notebooks/env/lib/python3.6/site-packages/ipykernel_launcher.py:18: VisibleDeprecationWarning: Creating an ndarray from ragged nested sequences (which is a list-or-tuple of lists-or-tuples-or ndarrays with different lengths or shapes) is deprecated. If you meant to do this, you must specify 'dtype=object' when creating the ndarray\n"
     ]
    },
    {
     "name": "stdout",
     "output_type": "stream",
     "text": [
      "Active grids: ['regular' 'sections']\n",
      "Active grids: ['regular' 'sections']\n",
      "HOTFIX in update_series()\n",
      "             X    Y                    Z       X_r      Y_r  \\\n",
      "0     0.000000  500                  250  0.250100  0.49985   \n",
      "1   261.261261  500  [517.6743914129986]  0.380731  0.49985   \n",
      "2  1000.000000  500                  250  0.750100  0.49985   \n",
      "\n",
      "                    Z_r surface        series  id  order_series    smooth  \n",
      "0                0.3751   rock1  Strat_Series   2             1  0.000001  \n",
      "1  [0.5089371957064993]   rock1  Strat_Series   2             1  0.000001  \n",
      "2                0.3751   rock1  Strat_Series   2             1  0.000001  \n",
      "Run realizations setup checks until stable workflow.\n"
     ]
    },
    {
     "name": "stderr",
     "output_type": "stream",
     "text": [
      "/home/namur/coding/notebooks/env/lib/python3.6/site-packages/ipykernel_launcher.py:18: VisibleDeprecationWarning: Creating an ndarray from ragged nested sequences (which is a list-or-tuple of lists-or-tuples-or ndarrays with different lengths or shapes) is deprecated. If you meant to do this, you must specify 'dtype=object' when creating the ndarray\n"
     ]
    },
    {
     "name": "stdout",
     "output_type": "stream",
     "text": [
      "Active grids: ['regular' 'sections']\n",
      "Active grids: ['regular' 'sections']\n",
      "HOTFIX in update_series()\n",
      "             X    Y                    Z       X_r      Y_r  \\\n",
      "0     0.000000  500                  250  0.250100  0.49985   \n",
      "1   281.281281  500  [548.8207719389175]  0.390741  0.49985   \n",
      "2  1000.000000  500                  250  0.750100  0.49985   \n",
      "\n",
      "                    Z_r surface        series  id  order_series    smooth  \n",
      "0                0.3751   rock1  Strat_Series   2             1  0.000001  \n",
      "1  [0.5245103859694588]   rock1  Strat_Series   2             1  0.000001  \n",
      "2                0.3751   rock1  Strat_Series   2             1  0.000001  \n",
      "Run realizations setup checks until stable workflow.\n"
     ]
    },
    {
     "name": "stderr",
     "output_type": "stream",
     "text": [
      "/home/namur/coding/notebooks/env/lib/python3.6/site-packages/ipykernel_launcher.py:18: VisibleDeprecationWarning: Creating an ndarray from ragged nested sequences (which is a list-or-tuple of lists-or-tuples-or ndarrays with different lengths or shapes) is deprecated. If you meant to do this, you must specify 'dtype=object' when creating the ndarray\n"
     ]
    },
    {
     "name": "stdout",
     "output_type": "stream",
     "text": [
      "Active grids: ['regular' 'sections']\n",
      "Active grids: ['regular' 'sections']\n",
      "HOTFIX in update_series()\n",
      "             X    Y                    Z       X_r      Y_r  \\\n",
      "0     0.000000  500                  250  0.250100  0.49985   \n",
      "1   301.301301  500  [579.1956795829105]  0.400751  0.49985   \n",
      "2  1000.000000  500                  250  0.750100  0.49985   \n",
      "\n",
      "                    Z_r surface        series  id  order_series    smooth  \n",
      "0                0.3751   rock1  Strat_Series   2             1  0.000001  \n",
      "1  [0.5396978397914552]   rock1  Strat_Series   2             1  0.000001  \n",
      "2                0.3751   rock1  Strat_Series   2             1  0.000001  \n",
      "Run realizations setup checks until stable workflow.\n"
     ]
    },
    {
     "name": "stderr",
     "output_type": "stream",
     "text": [
      "/home/namur/coding/notebooks/env/lib/python3.6/site-packages/ipykernel_launcher.py:18: VisibleDeprecationWarning: Creating an ndarray from ragged nested sequences (which is a list-or-tuple of lists-or-tuples-or ndarrays with different lengths or shapes) is deprecated. If you meant to do this, you must specify 'dtype=object' when creating the ndarray\n"
     ]
    },
    {
     "name": "stdout",
     "output_type": "stream",
     "text": [
      "Active grids: ['regular' 'sections']\n",
      "Active grids: ['regular' 'sections']\n",
      "HOTFIX in update_series()\n",
      "             X    Y                    Z       X_r      Y_r  \\\n",
      "0     0.000000  500                  250  0.250100  0.49985   \n",
      "1   321.321321  500  [608.3191256719672]  0.410761  0.49985   \n",
      "2  1000.000000  500                  250  0.750100  0.49985   \n",
      "\n",
      "                    Z_r surface        series  id  order_series    smooth  \n",
      "0                0.3751   rock1  Strat_Series   2             1  0.000001  \n",
      "1  [0.5542595628359835]   rock1  Strat_Series   2             1  0.000001  \n",
      "2                0.3751   rock1  Strat_Series   2             1  0.000001  \n",
      "Run realizations setup checks until stable workflow.\n"
     ]
    },
    {
     "name": "stderr",
     "output_type": "stream",
     "text": [
      "/home/namur/coding/notebooks/env/lib/python3.6/site-packages/ipykernel_launcher.py:18: VisibleDeprecationWarning: Creating an ndarray from ragged nested sequences (which is a list-or-tuple of lists-or-tuples-or ndarrays with different lengths or shapes) is deprecated. If you meant to do this, you must specify 'dtype=object' when creating the ndarray\n"
     ]
    },
    {
     "name": "stdout",
     "output_type": "stream",
     "text": [
      "Active grids: ['regular' 'sections']\n",
      "Active grids: ['regular' 'sections']\n",
      "HOTFIX in update_series()\n",
      "             X    Y                    Z       X_r      Y_r  \\\n",
      "0     0.000000  500                  250  0.250100  0.49985   \n",
      "1   341.341341  500  [635.7308973091248]  0.420771  0.49985   \n",
      "2  1000.000000  500                  250  0.750100  0.49985   \n",
      "\n",
      "                    Z_r surface        series  id  order_series    smooth  \n",
      "0                0.3751   rock1  Strat_Series   2             1  0.000001  \n",
      "1  [0.5679654486545623]   rock1  Strat_Series   2             1  0.000001  \n",
      "2                0.3751   rock1  Strat_Series   2             1  0.000001  \n",
      "Run realizations setup checks until stable workflow.\n"
     ]
    },
    {
     "name": "stderr",
     "output_type": "stream",
     "text": [
      "/home/namur/coding/notebooks/env/lib/python3.6/site-packages/ipykernel_launcher.py:18: VisibleDeprecationWarning: Creating an ndarray from ragged nested sequences (which is a list-or-tuple of lists-or-tuples-or ndarrays with different lengths or shapes) is deprecated. If you meant to do this, you must specify 'dtype=object' when creating the ndarray\n"
     ]
    },
    {
     "name": "stdout",
     "output_type": "stream",
     "text": [
      "Active grids: ['regular' 'sections']\n",
      "Active grids: ['regular' 'sections']\n",
      "HOTFIX in update_series()\n",
      "             X    Y                    Z       X_r      Y_r  \\\n",
      "0     0.000000  500                  250  0.250100  0.49985   \n",
      "1   361.361361  500  [660.9978297240671]  0.430781  0.49985   \n",
      "2  1000.000000  500                  250  0.750100  0.49985   \n",
      "\n",
      "                    Z_r surface        series  id  order_series    smooth  \n",
      "0                0.3751   rock1  Strat_Series   2             1  0.000001  \n",
      "1  [0.5805989148620335]   rock1  Strat_Series   2             1  0.000001  \n",
      "2                0.3751   rock1  Strat_Series   2             1  0.000001  \n",
      "Run realizations setup checks until stable workflow.\n"
     ]
    },
    {
     "name": "stderr",
     "output_type": "stream",
     "text": [
      "/home/namur/coding/notebooks/env/lib/python3.6/site-packages/ipykernel_launcher.py:18: VisibleDeprecationWarning: Creating an ndarray from ragged nested sequences (which is a list-or-tuple of lists-or-tuples-or ndarrays with different lengths or shapes) is deprecated. If you meant to do this, you must specify 'dtype=object' when creating the ndarray\n"
     ]
    },
    {
     "name": "stdout",
     "output_type": "stream",
     "text": [
      "Active grids: ['regular' 'sections']\n",
      "Active grids: ['regular' 'sections']\n",
      "HOTFIX in update_series()\n",
      "             X    Y                   Z       X_r      Y_r  \\\n",
      "0     0.000000  500                 250  0.250100  0.49985   \n",
      "1   381.381381  500  [683.720651205319]  0.440791  0.49985   \n",
      "2  1000.000000  500                 250  0.750100  0.49985   \n",
      "\n",
      "                    Z_r surface        series  id  order_series    smooth  \n",
      "0                0.3751   rock1  Strat_Series   2             1  0.000001  \n",
      "1  [0.5919603256026594]   rock1  Strat_Series   2             1  0.000001  \n",
      "2                0.3751   rock1  Strat_Series   2             1  0.000001  \n",
      "Run realizations setup checks until stable workflow.\n"
     ]
    },
    {
     "name": "stderr",
     "output_type": "stream",
     "text": [
      "/home/namur/coding/notebooks/env/lib/python3.6/site-packages/ipykernel_launcher.py:18: VisibleDeprecationWarning: Creating an ndarray from ragged nested sequences (which is a list-or-tuple of lists-or-tuples-or ndarrays with different lengths or shapes) is deprecated. If you meant to do this, you must specify 'dtype=object' when creating the ndarray\n"
     ]
    },
    {
     "name": "stdout",
     "output_type": "stream",
     "text": [
      "Active grids: ['regular' 'sections']\n",
      "Active grids: ['regular' 'sections']\n",
      "HOTFIX in update_series()\n",
      "             X    Y                    Z       X_r      Y_r  \\\n",
      "0     0.000000  500                  250  0.250100  0.49985   \n",
      "1   401.401401  500  [703.5402924494381]  0.450801  0.49985   \n",
      "2  1000.000000  500                  250  0.750100  0.49985   \n",
      "\n",
      "                   Z_r surface        series  id  order_series    smooth  \n",
      "0               0.3751   rock1  Strat_Series   2             1  0.000001  \n",
      "1  [0.601870146224719]   rock1  Strat_Series   2             1  0.000001  \n",
      "2               0.3751   rock1  Strat_Series   2             1  0.000001  \n",
      "Run realizations setup checks until stable workflow.\n"
     ]
    },
    {
     "name": "stderr",
     "output_type": "stream",
     "text": [
      "/home/namur/coding/notebooks/env/lib/python3.6/site-packages/ipykernel_launcher.py:18: VisibleDeprecationWarning: Creating an ndarray from ragged nested sequences (which is a list-or-tuple of lists-or-tuples-or ndarrays with different lengths or shapes) is deprecated. If you meant to do this, you must specify 'dtype=object' when creating the ndarray\n"
     ]
    },
    {
     "name": "stdout",
     "output_type": "stream",
     "text": [
      "Active grids: ['regular' 'sections']\n",
      "Active grids: ['regular' 'sections']\n",
      "HOTFIX in update_series()\n",
      "             X    Y                    Z       X_r      Y_r  \\\n",
      "0     0.000000  500                  250  0.250100  0.49985   \n",
      "1   421.421421  500  [720.1435606259536]  0.460811  0.49985   \n",
      "2  1000.000000  500                  250  0.750100  0.49985   \n",
      "\n",
      "                    Z_r surface        series  id  order_series    smooth  \n",
      "0                0.3751   rock1  Strat_Series   2             1  0.000001  \n",
      "1  [0.6101717803129768]   rock1  Strat_Series   2             1  0.000001  \n",
      "2                0.3751   rock1  Strat_Series   2             1  0.000001  \n",
      "Run realizations setup checks until stable workflow.\n"
     ]
    },
    {
     "name": "stderr",
     "output_type": "stream",
     "text": [
      "/home/namur/coding/notebooks/env/lib/python3.6/site-packages/ipykernel_launcher.py:18: VisibleDeprecationWarning: Creating an ndarray from ragged nested sequences (which is a list-or-tuple of lists-or-tuples-or ndarrays with different lengths or shapes) is deprecated. If you meant to do this, you must specify 'dtype=object' when creating the ndarray\n"
     ]
    },
    {
     "name": "stdout",
     "output_type": "stream",
     "text": [
      "Active grids: ['regular' 'sections']\n",
      "Active grids: ['regular' 'sections']\n",
      "HOTFIX in update_series()\n",
      "             X    Y                    Z       X_r      Y_r  \\\n",
      "0     0.000000  500                  250  0.250100  0.49985   \n",
      "1   441.441441  500  [733.2680884956593]  0.470821  0.49985   \n",
      "2  1000.000000  500                  250  0.750100  0.49985   \n",
      "\n",
      "                    Z_r surface        series  id  order_series    smooth  \n",
      "0                0.3751   rock1  Strat_Series   2             1  0.000001  \n",
      "1  [0.6167340442478296]   rock1  Strat_Series   2             1  0.000001  \n",
      "2                0.3751   rock1  Strat_Series   2             1  0.000001  \n",
      "Run realizations setup checks until stable workflow.\n"
     ]
    },
    {
     "name": "stderr",
     "output_type": "stream",
     "text": [
      "/home/namur/coding/notebooks/env/lib/python3.6/site-packages/ipykernel_launcher.py:18: VisibleDeprecationWarning: Creating an ndarray from ragged nested sequences (which is a list-or-tuple of lists-or-tuples-or ndarrays with different lengths or shapes) is deprecated. If you meant to do this, you must specify 'dtype=object' when creating the ndarray\n"
     ]
    },
    {
     "name": "stdout",
     "output_type": "stream",
     "text": [
      "Active grids: ['regular' 'sections']\n",
      "Active grids: ['regular' 'sections']\n",
      "HOTFIX in update_series()\n",
      "             X    Y                    Z       X_r      Y_r  \\\n",
      "0     0.000000  500                  250  0.250100  0.49985   \n",
      "1   461.461461  500  [742.7064803755819]  0.480831  0.49985   \n",
      "2  1000.000000  500                  250  0.750100  0.49985   \n",
      "\n",
      "                    Z_r surface        series  id  order_series    smooth  \n",
      "0                0.3751   rock1  Strat_Series   2             1  0.000001  \n",
      "1  [0.6214532401877909]   rock1  Strat_Series   2             1  0.000001  \n",
      "2                0.3751   rock1  Strat_Series   2             1  0.000001  \n",
      "Run realizations setup checks until stable workflow.\n"
     ]
    },
    {
     "name": "stderr",
     "output_type": "stream",
     "text": [
      "/home/namur/coding/notebooks/env/lib/python3.6/site-packages/ipykernel_launcher.py:18: VisibleDeprecationWarning: Creating an ndarray from ragged nested sequences (which is a list-or-tuple of lists-or-tuples-or ndarrays with different lengths or shapes) is deprecated. If you meant to do this, you must specify 'dtype=object' when creating the ndarray\n"
     ]
    },
    {
     "name": "stdout",
     "output_type": "stream",
     "text": [
      "Active grids: ['regular' 'sections']\n",
      "Active grids: ['regular' 'sections']\n",
      "HOTFIX in update_series()\n",
      "             X    Y                    Z       X_r      Y_r  \\\n",
      "0     0.000000  500                  250  0.250100  0.49985   \n",
      "1   481.481481  500  [748.3095894354858]  0.490841  0.49985   \n",
      "2  1000.000000  500                  250  0.750100  0.49985   \n",
      "\n",
      "                    Z_r surface        series  id  order_series    smooth  \n",
      "0                0.3751   rock1  Strat_Series   2             1  0.000001  \n",
      "1  [0.6242547947177429]   rock1  Strat_Series   2             1  0.000001  \n",
      "2                0.3751   rock1  Strat_Series   2             1  0.000001  \n",
      "Run realizations setup checks until stable workflow.\n"
     ]
    },
    {
     "name": "stderr",
     "output_type": "stream",
     "text": [
      "/home/namur/coding/notebooks/env/lib/python3.6/site-packages/ipykernel_launcher.py:18: VisibleDeprecationWarning: Creating an ndarray from ragged nested sequences (which is a list-or-tuple of lists-or-tuples-or ndarrays with different lengths or shapes) is deprecated. If you meant to do this, you must specify 'dtype=object' when creating the ndarray\n"
     ]
    },
    {
     "name": "stdout",
     "output_type": "stream",
     "text": [
      "Active grids: ['regular' 'sections']\n",
      "Active grids: ['regular' 'sections']\n",
      "HOTFIX in update_series()\n",
      "             X    Y                    Z       X_r      Y_r  \\\n",
      "0     0.000000  500                  250  0.250100  0.49985   \n",
      "1   501.501502  500  [749.9888745376028]  0.500851  0.49985   \n",
      "2  1000.000000  500                  250  0.750100  0.49985   \n",
      "\n",
      "                    Z_r surface        series  id  order_series    smooth  \n",
      "0                0.3751   rock1  Strat_Series   2             1  0.000001  \n",
      "1  [0.6250944372688014]   rock1  Strat_Series   2             1  0.000001  \n",
      "2                0.3751   rock1  Strat_Series   2             1  0.000001  \n",
      "Run realizations setup checks until stable workflow.\n"
     ]
    },
    {
     "name": "stderr",
     "output_type": "stream",
     "text": [
      "/home/namur/coding/notebooks/env/lib/python3.6/site-packages/ipykernel_launcher.py:18: VisibleDeprecationWarning: Creating an ndarray from ragged nested sequences (which is a list-or-tuple of lists-or-tuples-or ndarrays with different lengths or shapes) is deprecated. If you meant to do this, you must specify 'dtype=object' when creating the ndarray\n"
     ]
    },
    {
     "name": "stdout",
     "output_type": "stream",
     "text": [
      "Active grids: ['regular' 'sections']\n",
      "Active grids: ['regular' 'sections']\n",
      "HOTFIX in update_series()\n",
      "             X    Y                    Z       X_r      Y_r  \\\n",
      "0     0.000000  500                  250  0.250100  0.49985   \n",
      "1   521.521522  500  [747.7177993764659]  0.510861  0.49985   \n",
      "2  1000.000000  500                  250  0.750100  0.49985   \n",
      "\n",
      "                    Z_r surface        series  id  order_series    smooth  \n",
      "0                0.3751   rock1  Strat_Series   2             1  0.000001  \n",
      "1  [0.6239588996882329]   rock1  Strat_Series   2             1  0.000001  \n",
      "2                0.3751   rock1  Strat_Series   2             1  0.000001  \n",
      "Run realizations setup checks until stable workflow.\n"
     ]
    },
    {
     "name": "stderr",
     "output_type": "stream",
     "text": [
      "/home/namur/coding/notebooks/env/lib/python3.6/site-packages/ipykernel_launcher.py:18: VisibleDeprecationWarning: Creating an ndarray from ragged nested sequences (which is a list-or-tuple of lists-or-tuples-or ndarrays with different lengths or shapes) is deprecated. If you meant to do this, you must specify 'dtype=object' when creating the ndarray\n"
     ]
    },
    {
     "name": "stdout",
     "output_type": "stream",
     "text": [
      "Active grids: ['regular' 'sections']\n",
      "Active grids: ['regular' 'sections']\n",
      "HOTFIX in update_series()\n",
      "             X    Y                    Z       X_r      Y_r  \\\n",
      "0     0.000000  500                  250  0.250100  0.49985   \n",
      "1   541.541542  500  [741.5322518094371]  0.520871  0.49985   \n",
      "2  1000.000000  500                  250  0.750100  0.49985   \n",
      "\n",
      "                    Z_r surface        series  id  order_series    smooth  \n",
      "0                0.3751   rock1  Strat_Series   2             1  0.000001  \n",
      "1  [0.6208661259047186]   rock1  Strat_Series   2             1  0.000001  \n",
      "2                0.3751   rock1  Strat_Series   2             1  0.000001  \n",
      "Run realizations setup checks until stable workflow.\n"
     ]
    },
    {
     "name": "stderr",
     "output_type": "stream",
     "text": [
      "/home/namur/coding/notebooks/env/lib/python3.6/site-packages/ipykernel_launcher.py:18: VisibleDeprecationWarning: Creating an ndarray from ragged nested sequences (which is a list-or-tuple of lists-or-tuples-or ndarrays with different lengths or shapes) is deprecated. If you meant to do this, you must specify 'dtype=object' when creating the ndarray\n"
     ]
    },
    {
     "name": "stdout",
     "output_type": "stream",
     "text": [
      "Active grids: ['regular' 'sections']\n",
      "Active grids: ['regular' 'sections']\n",
      "HOTFIX in update_series()\n",
      "             X    Y                    Z       X_r      Y_r  \\\n",
      "0     0.000000  500                  250  0.250100  0.49985   \n",
      "1   561.561562  500  [731.5299767516065]  0.530881  0.49985   \n",
      "2  1000.000000  500                  250  0.750100  0.49985   \n",
      "\n",
      "                    Z_r surface        series  id  order_series    smooth  \n",
      "0                0.3751   rock1  Strat_Series   2             1  0.000001  \n",
      "1  [0.6158649883758032]   rock1  Strat_Series   2             1  0.000001  \n",
      "2                0.3751   rock1  Strat_Series   2             1  0.000001  \n",
      "Run realizations setup checks until stable workflow.\n"
     ]
    },
    {
     "name": "stderr",
     "output_type": "stream",
     "text": [
      "/home/namur/coding/notebooks/env/lib/python3.6/site-packages/ipykernel_launcher.py:18: VisibleDeprecationWarning: Creating an ndarray from ragged nested sequences (which is a list-or-tuple of lists-or-tuples-or ndarrays with different lengths or shapes) is deprecated. If you meant to do this, you must specify 'dtype=object' when creating the ndarray\n"
     ]
    },
    {
     "name": "stdout",
     "output_type": "stream",
     "text": [
      "Active grids: ['regular' 'sections']\n",
      "Active grids: ['regular' 'sections']\n",
      "HOTFIX in update_series()\n",
      "             X    Y                    Z       X_r      Y_r  \\\n",
      "0     0.000000  500                  250  0.250100  0.49985   \n",
      "1   581.581582  500  [717.8690315965432]  0.540891  0.49985   \n",
      "2  1000.000000  500                  250  0.750100  0.49985   \n",
      "\n",
      "                    Z_r surface        series  id  order_series    smooth  \n",
      "0                0.3751   rock1  Strat_Series   2             1  0.000001  \n",
      "1  [0.6090345157982716]   rock1  Strat_Series   2             1  0.000001  \n",
      "2                0.3751   rock1  Strat_Series   2             1  0.000001  \n",
      "Run realizations setup checks until stable workflow.\n"
     ]
    },
    {
     "name": "stderr",
     "output_type": "stream",
     "text": [
      "/home/namur/coding/notebooks/env/lib/python3.6/site-packages/ipykernel_launcher.py:18: VisibleDeprecationWarning: Creating an ndarray from ragged nested sequences (which is a list-or-tuple of lists-or-tuples-or ndarrays with different lengths or shapes) is deprecated. If you meant to do this, you must specify 'dtype=object' when creating the ndarray\n"
     ]
    },
    {
     "name": "stdout",
     "output_type": "stream",
     "text": [
      "Active grids: ['regular' 'sections']\n",
      "Active grids: ['regular' 'sections']\n",
      "HOTFIX in update_series()\n",
      "             X    Y                    Z       X_r      Y_r  \\\n",
      "0     0.000000  500                  250  0.250100  0.49985   \n",
      "1   601.601602  500  [700.7652885705564]  0.550901  0.49985   \n",
      "2  1000.000000  500                  250  0.750100  0.49985   \n",
      "\n",
      "                    Z_r surface        series  id  order_series    smooth  \n",
      "0                0.3751   rock1  Strat_Series   2             1  0.000001  \n",
      "1  [0.6004826442852782]   rock1  Strat_Series   2             1  0.000001  \n",
      "2                0.3751   rock1  Strat_Series   2             1  0.000001  \n",
      "Run realizations setup checks until stable workflow.\n"
     ]
    },
    {
     "name": "stderr",
     "output_type": "stream",
     "text": [
      "/home/namur/coding/notebooks/env/lib/python3.6/site-packages/ipykernel_launcher.py:18: VisibleDeprecationWarning: Creating an ndarray from ragged nested sequences (which is a list-or-tuple of lists-or-tuples-or ndarrays with different lengths or shapes) is deprecated. If you meant to do this, you must specify 'dtype=object' when creating the ndarray\n"
     ]
    },
    {
     "name": "stdout",
     "output_type": "stream",
     "text": [
      "Active grids: ['regular' 'sections']\n",
      "Active grids: ['regular' 'sections']\n",
      "HOTFIX in update_series()\n",
      "             X    Y                    Z       X_r      Y_r  \\\n",
      "0     0.000000  500                  250  0.250100  0.49985   \n",
      "1   621.621622  500  [680.4890234886311]  0.560911  0.49985   \n",
      "2  1000.000000  500                  250  0.750100  0.49985   \n",
      "\n",
      "                    Z_r surface        series  id  order_series    smooth  \n",
      "0                0.3751   rock1  Strat_Series   2             1  0.000001  \n",
      "1  [0.5903445117443156]   rock1  Strat_Series   2             1  0.000001  \n",
      "2                0.3751   rock1  Strat_Series   2             1  0.000001  \n",
      "Run realizations setup checks until stable workflow.\n"
     ]
    },
    {
     "name": "stderr",
     "output_type": "stream",
     "text": [
      "/home/namur/coding/notebooks/env/lib/python3.6/site-packages/ipykernel_launcher.py:18: VisibleDeprecationWarning: Creating an ndarray from ragged nested sequences (which is a list-or-tuple of lists-or-tuples-or ndarrays with different lengths or shapes) is deprecated. If you meant to do this, you must specify 'dtype=object' when creating the ndarray\n"
     ]
    },
    {
     "name": "stdout",
     "output_type": "stream",
     "text": [
      "Active grids: ['regular' 'sections']\n",
      "Active grids: ['regular' 'sections']\n",
      "HOTFIX in update_series()\n",
      "             X    Y                   Z       X_r      Y_r  \\\n",
      "0     0.000000  500                 250  0.250100  0.49985   \n",
      "1   641.641642  500  [657.360644817004]  0.570921  0.49985   \n",
      "2  1000.000000  500                 250  0.750100  0.49985   \n",
      "\n",
      "                   Z_r surface        series  id  order_series    smooth  \n",
      "0               0.3751   rock1  Strat_Series   2             1  0.000001  \n",
      "1  [0.578780322408502]   rock1  Strat_Series   2             1  0.000001  \n",
      "2               0.3751   rock1  Strat_Series   2             1  0.000001  \n",
      "Run realizations setup checks until stable workflow.\n"
     ]
    },
    {
     "name": "stderr",
     "output_type": "stream",
     "text": [
      "/home/namur/coding/notebooks/env/lib/python3.6/site-packages/ipykernel_launcher.py:18: VisibleDeprecationWarning: Creating an ndarray from ragged nested sequences (which is a list-or-tuple of lists-or-tuples-or ndarrays with different lengths or shapes) is deprecated. If you meant to do this, you must specify 'dtype=object' when creating the ndarray\n"
     ]
    },
    {
     "name": "stdout",
     "output_type": "stream",
     "text": [
      "Active grids: ['regular' 'sections']\n",
      "Active grids: ['regular' 'sections']\n",
      "HOTFIX in update_series()\n",
      "             X    Y                    Z       X_r      Y_r  \\\n",
      "0     0.000000  500                  250  0.250100  0.49985   \n",
      "1   661.661662  500  [631.7456305323526]  0.580931  0.49985   \n",
      "2  1000.000000  500                  250  0.750100  0.49985   \n",
      "\n",
      "                    Z_r surface        series  id  order_series    smooth  \n",
      "0                0.3751   rock1  Strat_Series   2             1  0.000001  \n",
      "1  [0.5659728152661763]   rock1  Strat_Series   2             1  0.000001  \n",
      "2                0.3751   rock1  Strat_Series   2             1  0.000001  \n",
      "Run realizations setup checks until stable workflow.\n"
     ]
    },
    {
     "name": "stderr",
     "output_type": "stream",
     "text": [
      "/home/namur/coding/notebooks/env/lib/python3.6/site-packages/ipykernel_launcher.py:18: VisibleDeprecationWarning: Creating an ndarray from ragged nested sequences (which is a list-or-tuple of lists-or-tuples-or ndarrays with different lengths or shapes) is deprecated. If you meant to do this, you must specify 'dtype=object' when creating the ndarray\n"
     ]
    },
    {
     "name": "stdout",
     "output_type": "stream",
     "text": [
      "Active grids: ['regular' 'sections']\n",
      "Active grids: ['regular' 'sections']\n",
      "HOTFIX in update_series()\n",
      "             X    Y                    Z       X_r      Y_r  \\\n",
      "0     0.000000  500                  250  0.250100  0.49985   \n",
      "1   681.681682  500  [604.0487527860771]  0.590941  0.49985   \n",
      "2  1000.000000  500                  250  0.750100  0.49985   \n",
      "\n",
      "                    Z_r surface        series  id  order_series    smooth  \n",
      "0                0.3751   rock1  Strat_Series   2             1  0.000001  \n",
      "1  [0.5521243763930386]   rock1  Strat_Series   2             1  0.000001  \n",
      "2                0.3751   rock1  Strat_Series   2             1  0.000001  \n",
      "Run realizations setup checks until stable workflow.\n"
     ]
    },
    {
     "name": "stderr",
     "output_type": "stream",
     "text": [
      "/home/namur/coding/notebooks/env/lib/python3.6/site-packages/ipykernel_launcher.py:18: VisibleDeprecationWarning: Creating an ndarray from ragged nested sequences (which is a list-or-tuple of lists-or-tuples-or ndarrays with different lengths or shapes) is deprecated. If you meant to do this, you must specify 'dtype=object' when creating the ndarray\n"
     ]
    },
    {
     "name": "stdout",
     "output_type": "stream",
     "text": [
      "Active grids: ['regular' 'sections']\n",
      "Active grids: ['regular' 'sections']\n",
      "HOTFIX in update_series()\n",
      "             X    Y                    Z       X_r      Y_r  \\\n",
      "0     0.000000  500                  250  0.250100  0.49985   \n",
      "1   701.701702  500  [574.7076816363651]  0.600951  0.49985   \n",
      "2  1000.000000  500                  250  0.750100  0.49985   \n",
      "\n",
      "                    Z_r surface        series  id  order_series    smooth  \n",
      "0                0.3751   rock1  Strat_Series   2             1  0.000001  \n",
      "1  [0.5374538408181826]   rock1  Strat_Series   2             1  0.000001  \n",
      "2                0.3751   rock1  Strat_Series   2             1  0.000001  \n",
      "Run realizations setup checks until stable workflow.\n"
     ]
    },
    {
     "name": "stderr",
     "output_type": "stream",
     "text": [
      "/home/namur/coding/notebooks/env/lib/python3.6/site-packages/ipykernel_launcher.py:18: VisibleDeprecationWarning: Creating an ndarray from ragged nested sequences (which is a list-or-tuple of lists-or-tuples-or ndarrays with different lengths or shapes) is deprecated. If you meant to do this, you must specify 'dtype=object' when creating the ndarray\n"
     ]
    },
    {
     "name": "stdout",
     "output_type": "stream",
     "text": [
      "Active grids: ['regular' 'sections']\n",
      "Active grids: ['regular' 'sections']\n",
      "HOTFIX in update_series()\n",
      "             X    Y                    Z       X_r      Y_r  \\\n",
      "0     0.000000  500                  250  0.250100  0.49985   \n",
      "1   721.721722  500  [544.1860689227854]  0.610961  0.49985   \n",
      "2  1000.000000  500                  250  0.750100  0.49985   \n",
      "\n",
      "                    Z_r surface        series  id  order_series    smooth  \n",
      "0                0.3751   rock1  Strat_Series   2             1  0.000001  \n",
      "1  [0.5221930344613926]   rock1  Strat_Series   2             1  0.000001  \n",
      "2                0.3751   rock1  Strat_Series   2             1  0.000001  \n",
      "Run realizations setup checks until stable workflow.\n"
     ]
    },
    {
     "name": "stderr",
     "output_type": "stream",
     "text": [
      "/home/namur/coding/notebooks/env/lib/python3.6/site-packages/ipykernel_launcher.py:18: VisibleDeprecationWarning: Creating an ndarray from ragged nested sequences (which is a list-or-tuple of lists-or-tuples-or ndarrays with different lengths or shapes) is deprecated. If you meant to do this, you must specify 'dtype=object' when creating the ndarray\n"
     ]
    },
    {
     "name": "stdout",
     "output_type": "stream",
     "text": [
      "Active grids: ['regular' 'sections']\n",
      "Active grids: ['regular' 'sections']\n",
      "HOTFIX in update_series()\n",
      "             X    Y                    Z       X_r      Y_r  \\\n",
      "0     0.000000  500                  250  0.250100  0.49985   \n",
      "1   741.741742  500  [512.9662215730255]  0.620971  0.49985   \n",
      "2  1000.000000  500                  250  0.750100  0.49985   \n",
      "\n",
      "                    Z_r surface        series  id  order_series    smooth  \n",
      "0                0.3751   rock1  Strat_Series   2             1  0.000001  \n",
      "1  [0.5065831107865127]   rock1  Strat_Series   2             1  0.000001  \n",
      "2                0.3751   rock1  Strat_Series   2             1  0.000001  \n",
      "Run realizations setup checks until stable workflow.\n"
     ]
    },
    {
     "name": "stderr",
     "output_type": "stream",
     "text": [
      "/home/namur/coding/notebooks/env/lib/python3.6/site-packages/ipykernel_launcher.py:18: VisibleDeprecationWarning: Creating an ndarray from ragged nested sequences (which is a list-or-tuple of lists-or-tuples-or ndarrays with different lengths or shapes) is deprecated. If you meant to do this, you must specify 'dtype=object' when creating the ndarray\n"
     ]
    },
    {
     "name": "stdout",
     "output_type": "stream",
     "text": [
      "Active grids: ['regular' 'sections']\n",
      "Active grids: ['regular' 'sections']\n",
      "HOTFIX in update_series()\n",
      "             X    Y                     Z       X_r      Y_r  \\\n",
      "0     0.000000  500                   250  0.250100  0.49985   \n",
      "1   761.761762  500  [481.54148011923223]  0.630981  0.49985   \n",
      "2  1000.000000  500                   250  0.750100  0.49985   \n",
      "\n",
      "                    Z_r surface        series  id  order_series    smooth  \n",
      "0                0.3751   rock1  Strat_Series   2             1  0.000001  \n",
      "1  [0.4908707400596161]   rock1  Strat_Series   2             1  0.000001  \n",
      "2                0.3751   rock1  Strat_Series   2             1  0.000001  \n",
      "Run realizations setup checks until stable workflow.\n"
     ]
    },
    {
     "name": "stderr",
     "output_type": "stream",
     "text": [
      "/home/namur/coding/notebooks/env/lib/python3.6/site-packages/ipykernel_launcher.py:18: VisibleDeprecationWarning: Creating an ndarray from ragged nested sequences (which is a list-or-tuple of lists-or-tuples-or ndarrays with different lengths or shapes) is deprecated. If you meant to do this, you must specify 'dtype=object' when creating the ndarray\n"
     ]
    },
    {
     "name": "stdout",
     "output_type": "stream",
     "text": [
      "Active grids: ['regular' 'sections']\n",
      "Active grids: ['regular' 'sections']\n",
      "HOTFIX in update_series()\n",
      "             X    Y                    Z       X_r      Y_r  \\\n",
      "0     0.000000  500                  250  0.250100  0.49985   \n",
      "1   781.781782  500  [450.4084228597469]  0.640991  0.49985   \n",
      "2  1000.000000  500                  250  0.750100  0.49985   \n",
      "\n",
      "                     Z_r surface        series  id  order_series    smooth  \n",
      "0                 0.3751   rock1  Strat_Series   2             1  0.000001  \n",
      "1  [0.47530421142987345]   rock1  Strat_Series   2             1  0.000001  \n",
      "2                 0.3751   rock1  Strat_Series   2             1  0.000001  \n",
      "Run realizations setup checks until stable workflow.\n"
     ]
    },
    {
     "name": "stderr",
     "output_type": "stream",
     "text": [
      "/home/namur/coding/notebooks/env/lib/python3.6/site-packages/ipykernel_launcher.py:18: VisibleDeprecationWarning: Creating an ndarray from ragged nested sequences (which is a list-or-tuple of lists-or-tuples-or ndarrays with different lengths or shapes) is deprecated. If you meant to do this, you must specify 'dtype=object' when creating the ndarray\n"
     ]
    },
    {
     "name": "stdout",
     "output_type": "stream",
     "text": [
      "Active grids: ['regular' 'sections']\n",
      "Active grids: ['regular' 'sections']\n",
      "HOTFIX in update_series()\n",
      "             X    Y                    Z       X_r      Y_r  \\\n",
      "0     0.000000  500                  250  0.250100  0.49985   \n",
      "1   801.801802  500  [420.0590188571888]  0.651001  0.49985   \n",
      "2  1000.000000  500                  250  0.750100  0.49985   \n",
      "\n",
      "                    Z_r surface        series  id  order_series    smooth  \n",
      "0                0.3751   rock1  Strat_Series   2             1  0.000001  \n",
      "1  [0.4601295094285944]   rock1  Strat_Series   2             1  0.000001  \n",
      "2                0.3751   rock1  Strat_Series   2             1  0.000001  \n",
      "Run realizations setup checks until stable workflow.\n"
     ]
    },
    {
     "name": "stderr",
     "output_type": "stream",
     "text": [
      "/home/namur/coding/notebooks/env/lib/python3.6/site-packages/ipykernel_launcher.py:18: VisibleDeprecationWarning: Creating an ndarray from ragged nested sequences (which is a list-or-tuple of lists-or-tuples-or ndarrays with different lengths or shapes) is deprecated. If you meant to do this, you must specify 'dtype=object' when creating the ndarray\n"
     ]
    },
    {
     "name": "stdout",
     "output_type": "stream",
     "text": [
      "Active grids: ['regular' 'sections']\n",
      "Active grids: ['regular' 'sections']\n",
      "HOTFIX in update_series()\n",
      "             X    Y                    Z       X_r      Y_r  \\\n",
      "0     0.000000  500                  250  0.250100  0.49985   \n",
      "1   821.821822  500  [390.9728537723473]  0.661011  0.49985   \n",
      "2  1000.000000  500                  250  0.750100  0.49985   \n",
      "\n",
      "                     Z_r surface        series  id  order_series    smooth  \n",
      "0                 0.3751   rock1  Strat_Series   2             1  0.000001  \n",
      "1  [0.44558642688617367]   rock1  Strat_Series   2             1  0.000001  \n",
      "2                 0.3751   rock1  Strat_Series   2             1  0.000001  \n",
      "Run realizations setup checks until stable workflow.\n"
     ]
    },
    {
     "name": "stderr",
     "output_type": "stream",
     "text": [
      "/home/namur/coding/notebooks/env/lib/python3.6/site-packages/ipykernel_launcher.py:18: VisibleDeprecationWarning: Creating an ndarray from ragged nested sequences (which is a list-or-tuple of lists-or-tuples-or ndarrays with different lengths or shapes) is deprecated. If you meant to do this, you must specify 'dtype=object' when creating the ndarray\n"
     ]
    },
    {
     "name": "stdout",
     "output_type": "stream",
     "text": [
      "Active grids: ['regular' 'sections']\n",
      "Active grids: ['regular' 'sections']\n",
      "HOTFIX in update_series()\n",
      "             X    Y                    Z       X_r      Y_r  \\\n",
      "0     0.000000  500                  250  0.250100  0.49985   \n",
      "1   841.841842  500  [363.6095513823772]  0.671021  0.49985   \n",
      "2  1000.000000  500                  250  0.750100  0.49985   \n",
      "\n",
      "                     Z_r surface        series  id  order_series    smooth  \n",
      "0                 0.3751   rock1  Strat_Series   2             1  0.000001  \n",
      "1  [0.43190477569118857]   rock1  Strat_Series   2             1  0.000001  \n",
      "2                 0.3751   rock1  Strat_Series   2             1  0.000001  \n",
      "Run realizations setup checks until stable workflow.\n"
     ]
    },
    {
     "name": "stderr",
     "output_type": "stream",
     "text": [
      "/home/namur/coding/notebooks/env/lib/python3.6/site-packages/ipykernel_launcher.py:18: VisibleDeprecationWarning: Creating an ndarray from ragged nested sequences (which is a list-or-tuple of lists-or-tuples-or ndarrays with different lengths or shapes) is deprecated. If you meant to do this, you must specify 'dtype=object' when creating the ndarray\n"
     ]
    },
    {
     "name": "stdout",
     "output_type": "stream",
     "text": [
      "Active grids: ['regular' 'sections']\n",
      "Active grids: ['regular' 'sections']\n",
      "HOTFIX in update_series()\n",
      "             X    Y                    Z       X_r      Y_r  \\\n",
      "0     0.000000  500                  250  0.250100  0.49985   \n",
      "1   861.861862  500  [338.4015105395578]  0.681031  0.49985   \n",
      "2  1000.000000  500                  250  0.750100  0.49985   \n",
      "\n",
      "                    Z_r surface        series  id  order_series    smooth  \n",
      "0                0.3751   rock1  Strat_Series   2             1  0.000001  \n",
      "1  [0.4193007552697789]   rock1  Strat_Series   2             1  0.000001  \n",
      "2                0.3751   rock1  Strat_Series   2             1  0.000001  \n",
      "Run realizations setup checks until stable workflow.\n"
     ]
    },
    {
     "name": "stderr",
     "output_type": "stream",
     "text": [
      "/home/namur/coding/notebooks/env/lib/python3.6/site-packages/ipykernel_launcher.py:18: VisibleDeprecationWarning: Creating an ndarray from ragged nested sequences (which is a list-or-tuple of lists-or-tuples-or ndarrays with different lengths or shapes) is deprecated. If you meant to do this, you must specify 'dtype=object' when creating the ndarray\n"
     ]
    },
    {
     "name": "stdout",
     "output_type": "stream",
     "text": [
      "Active grids: ['regular' 'sections']\n",
      "Active grids: ['regular' 'sections']\n",
      "HOTFIX in update_series()\n",
      "             X    Y                    Z       X_r      Y_r  \\\n",
      "0     0.000000  500                  250  0.250100  0.49985   \n",
      "1   881.881882  500  [315.7470723422448]  0.691041  0.49985   \n",
      "2  1000.000000  500                  250  0.750100  0.49985   \n",
      "\n",
      "                    Z_r surface        series  id  order_series    smooth  \n",
      "0                0.3751   rock1  Strat_Series   2             1  0.000001  \n",
      "1  [0.4079735361711224]   rock1  Strat_Series   2             1  0.000001  \n",
      "2                0.3751   rock1  Strat_Series   2             1  0.000001  \n",
      "Run realizations setup checks until stable workflow.\n"
     ]
    },
    {
     "name": "stderr",
     "output_type": "stream",
     "text": [
      "/home/namur/coding/notebooks/env/lib/python3.6/site-packages/ipykernel_launcher.py:18: VisibleDeprecationWarning: Creating an ndarray from ragged nested sequences (which is a list-or-tuple of lists-or-tuples-or ndarrays with different lengths or shapes) is deprecated. If you meant to do this, you must specify 'dtype=object' when creating the ndarray\n"
     ]
    },
    {
     "name": "stdout",
     "output_type": "stream",
     "text": [
      "Active grids: ['regular' 'sections']\n",
      "Active grids: ['regular' 'sections']\n",
      "HOTFIX in update_series()\n",
      "             X    Y                    Z       X_r      Y_r  \\\n",
      "0     0.000000  500                  250  0.250100  0.49985   \n",
      "1   901.901902  500  [296.0042254913614]  0.701051  0.49985   \n",
      "2  1000.000000  500                  250  0.750100  0.49985   \n",
      "\n",
      "                    Z_r surface        series  id  order_series    smooth  \n",
      "0                0.3751   rock1  Strat_Series   2             1  0.000001  \n",
      "1  [0.3981021127456807]   rock1  Strat_Series   2             1  0.000001  \n",
      "2                0.3751   rock1  Strat_Series   2             1  0.000001  \n",
      "Run realizations setup checks until stable workflow.\n"
     ]
    },
    {
     "name": "stderr",
     "output_type": "stream",
     "text": [
      "/home/namur/coding/notebooks/env/lib/python3.6/site-packages/ipykernel_launcher.py:18: VisibleDeprecationWarning: Creating an ndarray from ragged nested sequences (which is a list-or-tuple of lists-or-tuples-or ndarrays with different lengths or shapes) is deprecated. If you meant to do this, you must specify 'dtype=object' when creating the ndarray\n"
     ]
    },
    {
     "name": "stdout",
     "output_type": "stream",
     "text": [
      "Active grids: ['regular' 'sections']\n",
      "Active grids: ['regular' 'sections']\n",
      "HOTFIX in update_series()\n",
      "             X    Y                     Z       X_r      Y_r  \\\n",
      "0     0.000000  500                   250  0.250100  0.49985   \n",
      "1   921.921922  500  [279.48494930129726]  0.711061  0.49985   \n",
      "2  1000.000000  500                   250  0.750100  0.49985   \n",
      "\n",
      "                     Z_r surface        series  id  order_series    smooth  \n",
      "0                 0.3751   rock1  Strat_Series   2             1  0.000001  \n",
      "1  [0.38984247465064864]   rock1  Strat_Series   2             1  0.000001  \n",
      "2                 0.3751   rock1  Strat_Series   2             1  0.000001  \n",
      "Run realizations setup checks until stable workflow.\n"
     ]
    },
    {
     "name": "stderr",
     "output_type": "stream",
     "text": [
      "/home/namur/coding/notebooks/env/lib/python3.6/site-packages/ipykernel_launcher.py:18: VisibleDeprecationWarning: Creating an ndarray from ragged nested sequences (which is a list-or-tuple of lists-or-tuples-or ndarrays with different lengths or shapes) is deprecated. If you meant to do this, you must specify 'dtype=object' when creating the ndarray\n"
     ]
    },
    {
     "name": "stdout",
     "output_type": "stream",
     "text": [
      "Active grids: ['regular' 'sections']\n",
      "Active grids: ['regular' 'sections']\n",
      "HOTFIX in update_series()\n",
      "             X    Y                     Z       X_r      Y_r  \\\n",
      "0     0.000000  500                   250  0.250100  0.49985   \n",
      "1   941.941942  500  [266.45028375777014]  0.721071  0.49985   \n",
      "2  1000.000000  500                   250  0.750100  0.49985   \n",
      "\n",
      "                     Z_r surface        series  id  order_series    smooth  \n",
      "0                 0.3751   rock1  Strat_Series   2             1  0.000001  \n",
      "1  [0.38332514187888506]   rock1  Strat_Series   2             1  0.000001  \n",
      "2                 0.3751   rock1  Strat_Series   2             1  0.000001  \n",
      "Run realizations setup checks until stable workflow.\n"
     ]
    },
    {
     "name": "stderr",
     "output_type": "stream",
     "text": [
      "/home/namur/coding/notebooks/env/lib/python3.6/site-packages/ipykernel_launcher.py:18: VisibleDeprecationWarning: Creating an ndarray from ragged nested sequences (which is a list-or-tuple of lists-or-tuples-or ndarrays with different lengths or shapes) is deprecated. If you meant to do this, you must specify 'dtype=object' when creating the ndarray\n"
     ]
    },
    {
     "name": "stdout",
     "output_type": "stream",
     "text": [
      "Active grids: ['regular' 'sections']\n",
      "Active grids: ['regular' 'sections']\n",
      "HOTFIX in update_series()\n",
      "             X    Y                     Z       X_r      Y_r  \\\n",
      "0     0.000000  500                   250  0.250100  0.49985   \n",
      "1   961.961962  500  [257.10620452630997]  0.731081  0.49985   \n",
      "2  1000.000000  500                   250  0.750100  0.49985   \n",
      "\n",
      "                     Z_r surface        series  id  order_series    smooth  \n",
      "0                 0.3751   rock1  Strat_Series   2             1  0.000001  \n",
      "1  [0.37865310226315496]   rock1  Strat_Series   2             1  0.000001  \n",
      "2                 0.3751   rock1  Strat_Series   2             1  0.000001  \n",
      "Run realizations setup checks until stable workflow.\n"
     ]
    },
    {
     "name": "stderr",
     "output_type": "stream",
     "text": [
      "/home/namur/coding/notebooks/env/lib/python3.6/site-packages/ipykernel_launcher.py:18: VisibleDeprecationWarning: Creating an ndarray from ragged nested sequences (which is a list-or-tuple of lists-or-tuples-or ndarrays with different lengths or shapes) is deprecated. If you meant to do this, you must specify 'dtype=object' when creating the ndarray\n"
     ]
    },
    {
     "name": "stdout",
     "output_type": "stream",
     "text": [
      "Active grids: ['regular' 'sections']\n",
      "Active grids: ['regular' 'sections']\n",
      "HOTFIX in update_series()\n",
      "             X    Y                     Z       X_r      Y_r  \\\n",
      "0     0.000000  500                   250  0.250100  0.49985   \n",
      "1   981.981982  500  [251.60036809507426]  0.741091  0.49985   \n",
      "2  1000.000000  500                   250  0.750100  0.49985   \n",
      "\n",
      "                    Z_r surface        series  id  order_series    smooth  \n",
      "0                0.3751   rock1  Strat_Series   2             1  0.000001  \n",
      "1  [0.3759001840475371]   rock1  Strat_Series   2             1  0.000001  \n",
      "2                0.3751   rock1  Strat_Series   2             1  0.000001  \n",
      "Run realizations setup checks until stable workflow.\n"
     ]
    }
   ],
   "source": [
    "errs = []\n",
    "xs = []\n",
    "# xsim, ysim = xcorr, ycoor\n",
    "for x in xsim[1::20]:\n",
    "    i = np.where(xsim == x)\n",
    "    p = { 'x': x, 'z': ysim[i] }\n",
    "    xs.append(x)\n",
    "    errs.append(comp_3points(p))"
   ]
  },
  {
   "cell_type": "code",
   "execution_count": 10,
   "metadata": {},
   "outputs": [
    {
     "data": {
      "text/plain": [
       "[<matplotlib.lines.Line2D at 0x7fa90c0c72b0>]"
      ]
     },
     "execution_count": 10,
     "metadata": {},
     "output_type": "execute_result"
    },
    {
     "data": {
      "image/png": "[encoded data removed]",
      "text/plain": [
       "<Figure size 748.8x514.8 with 1 Axes>"
      ]
     },
     "metadata": {},
     "output_type": "display_data"
    }
   ],
   "source": [
    "plt.plot(xs, errs)"
   ]
  },
  {
   "cell_type": "code",
   "execution_count": null,
   "metadata": {},
   "outputs": [],
   "source": []
  }
 ],
 "metadata": {
  "kernelspec": {
   "display_name": "notebooks",
   "language": "python",
   "name": "notebooks"
  },
  "language_info": {
   "codemirror_mode": {
    "name": "ipython",
    "version": 3
   },
   "file_extension": ".py",
   "mimetype": "text/x-python",
   "name": "python",
   "nbconvert_exporter": "python",
   "pygments_lexer": "ipython3",
   "version": "3.6.9"
  }
 },
 "nbformat": 4,
 "nbformat_minor": 4
}
