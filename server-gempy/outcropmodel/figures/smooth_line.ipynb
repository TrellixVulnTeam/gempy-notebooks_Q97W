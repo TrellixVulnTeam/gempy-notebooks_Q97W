{
 "cells": [
  {
   "cell_type": "code",
   "execution_count": 1,
   "metadata": {},
   "outputs": [
    {
     "name": "stderr",
     "output_type": "stream",
     "text": [
      "WARNING (theano.tensor.blas): Using NumPy C-API based implementation for BLAS functions.\n"
     ]
    },
    {
     "name": "stdout",
     "output_type": "stream",
     "text": [
      "/home/stefan/coding/notebooks/env/bin/python\n"
     ]
    }
   ],
   "source": [
    "# standart libs\n",
    "import sys\n",
    "import random\n",
    "import copy\n",
    "from operator import itemgetter\n",
    "from PIL import Image\n",
    "\n",
    "\n",
    "# 3rd party libs\n",
    "import pandas as pd\n",
    "import numpy as np\n",
    "import gempy as gp\n",
    "import matplotlib.pyplot as plt\n",
    "import scipy.stats as ss\n",
    "\n",
    "\n",
    "# local\n",
    "import functions.realization_setup as real_setup\n",
    "import functions.realization_run as real_run\n",
    "import functions.post_processing as post_pro\n",
    "import functions.uq_runs as uq_runs\n",
    "\n",
    "# executable\n",
    "print(sys.executable)"
   ]
  },
  {
   "cell_type": "code",
   "execution_count": 2,
   "metadata": {},
   "outputs": [
    {
     "name": "stdout",
     "output_type": "stream",
     "text": [
      "Active grids: ['regular']\n",
      "Setting kriging parameters to their default values.\n",
      "Compiling theano function...\n",
      "Level of Optimization:  fast_run\n",
      "Device:  cpu\n",
      "Precision:  float64\n",
      "Number of faults:  0\n",
      "Compilation Done!\n",
      "Kriging values: \n",
      "                     values\n",
      "range              1.73205\n",
      "$C_o$            0.0714286\n",
      "drift equations        [3]\n"
     ]
    },
    {
     "data": {
      "text/plain": [
       "<gempy.core.interpolator.InterpolatorModel at 0x7fbebb4e8f70>"
      ]
     },
     "execution_count": 2,
     "metadata": {},
     "output_type": "execute_result"
    }
   ],
   "source": [
    "# instantiate the geo_model\n",
    "geo_model = gp.create_model(\"GeoModel\")\n",
    "\n",
    "# defautl data\n",
    "geo_model = gp.init_data(\n",
    "    geo_model,\n",
    "    extent=[0, 1, 0, 1, 0, 1],\n",
    "    resolution=[1, 1, 1]\n",
    ")\n",
    "\n",
    "# compile theno function\n",
    "gp.set_interpolation_data(\n",
    "    geo_model,\n",
    "    compile_theano=True,\n",
    "    theano_optimizer='fast_run',\n",
    ")"
   ]
  },
  {
   "cell_type": "code",
   "execution_count": 3,
   "metadata": {},
   "outputs": [],
   "source": [
    "# meta\n",
    "geo_model_extent_1 = [0,1000,0,1000,0,1000]\n",
    "section_1 = {\n",
    "    'p1': [0, 500],\n",
    "    'p2': [1000, 500],\n",
    "    'resolution': [200, 200]\n",
    "}\n",
    "\n",
    "# sereis\n",
    "series_df_1 = pd.DataFrame(columns=['name', 'isfault', 'order_series'])\n",
    "series_df_1.loc[0] = { 'order_series': 0, 'name': 'Basement_Series', 'isfault': False }\n",
    "series_df_1.loc[1] = { 'order_series': 1, 'name': 'Strat_Series', 'isfault': False }\n",
    "\n",
    "# surfaces\n",
    "surfaces_df_1 = pd.DataFrame(columns=['name', 'serie', 'order_surface'])\n",
    "surfaces_df_1.loc[0] = { 'name': 'basement', 'serie': 'Basement_Series', 'order_surface': 0 }\n",
    "surfaces_df_1.loc[2] = { 'name': 'rock1', 'serie': 'Strat_Series', 'order_surface': 1 }\n",
    "surfaces_df_1.loc[1] = { 'name': 'rock2', 'serie': 'Strat_Series', 'order_surface': 2 }\n",
    "\n",
    "# geoData\n",
    "surface_points_input_data_1 = pd.read_csv('./data/model2_surface_points.csv')\n",
    "orientaions_input_data_1 = pd.read_csv('./data/model2_orientations.csv')\n",
    "\n",
    "# Format geological_input_data\n",
    "surface_points_original_df_1 = surface_points_input_data_1[['X', 'Y', 'Z', 'formation']]\n",
    "\n",
    "# rename colums\n",
    "surface_points_original_df_1.columns = ['X', 'Y', 'Z', 'surface']\n",
    "\n",
    "# add distribution type and parameter\n",
    "surface_points_original_df_1['param1'] = 10\n",
    "\n",
    "# Orientaions\n",
    "orientations_original_df_1 = orientaions_input_data_1[['X', 'Y', 'Z', 'dip', 'azimuth', 'polarity', 'formation']]"
   ]
  },
  {
   "cell_type": "code",
   "execution_count": 4,
   "metadata": {},
   "outputs": [
    {
     "name": "stdout",
     "output_type": "stream",
     "text": [
      "Active grids: ['regular']\n",
      "Active grids: ['regular' 'sections']\n",
      "HOTFIX in update_series()\n",
      "HOTFIX in update_surfaces()\n",
      "Run realizations setup checks until stable workflow.\n",
      "HOTFIX in gempy/core/gempy_api.py 328\n"
     ]
    },
    {
     "name": "stderr",
     "output_type": "stream",
     "text": [
      "/home/stefan/coding/notebooks/env/lib/python3.8/site-packages/gempy/core/solution.py:196: FutureWarning: marching_cubes_lewiner is deprecated in favor of marching_cubes. marching_cubes_lewiner will be removed in version 0.19\n",
      "  vertices, simplices, normals, values = measure.marching_cubes_lewiner(\n"
     ]
    }
   ],
   "source": [
    "# %%timeit\n",
    "# setup model 1\n",
    "real_setup.setup_realization(\n",
    "        geo_model=geo_model,\n",
    "        geo_model_extent=geo_model_extent_1,\n",
    "        section=section_1,\n",
    "        series_df=series_df_1,\n",
    "        surfaces_df=surfaces_df_1,\n",
    "        surface_points_original_df=surface_points_original_df_1,\n",
    "        orientations_original_df=orientations_original_df_1\n",
    ")\n",
    "\n",
    "if real_run.check_setup_single_realization(geo_model):\n",
    "    solution = gp.compute_model(model=geo_model, sort_surfaces=False)\n",
    "    \n",
    "Bx = post_pro.compute_boolean_matrix_for_section_surface_top(geo_model)\n",
    "\n",
    "extent = { 'z_min': 0, 'z_max': 1000 }\n",
    "section_coordinates = post_pro.compute_setction_grid_coordinates(geo_model, extent)\n",
    "\n",
    "tops_dict = post_pro.get_tops_coordinates(Bx, section_coordinates)"
   ]
  },
  {
   "cell_type": "code",
   "execution_count": 5,
   "metadata": {},
   "outputs": [
    {
     "data": {
      "text/plain": [
       "[<matplotlib.lines.Line2D at 0x7fbe83578e80>]"
      ]
     },
     "execution_count": 5,
     "metadata": {},
     "output_type": "execute_result"
    },
    {
     "data": {
      "image/png": "[encoded data removed]",
      "text/plain": [
       "<Figure size 748.8x514.8 with 1 Axes>"
      ]
     },
     "metadata": {},
     "output_type": "display_data"
    }
   ],
   "source": [
    "# plot original data\n",
    "plt.plot(tops_dict['0-1']['xvals'], tops_dict['0-1']['zvals'], '.')\n",
    "plt.plot(\n",
    "    surface_points_original_df_1[surface_points_original_df_1.surface == 'rock1']['X'],\n",
    "    surface_points_original_df_1[surface_points_original_df_1.surface == 'rock1']['Z'],\n",
    "    'o'\n",
    ")"
   ]
  },
  {
   "cell_type": "code",
   "execution_count": 6,
   "metadata": {},
   "outputs": [],
   "source": [
    "Bx = post_pro.compute_boolean_matrix_for_section_surface_top(geo_model)\n",
    "\n",
    "extent = { 'z_min': 0, 'z_max': 1000 }\n",
    "section_coordinates = post_pro.compute_setction_grid_coordinates(geo_model, extent)\n",
    "\n",
    "tops_dict = post_pro.get_tops_coordinates(Bx, section_coordinates)"
   ]
  },
  {
   "cell_type": "code",
   "execution_count": 7,
   "metadata": {},
   "outputs": [
    {
     "data": {
      "image/png": "[encoded data removed]",
      "text/plain": [
       "<Figure size 748.8x514.8 with 2 Axes>"
      ]
     },
     "metadata": {},
     "output_type": "display_data"
    }
   ],
   "source": [
    "# plot for sanity check\n",
    "fig, (ax1, ax2) = plt.subplots(1, 2)\n",
    "ax1.imshow(Bx['0-1'])\n",
    "ax1.grid()\n",
    "ax2.imshow(Bx['0-2'])\n",
    "ax2.grid()\n",
    "plt.show()"
   ]
  },
  {
   "cell_type": "code",
   "execution_count": 8,
   "metadata": {},
   "outputs": [],
   "source": [
    "extent = { 'z_min': 0, 'z_max': 1000 }\n",
    "section_coordinates = post_pro.compute_setction_grid_coordinates(geo_model, extent)\n",
    "tops_dict = post_pro.get_tops_coordinates(Bx, section_coordinates)"
   ]
  },
  {
   "cell_type": "markdown",
   "metadata": {},
   "source": [
    "# Generate new line without nugget effect"
   ]
  },
  {
   "cell_type": "markdown",
   "metadata": {},
   "source": [
    "## Generate artifical line\n",
    "- noise is > 10%\n",
    "- no nugget effect"
   ]
  },
  {
   "cell_type": "code",
   "execution_count": 9,
   "metadata": {},
   "outputs": [
    {
     "name": "stdout",
     "output_type": "stream",
     "text": [
      "Active grids: ['regular' 'sections']\n",
      "Active grids: ['regular' 'sections']\n",
      "HOTFIX in update_series()\n"
     ]
    }
   ],
   "source": [
    "real_setup.setup_realization(\n",
    "        geo_model=geo_model,\n",
    "        geo_model_extent=geo_model_extent_1,\n",
    "        section=section_1,\n",
    "        series_df=series_df_1,\n",
    "        surfaces_df=surfaces_df_1,\n",
    "        surface_points_original_df=surface_points_original_df_1,\n",
    "        orientations_original_df=orientations_original_df_1\n",
    ")"
   ]
  },
  {
   "cell_type": "markdown",
   "metadata": {},
   "source": [
    "## Creat artificail line data"
   ]
  },
  {
   "cell_type": "code",
   "execution_count": 10,
   "metadata": {},
   "outputs": [],
   "source": [
    "# get interpolated surface and add noise\n",
    "x = tops_dict['0-1']['xvals']\n",
    "noise = np.random.normal(0,1,len(x))\n",
    "xx = x + noise\n",
    "y = tops_dict['0-1']['yvasl']\n",
    "noise = np.random.normal(0,1,len(y))\n",
    "yy = y + noise\n",
    "yy = np.array(y)\n",
    "z = tops_dict['0-1']['zvals']\n",
    "noise = np.random.normal(0,1,len(z))\n",
    "zz = z + noise\n",
    "\n",
    "# remove points that are out of bound\n",
    "xx[xx < 0], xx[xx > 1000] = 0, 1000\n",
    "yy[yy < 0], yy[yy > 1000] = 0, 1000\n",
    "zz[zz < 0], zz[zz > 1000] = 0, 1000"
   ]
  },
  {
   "cell_type": "code",
   "execution_count": 11,
   "metadata": {},
   "outputs": [],
   "source": [
    "# now we remove points that are close to measurements\n",
    "# rember y is not important for now so we can focus on x\n",
    "# however we need to filter the x values with the right y vals\n",
    "bok = np.ones(xx.shape)\n",
    "sps = surface_points_original_df_1\n",
    "t = 20\n",
    "\n",
    "for index, row in sps.iterrows():\n",
    "    \n",
    "    # loop over point of measurements and mark points that are close\n",
    "    x = row['X']\n",
    "    # y = row['Y']  # as here all points have the same y value in the section\n",
    "    z = row['Z']\n",
    "    \n",
    "    xlow, xheigh = (x - t), x + t\n",
    "    bx = np.where((xx > xlow) & (xx < xheigh))\n",
    "    bok[bx] = 0\n",
    "    \n",
    "    # ylow, yheigh = (y - t), y + t\n",
    "    # bx = np.where((yy > ylow) & (yy < yheigh))\n",
    "    # bok[bx] = 0\n",
    "    \n",
    "    zlow, zheigh = (z - t), z + t\n",
    "    bx = np.where((zz > zlow) & (zz < zheigh))\n",
    "    bok[bx] = 0\n",
    "    \n",
    "# make a boolen out of it\n",
    "Bok = bok == 1"
   ]
  },
  {
   "cell_type": "code",
   "execution_count": 12,
   "metadata": {},
   "outputs": [
    {
     "data": {
      "image/png": "[encoded data removed]",
      "text/plain": [
       "<Figure size 748.8x514.8 with 1 Axes>"
      ]
     },
     "metadata": {},
     "output_type": "display_data"
    }
   ],
   "source": [
    "# plot\n",
    "plt.plot(xx[Bok][::4],zz[Bok][::4], '.', color='steelblue')\n",
    "plt.plot(\n",
    "    geo_model.surface_points.df[geo_model.surface_points.df.surface == 'rock1']['X'],\n",
    "    geo_model.surface_points.df[geo_model.surface_points.df.surface == 'rock1']['Z'],\n",
    "    'o',\n",
    "    color='orange'\n",
    ")\n",
    "plt.grid()"
   ]
  },
  {
   "cell_type": "markdown",
   "metadata": {},
   "source": [
    "## Notes\n",
    "- When lines comest to close to measurements and the a potential lower lines has point over a higher line artifacts get introduced into the model.\n",
    "To reconstruct: change height of max zvals, y value and/or increase noise \n",
    "- by to strong variation within close distance the model collapses as well # take less points"
   ]
  },
  {
   "cell_type": "markdown",
   "metadata": {},
   "source": [
    "# Do the same but with heigher nugget effect\n",
    "We are going to increase the smoothness (nugget) of the data to increase the conditional number of the matrix:"
   ]
  },
  {
   "cell_type": "code",
   "execution_count": 13,
   "metadata": {},
   "outputs": [
    {
     "name": "stdout",
     "output_type": "stream",
     "text": [
      "Active grids: ['regular' 'sections']\n",
      "Active grids: ['regular' 'sections']\n",
      "HOTFIX in update_series()\n"
     ]
    }
   ],
   "source": [
    "real_setup.setup_realization(\n",
    "        geo_model=geo_model,\n",
    "        geo_model_extent=geo_model_extent_1,\n",
    "        section=section_1,\n",
    "        series_df=series_df_1,\n",
    "        surfaces_df=surfaces_df_1,\n",
    "        surface_points_original_df=surface_points_original_df_1,\n",
    "        orientations_original_df=orientations_original_df_1\n",
    ")"
   ]
  },
  {
   "cell_type": "code",
   "execution_count": 14,
   "metadata": {},
   "outputs": [],
   "source": [
    "# creat new df\n",
    "df0 = surface_points_original_df_1\n",
    "df1 = pd.DataFrame(columns=df0.columns)\n",
    "df1.X = xx[::4]\n",
    "df1.Y = yy[::4]\n",
    "df1.Z = zz[::4]\n",
    "df1.surface = 'rock1'\n",
    "df1.param1 = 10\n",
    "\n",
    "# concate into new df\n",
    "df2 = pd.concat([df0, df1], ignore_index=True)"
   ]
  },
  {
   "cell_type": "code",
   "execution_count": 15,
   "metadata": {},
   "outputs": [
    {
     "name": "stdout",
     "output_type": "stream",
     "text": [
      "Run realizations setup checks until stable workflow.\n",
      "HOTFIX in gempy/core/gempy_api.py 328\n"
     ]
    },
    {
     "name": "stderr",
     "output_type": "stream",
     "text": [
      "/home/stefan/coding/notebooks/env/lib/python3.8/site-packages/gempy/core/solution.py:196: FutureWarning: marching_cubes_lewiner is deprecated in favor of marching_cubes. marching_cubes_lewiner will be removed in version 0.19\n",
      "  vertices, simplices, normals, values = measure.marching_cubes_lewiner(\n"
     ]
    },
    {
     "data": {
      "image/png": "[encoded data removed]",
      "text/plain": [
       "<Figure size 748.8x514.8 with 2 Axes>"
      ]
     },
     "metadata": {},
     "output_type": "display_data"
    }
   ],
   "source": [
    "geo_model.set_surface_points(df2, update_surfaces=False)\n",
    "\n",
    "# we know that df2 is a concentation of the surface_points df and the line df.\n",
    "# hence the indices of the line are the ones\n",
    "rang_idx = pd.RangeIndex(start=len(df0.index), stop=len(df2.index), step=1)\n",
    "geo_model.modify_surface_points(rang_idx, smooth=1)\n",
    "geo_model.update_to_interpolator()\n",
    "\n",
    "if real_run.check_setup_single_realization(geo_model):\n",
    "    solution = gp.compute_model(model=geo_model, sort_surfaces=False)\n",
    "    \n",
    "Bx = post_pro.compute_boolean_matrix_for_section_surface_top(geo_model)\n",
    "\n",
    "extent = { 'z_min': 0, 'z_max': 1000 }\n",
    "section_coordinates = post_pro.compute_setction_grid_coordinates(geo_model, extent)\n",
    "\n",
    "tops_dict = post_pro.get_tops_coordinates(Bx, section_coordinates)\n",
    "\n",
    "# plot for sanity check\n",
    "fig, (ax1, ax2) = plt.subplots(1, 2)\n",
    "ax1.imshow(Bx['0-1'])\n",
    "ax1.grid()\n",
    "ax2.imshow(Bx['0-2'])\n",
    "ax2.grid()\n",
    "plt.show()"
   ]
  },
  {
   "cell_type": "code",
   "execution_count": null,
   "metadata": {},
   "outputs": [],
   "source": []
  }
 ],
 "metadata": {
  "kernelspec": {
   "display_name": "notebooks",
   "language": "python",
   "name": "notebooks"
  },
  "language_info": {
   "codemirror_mode": {
    "name": "ipython",
    "version": 3
   },
   "file_extension": ".py",
   "mimetype": "text/x-python",
   "name": "python",
   "nbconvert_exporter": "python",
   "pygments_lexer": "ipython3",
   "version": "3.8.2"
  }
 },
 "nbformat": 4,
 "nbformat_minor": 4
}
