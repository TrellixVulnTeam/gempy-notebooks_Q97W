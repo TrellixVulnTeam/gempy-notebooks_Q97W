{
 "cells": [
  {
   "cell_type": "code",
   "execution_count": 1,
   "metadata": {},
   "outputs": [],
   "source": [
    "import numpy as np\n",
    "import matplotlib.pyplot as plt"
   ]
  },
  {
   "cell_type": "code",
   "execution_count": 2,
   "metadata": {},
   "outputs": [],
   "source": [
    "p1 = np.array([0,0])\n",
    "p2 = np.array([100,200])\n",
    "res = np.array([10,10])"
   ]
  },
  {
   "cell_type": "code",
   "execution_count": 3,
   "metadata": {},
   "outputs": [],
   "source": [
    "dist = np.sqrt(np.diff((p1[0], p2[0])) ** 2 + np.diff((p1[1], p2[1])) ** 2)"
   ]
  },
  {
   "cell_type": "code",
   "execution_count": 4,
   "metadata": {},
   "outputs": [],
   "source": [
    "# vector pointing from p1 to p2\n",
    "vector_p1_p2 = p2 - p1"
   ]
  },
  {
   "cell_type": "code",
   "execution_count": 5,
   "metadata": {},
   "outputs": [],
   "source": [
    "# normalizae vector\n",
    "vector_p1_p2_normalizaed = vector_p1_p2 / np.linalg.norm(vector_p1_p2)"
   ]
  },
  {
   "cell_type": "code",
   "execution_count": 6,
   "metadata": {},
   "outputs": [],
   "source": [
    "# steps on line between points\n",
    "steps = np.linspace(0, dist, res[0])"
   ]
  },
  {
   "cell_type": "code",
   "execution_count": 7,
   "metadata": {},
   "outputs": [],
   "source": [
    "# calculate xy-coordinates on line between p1 and p2\n",
    "xy_coord_on_line_p1_p2 = p1.reshape(2, 1) + vector_p1_p2_normalizaed.reshape(2, 1) * steps.ravel()"
   ]
  },
  {
   "cell_type": "code",
   "execution_count": 8,
   "metadata": {},
   "outputs": [],
   "source": [
    "# destructure\n",
    "xvals = xy_coord_on_line_p1_p2[0]\n",
    "yvals = xy_coord_on_line_p1_p2[1]"
   ]
  },
  {
   "cell_type": "code",
   "execution_count": 9,
   "metadata": {},
   "outputs": [],
   "source": [
    "# stretching whole extent\n",
    "zvals = np.linspace(0, 50, res[1])"
   ]
  },
  {
   "cell_type": "code",
   "execution_count": 10,
   "metadata": {},
   "outputs": [],
   "source": [
    "# meshgrids to get grid coordinates\n",
    "X, Z = np.meshgrid(xvals, zvals)\n",
    "Y, Z = np.meshgrid(yvals, zvals)"
   ]
  },
  {
   "cell_type": "code",
   "execution_count": 11,
   "metadata": {},
   "outputs": [],
   "source": [
    "# reshape\n",
    "XYZ = np.vstack((X, Y, Z))\n",
    "xyz = np.vstack((X.flatten(), Y.flatten(), Z.flatten())).T"
   ]
  },
  {
   "cell_type": "code",
   "execution_count": 12,
   "metadata": {},
   "outputs": [
    {
     "data": {
      "image/png": "[encoded data removed]",
      "text/plain": [
       "<Figure size 432x288 with 2 Axes>"
      ]
     },
     "metadata": {
      "needs_background": "light"
     },
     "output_type": "display_data"
    }
   ],
   "source": [
    "# plot for sanity check\n",
    "fig, (ax1, ax2) = plt.subplots(1, 2)\n",
    "ax1.plot(X.flatten(), Z.flatten(), 'o')\n",
    "ax1.set_title('X / Z')\n",
    "ax2.plot(Y.flatten(), Z.flatten(), 'o')\n",
    "ax2.set_title('Y / Z')\n",
    "plt.show()"
   ]
  },
  {
   "cell_type": "code",
   "execution_count": 19,
   "metadata": {},
   "outputs": [
    {
     "data": {
      "text/plain": [
       "<matplotlib.image.AxesImage at 0x7f8c3d18fdf0>"
      ]
     },
     "execution_count": 19,
     "metadata": {},
     "output_type": "execute_result"
    },
    {
     "data": {
      "image/png": "[encoded data removed]",
      "text/plain": [
       "<Figure size 432x288 with 1 Axes>"
      ]
     },
     "metadata": {
      "needs_background": "light"
     },
     "output_type": "display_data"
    }
   ],
   "source": [
    "# boolen matrix for testing\n",
    "B = np.zeros((res[0], res[1]))\n",
    "B[:5,:] = 1\n",
    "B = B == 1\n",
    "plt.imshow(B)"
   ]
  },
  {
   "cell_type": "code",
   "execution_count": 22,
   "metadata": {},
   "outputs": [
    {
     "data": {
      "image/png": "[encoded data removed]",
      "text/plain": [
       "<Figure size 432x288 with 2 Axes>"
      ]
     },
     "metadata": {
      "needs_background": "light"
     },
     "output_type": "display_data"
    }
   ],
   "source": [
    "# plot for sanity check\n",
    "fig, (ax1, ax2) = plt.subplots(1, 2)\n",
    "# sub-plot-1\n",
    "ax1.plot(X[B].flatten(), Z[B].flatten(), 'o')\n",
    "ax1.set_title('X / Z')\n",
    "ax1.set_xlim(0,100)\n",
    "ax1.set_ylim(0,50)\n",
    "# sub-plot-2\n",
    "ax2.plot(Y[B].flatten(), Z[B].flatten(), 'o')\n",
    "ax2.set_title('Y / Z')\n",
    "ax2.set_xlim(0,200)\n",
    "ax2.set_ylim(0,50)\n",
    "plt.show()"
   ]
  },
  {
   "cell_type": "code",
   "execution_count": 24,
   "metadata": {},
   "outputs": [
    {
     "data": {
      "text/plain": [
       "<matplotlib.image.AxesImage at 0x7f8c3cf71b50>"
      ]
     },
     "execution_count": 24,
     "metadata": {},
     "output_type": "execute_result"
    },
    {
     "data": {
      "image/png": "[encoded data removed]",
      "text/plain": [
       "<Figure size 432x288 with 1 Axes>"
      ]
     },
     "metadata": {
      "needs_background": "light"
     },
     "output_type": "display_data"
    }
   ],
   "source": [
    "# boolen matrix for testing\n",
    "B = np.zeros((res[0], res[1]))\n",
    "B[5,:] = 1\n",
    "B[:,5] = 1\n",
    "B = B == 1\n",
    "plt.imshow(B)"
   ]
  },
  {
   "cell_type": "code",
   "execution_count": 25,
   "metadata": {},
   "outputs": [
    {
     "data": {
      "image/png": "[encoded data removed]",
      "text/plain": [
       "<Figure size 432x288 with 2 Axes>"
      ]
     },
     "metadata": {
      "needs_background": "light"
     },
     "output_type": "display_data"
    }
   ],
   "source": [
    "# plot for sanity check\n",
    "fig, (ax1, ax2) = plt.subplots(1, 2)\n",
    "# sub-plot-1\n",
    "ax1.plot(X[B].flatten(), Z[B].flatten(), 'o')\n",
    "ax1.set_title('X / Z')\n",
    "ax1.set_xlim(0,100)\n",
    "ax1.set_ylim(0,50)\n",
    "# sub-plot-2\n",
    "ax2.plot(Y[B].flatten(), Z[B].flatten(), 'o')\n",
    "ax2.set_title('Y / Z')\n",
    "ax2.set_xlim(0,200)\n",
    "ax2.set_ylim(0,50)\n",
    "plt.show()"
   ]
  },
  {
   "cell_type": "code",
   "execution_count": null,
   "metadata": {},
   "outputs": [],
   "source": []
  }
 ],
 "metadata": {
  "kernelspec": {
   "display_name": "notebooks",
   "language": "python",
   "name": "notebooks"
  },
  "language_info": {
   "codemirror_mode": {
    "name": "ipython",
    "version": 3
   },
   "file_extension": ".py",
   "mimetype": "text/x-python",
   "name": "python",
   "nbconvert_exporter": "python",
   "pygments_lexer": "ipython3",
   "version": "3.8.2"
  }
 },
 "nbformat": 4,
 "nbformat_minor": 4
}
