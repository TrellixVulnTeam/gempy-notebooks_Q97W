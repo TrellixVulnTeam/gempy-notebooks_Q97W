{
 "cells": [
  {
   "cell_type": "code",
   "execution_count": 1,
   "metadata": {},
   "outputs": [
    {
     "name": "stdout",
     "output_type": "stream",
     "text": [
      "/home/stefan/coding/notebooks/env/bin/python\n"
     ]
    }
   ],
   "source": [
    "import sys\n",
    "sys.path\n",
    "sys.path.append('../service/')\n",
    "\n",
    "print(sys.executable)"
   ]
  },
  {
   "cell_type": "code",
   "execution_count": 2,
   "metadata": {},
   "outputs": [
    {
     "name": "stderr",
     "output_type": "stream",
     "text": [
      "WARNING (theano.tensor.blas): Using NumPy C-API based implementation for BLAS functions.\n"
     ]
    }
   ],
   "source": [
    "# standart libs\n",
    "import random\n",
    "import copy\n",
    "\n",
    "# 3rd party libs\n",
    "import pandas as pd\n",
    "import numpy as np\n",
    "import gempy as gp\n",
    "import matplotlib.pyplot as plt\n",
    "\n",
    "# local\n",
    "import functions as fun"
   ]
  },
  {
   "cell_type": "markdown",
   "metadata": {},
   "source": [
    "# On init"
   ]
  },
  {
   "cell_type": "code",
   "execution_count": 3,
   "metadata": {},
   "outputs": [
    {
     "name": "stdout",
     "output_type": "stream",
     "text": [
      "Active grids: ['regular']\n",
      "Setting kriging parameters to their default values.\n",
      "Compiling theano function...\n",
      "Level of Optimization:  fast_run\n",
      "Device:  cpu\n",
      "Precision:  float64\n",
      "Number of faults:  0\n",
      "Compilation Done!\n",
      "Kriging values: \n",
      "                     values\n",
      "range              1.73205\n",
      "$C_o$            0.0714286\n",
      "drift equations        [3]\n"
     ]
    },
    {
     "data": {
      "text/plain": [
       "<gempy.core.interpolator.InterpolatorModel at 0x7f0d9329bbe0>"
      ]
     },
     "execution_count": 3,
     "metadata": {},
     "output_type": "execute_result"
    }
   ],
   "source": [
    "# instantiate the geo_model\n",
    "geo_model = gp.create_model(\"BaseModel\")\n",
    "\n",
    "# defautl data\n",
    "geo_model = gp.init_data(\n",
    "    geo_model,\n",
    "    extent=[0, 1, 0, 1, 0, 1],\n",
    "    resolution=[5, 5, 5]\n",
    ")\n",
    "\n",
    "# compile theno function\n",
    "gp.set_interpolation_data(\n",
    "    geo_model,\n",
    "    compile_theano=True,\n",
    "    theano_optimizer='fast_run',\n",
    ")"
   ]
  },
  {
   "cell_type": "markdown",
   "metadata": {},
   "source": [
    "# Model 1"
   ]
  },
  {
   "cell_type": "markdown",
   "metadata": {},
   "source": [
    "## Data 1"
   ]
  },
  {
   "cell_type": "code",
   "execution_count": 36,
   "metadata": {},
   "outputs": [],
   "source": [
    "# meta\n",
    "geo_model_extent = [0,1000,0,1000,0,1000]\n",
    "section = {\n",
    "    'p1': [0, 500],\n",
    "    'p2': [1000, 500],\n",
    "    'resolution': [200, 200]\n",
    "}\n",
    "\n",
    "# sereis\n",
    "series_df = pd.DataFrame(columns=['name', 'isfault', 'order_series'])\n",
    "series_df.loc[0] = { 'order_series': 0, 'name': 'Basement_Series', 'isfault': False }\n",
    "series_df.loc[1] = { 'order_series': 1, 'name': 'Strat_Series', 'isfault': False }\n",
    "\n",
    "# surfaces\n",
    "surfaces_df = pd.DataFrame(columns=['name', 'serie', 'order_surface'])\n",
    "surfaces_df.loc[0] = { 'name': 'basement', 'serie': 'Basement_Series', 'order_surface': 0 }\n",
    "surfaces_df.loc[2] = { 'name': 'rock1', 'serie': 'Strat_Series', 'order_surface': 1 }\n",
    "surfaces_df.loc[1] = { 'name': 'rock2', 'serie': 'Strat_Series', 'order_surface': 2 }"
   ]
  },
  {
   "cell_type": "code",
   "execution_count": 37,
   "metadata": {},
   "outputs": [],
   "source": [
    "surface_points_input_data = pd.read_csv('./data/model2_surface_points.csv')\n",
    "orientaions_input_data = pd.read_csv('./data/model2_orientations.csv')\n",
    "\n",
    "# Format geological_input_data\n",
    "surface_points_original_df = surface_points_input_data[['X', 'Y', 'Z', 'formation']]\n",
    "\n",
    "# rename colums\n",
    "surface_points_original_df.columns = ['X', 'Y', 'Z', 'surface']\n",
    "\n",
    "# add distribution type and parameter\n",
    "surface_points_original_df['param1'] = 10\n",
    "\n",
    "# Orientaions\n",
    "orientations_original_df = orientaions_input_data[['X', 'Y', 'Z', 'dip', 'azimuth', 'polarity', 'formation']]"
   ]
  },
  {
   "cell_type": "code",
   "execution_count": 38,
   "metadata": {},
   "outputs": [],
   "source": [
    "# maping object\n",
    "surfaces_df.sort_values(by=['order_surface'])\n",
    "mapping_object = {}\n",
    "for index, row in series_df.iterrows():\n",
    "    \n",
    "    series_name = row['name']\n",
    "    categories = surfaces_df[surfaces_df['serie'] == series_name]['name'].astype('category')\n",
    "    mapping_object[series_name] = categories"
   ]
  },
  {
   "cell_type": "markdown",
   "metadata": {},
   "source": [
    "## Set model 1"
   ]
  },
  {
   "cell_type": "code",
   "execution_count": 39,
   "metadata": {},
   "outputs": [
    {
     "name": "stdout",
     "output_type": "stream",
     "text": [
      "Active grids: ['regular' 'sections']\n",
      "Active grids: ['regular' 'sections']\n",
      "HOTFIX in update_series()\n"
     ]
    },
    {
     "data": {
      "text/plain": [
       "True"
      ]
     },
     "execution_count": 39,
     "metadata": {},
     "output_type": "execute_result"
    }
   ],
   "source": [
    "# Set meta data\n",
    "gp.init_data(\n",
    "    geo_model,\n",
    "    extent=[0, 1000, 0, 1000, 0, 1000],\n",
    "    resolution=[5, 5, 5])\n",
    "\n",
    "# Set section grid\n",
    "section_dict = {'section': (\n",
    "    section['p1'],\n",
    "    section['p2'],\n",
    "    section['resolution']\n",
    ")}\n",
    "# geo_model.grid.set_inactive('regular')\n",
    "geo_model.set_section_grid(section_dict=section_dict)\n",
    "\n",
    "# Set series and surfaces\n",
    "fun.update_series(geo_model, series_df)\n",
    "fun.update_surfaces(geo_model, surfaces_df)\n",
    "\n",
    "# Set surface points and orientations\n",
    "geo_model.set_surface_points(surface_points_original_df, update_surfaces=False)\n",
    "geo_model.set_orientations(orientations_original_df, update_surfaces=False)\n",
    "\n",
    "# Map series to surfaces\n",
    "gp.map_series_to_surfaces(\n",
    "    geo_model=geo_model,\n",
    "    mapping_object=mapping_object\n",
    ")\n",
    "\n",
    "# Set faults if any\n",
    "if np.any(series_df['isfault']):\n",
    "\n",
    "    fault_series = series_df[series_df['isfault']]['name']\n",
    "    geo_model.set_is_fault(fault_series)\n",
    "\n",
    "# Update to interpolator\n",
    "geo_model.update_to_interpolator()"
   ]
  },
  {
   "cell_type": "code",
   "execution_count": 40,
   "metadata": {},
   "outputs": [
    {
     "name": "stderr",
     "output_type": "stream",
     "text": [
      "/home/stefan/coding/notebooks/env/lib/python3.8/site-packages/gempy/core/solution.py:196: FutureWarning: marching_cubes_lewiner is deprecated in favor of marching_cubes. marching_cubes_lewiner will be removed in version 0.19\n",
      "  vertices, simplices, normals, values = measure.marching_cubes_lewiner(\n"
     ]
    }
   ],
   "source": [
    "solution = gp.compute_model(model=geo_model, sort_surfaces=False)"
   ]
  },
  {
   "cell_type": "code",
   "execution_count": 60,
   "metadata": {},
   "outputs": [
    {
     "data": {
      "image/png": "[encoded data removed]",
      "text/plain": [
       "<Figure size 748.8x514.8 with 1 Axes>"
      ]
     },
     "metadata": {},
     "output_type": "display_data"
    }
   ],
   "source": [
    "# get shape of section and test if consistent with our confiuration\n",
    "section_shape = geo_model.grid.sections.resolution[0]\n",
    "\n",
    "# get scalar field values\n",
    "section_scalar_field_values = geo_model.solutions.sections[1]\n",
    "\n",
    "# get scalar field level boundaries seperating lithologies\n",
    "level = geo_model.solutions.scalar_field_at_surface_points[0]\n",
    "\n",
    "# reshape 1D NpArray to original section shape\n",
    "section_scalar_field_values_reshaped = section_scalar_field_values[0,:].reshape(section_shape).T\n",
    "\n",
    "# find values bigger then level value x\n",
    "biger_level_0 = section_scalar_field_values_reshaped > level[1]\n",
    "\n",
    "# use matrix shifting along x0axis to find top-surface\n",
    "biger_level_0_0 = biger_level_0[1:,:]\n",
    "biger_level_0_1 = biger_level_0[:-1,:]\n",
    "biger_level_0_i = biger_level_0_0 ^ biger_level_0_1\n",
    "\n",
    "# plot\n",
    "plt.imshow(biger_level_0_i[::-1,:])\n",
    "plt.show()"
   ]
  },
  {
   "cell_type": "code",
   "execution_count": 61,
   "metadata": {},
   "outputs": [],
   "source": [
    "# get section grid values  # rest is regular grid points\n",
    "points_in_section = section_shape[0] * section_shape[1]\n",
    "section_grid_values = geo_model.grid.values[:points_in_section,:]\n",
    "\n",
    "# destructure & reshape\n",
    "section_xvals = section_grid_values[:,0].reshape(section_shape).T\n",
    "section_yvals = section_grid_values[:,1].reshape(section_shape).T\n",
    "section_zvals = section_grid_values[:,2].reshape(section_shape).T\n",
    "\n",
    "# cut out values of surface\n",
    "section_xvals_surface = section_xvals[:-1,:][biger_level_0_i]\n",
    "section_yvals_surface = section_yvals[:-1,:][biger_level_0_i]\n",
    "section_zvals_surface = section_zvals[:-1,:][biger_level_0_i]"
   ]
  },
  {
   "cell_type": "code",
   "execution_count": 62,
   "metadata": {},
   "outputs": [
    {
     "data": {
      "image/png": "[encoded data removed]",
      "text/plain": [
       "<Figure size 748.8x514.8 with 1 Axes>"
      ]
     },
     "metadata": {},
     "output_type": "display_data"
    }
   ],
   "source": [
    "fig = plt.figure()\n",
    "ax = fig.add_subplot(1,1,1)\n",
    "\n",
    "ax.plot(section_xvals_surface.flatten(), section_zvals_surface.flatten(), 'o')\n",
    "ax.set_xlim(0,1000)\n",
    "ax.set_ylim(0,1000)\n",
    "\n",
    "plt.show()"
   ]
  },
  {
   "cell_type": "markdown",
   "metadata": {},
   "source": [
    "## Data 2"
   ]
  },
  {
   "cell_type": "code",
   "execution_count": 12,
   "metadata": {},
   "outputs": [],
   "source": [
    "# meta\n",
    "section_v2 = {\n",
    "    'p1': [1000, 0],\n",
    "    'p2': [1000, 2000],\n",
    "    'resolution': [200, 200]\n",
    "}\n",
    "\n",
    "# sereis\n",
    "series_df_v2 = pd.DataFrame(columns=['name', 'isfault', 'order_series'])\n",
    "series_df_v2.loc[0] = { 'order_series': 0, 'name': 'Strat_Series', 'isfault': False }\n",
    "series_df_v2.loc[1] = { 'order_series': 1, 'name': 'Fault_Series', 'isfault': True }\n",
    "\n",
    "# surfaces\n",
    "surfaces_df_v2 = pd.DataFrame(columns=['name', 'serie', 'order_surface'])\n",
    "surfaces_df_v2.loc[0] = { 'name': 'Main_Fault', 'serie': 'Fault_Series', 'order_surface': 0 }\n",
    "surfaces_df_v2.loc[1] = { 'name': 'Sandstone_2', 'serie': 'Strat_Series', 'order_surface': 1 }\n",
    "surfaces_df_v2.loc[3] = { 'name': 'Siltstone', 'serie': 'Strat_Series', 'order_surface': 3 }\n",
    "surfaces_df_v2.loc[4] = { 'name': 'Shale', 'serie': 'Strat_Series', 'order_surface': 4 }\n",
    "surfaces_df_v2.loc[5] = { 'name': 'Sandstone_1', 'serie': 'Strat_Series', 'order_surface': 5 }\n",
    "surfaces_df_v2.loc[6] = { 'name': 'basement', 'serie': 'Strat_Series', 'order_surface': 6 }"
   ]
  },
  {
   "cell_type": "code",
   "execution_count": 13,
   "metadata": {},
   "outputs": [],
   "source": [
    "surface_points_input_data_v2 = pd.read_csv('./data/simple_fault_model_points.csv')\n",
    "orientaions_input_data_v2 = pd.read_csv('./data/simple_fault_model_orientations.csv')\n",
    "\n",
    "# Format geological_input_data\n",
    "surface_points_original_df_v2 = surface_points_input_data_v2[['X', 'Y', 'Z', 'formation']]\n",
    "\n",
    "# rename colums\n",
    "surface_points_original_df_v2.columns = ['X', 'Y', 'Z', 'surface']\n",
    "\n",
    "# add distribution type and parameter\n",
    "surface_points_original_df_v2['param1'] = 10\n",
    "\n",
    "# Orientaions\n",
    "orientations_original_df_v2 = orientaions_input_data_v2[['X', 'Y', 'Z', 'dip', 'azimuth', 'polarity', 'formation']]"
   ]
  },
  {
   "cell_type": "code",
   "execution_count": 14,
   "metadata": {},
   "outputs": [],
   "source": [
    "# maping object\n",
    "surfaces_df_v2.sort_values(by=['order_surface'])\n",
    "mapping_object_v2 = {}\n",
    "for index, row in series_df_v2.iterrows():\n",
    "    \n",
    "    series_name = row['name']\n",
    "    categories = surfaces_df_v2[surfaces_df_v2['serie'] == series_name]['name'].astype('category')\n",
    "    mapping_object_v2[series_name] = categories"
   ]
  },
  {
   "cell_type": "markdown",
   "metadata": {},
   "source": [
    "## Set model 2"
   ]
  },
  {
   "cell_type": "code",
   "execution_count": 15,
   "metadata": {},
   "outputs": [
    {
     "name": "stdout",
     "output_type": "stream",
     "text": [
      "Active grids: ['regular' 'sections']\n",
      "Active grids: ['regular' 'sections']\n",
      "HOTFIX in update_series()\n",
      "Fault colors changed. If you do not like this behavior, set change_color to False.\n"
     ]
    },
    {
     "data": {
      "text/plain": [
       "True"
      ]
     },
     "execution_count": 15,
     "metadata": {},
     "output_type": "execute_result"
    }
   ],
   "source": [
    "# Set meta data\n",
    "gp.init_data(\n",
    "    geo_model,\n",
    "    extent=[0, 2000, 0, 2000, 0, 2000],\n",
    "    resolution=[5, 5, 5])\n",
    "\n",
    "# Set section grid\n",
    "section_dict_v2 = {'section': (\n",
    "    section_v2['p1'],\n",
    "    section_v2['p2'],\n",
    "    section_v2['resolution']\n",
    ")}\n",
    "geo_model.set_section_grid(section_dict=section_dict_v2)\n",
    "\n",
    "# Set series and surfaces\n",
    "fun.update_series(geo_model, series_df_v2)\n",
    "fun.update_surfaces(geo_model, surfaces_df_v2)\n",
    "\n",
    "# Set surface points and orientations\n",
    "geo_model.set_surface_points(surface_points_original_df_v2, update_surfaces=False)\n",
    "geo_model.set_orientations(orientations_original_df_v2, update_surfaces=False)\n",
    "\n",
    "# Map series to surfaces\n",
    "gp.map_series_to_surfaces(\n",
    "    geo_model=geo_model,\n",
    "    mapping_object=mapping_object_v2\n",
    ")\n",
    "\n",
    "# Set faults if any\n",
    "if np.any(series_df_v2['isfault']):     \n",
    "\n",
    "    fault_series = series_df_v2[series_df_v2['isfault']]['name']\n",
    "    geo_model.set_is_fault(fault_series)\n",
    "\n",
    "# Update to interpolator\n",
    "geo_model.update_to_interpolator()"
   ]
  },
  {
   "cell_type": "code",
   "execution_count": 16,
   "metadata": {},
   "outputs": [
    {
     "name": "stderr",
     "output_type": "stream",
     "text": [
      "/home/stefan/coding/notebooks/env/lib/python3.8/site-packages/gempy/core/solution.py:196: FutureWarning: marching_cubes_lewiner is deprecated in favor of marching_cubes. marching_cubes_lewiner will be removed in version 0.19\n",
      "  vertices, simplices, normals, values = measure.marching_cubes_lewiner(\n",
      "/home/stefan/coding/notebooks/env/lib/python3.8/site-packages/gempy/core/solution.py:290: UserWarning: Surfaces not computed due to: No surface found at the given iso value.. The surface is: Series: No surface found at the given iso value.; Surface Number:0\n",
      "  warnings.warn('Surfaces not computed due to: ' + str(e)+'. The surface is: Series: '+str(e)+\n",
      "/home/stefan/coding/notebooks/env/lib/python3.8/site-packages/gempy/core/solution.py:290: UserWarning: Surfaces not computed due to: No surface found at the given iso value.. The surface is: Series: No surface found at the given iso value.; Surface Number:1\n",
      "  warnings.warn('Surfaces not computed due to: ' + str(e)+'. The surface is: Series: '+str(e)+\n",
      "/home/stefan/coding/notebooks/env/lib/python3.8/site-packages/gempy/core/solution.py:290: UserWarning: Surfaces not computed due to: No surface found at the given iso value.. The surface is: Series: No surface found at the given iso value.; Surface Number:2\n",
      "  warnings.warn('Surfaces not computed due to: ' + str(e)+'. The surface is: Series: '+str(e)+\n",
      "/home/stefan/coding/notebooks/env/lib/python3.8/site-packages/gempy/core/solution.py:290: UserWarning: Surfaces not computed due to: No surface found at the given iso value.. The surface is: Series: No surface found at the given iso value.; Surface Number:3\n",
      "  warnings.warn('Surfaces not computed due to: ' + str(e)+'. The surface is: Series: '+str(e)+\n"
     ]
    }
   ],
   "source": [
    "solution = gp.compute_model(model=geo_model, sort_surfaces=False)"
   ]
  },
  {
   "cell_type": "code",
   "execution_count": 33,
   "metadata": {},
   "outputs": [
    {
     "data": {
      "image/png": "[encoded data removed]",
      "text/plain": [
       "<Figure size 748.8x514.8 with 1 Axes>"
      ]
     },
     "metadata": {},
     "output_type": "display_data"
    }
   ],
   "source": [
    "# get shape of section and test if consistent with our confiuration\n",
    "section_shape = geo_model.grid.sections.resolution[0]\n",
    "\n",
    "# get scalar field values\n",
    "section_scalar_field_values = geo_model.solutions.sections[1]\n",
    "\n",
    "# get scalar field level boundaries seperating lithologies\n",
    "level = geo_model.solutions.scalar_field_at_surface_points[0]\n",
    "\n",
    "# reshape 1D NpArray to original section shape\n",
    "section_scalar_field_values_reshaped = section_scalar_field_values[0,:].reshape(section_shape).T\n",
    "\n",
    "# find values bigger then level value x\n",
    "biger_level_0 = section_scalar_field_values_reshaped > level[0]\n",
    "\n",
    "# use matrix shifting along x0axis to find top-surface\n",
    "biger_level_0_0 = biger_level_0[1:,:]\n",
    "biger_level_0_1 = biger_level_0[:-1,:]\n",
    "biger_level_0_i = biger_level_0_0 ^ biger_level_0_1\n",
    "\n",
    "# plot\n",
    "plt.imshow(biger_level_0_i[::-1,:])\n",
    "plt.show()"
   ]
  },
  {
   "cell_type": "code",
   "execution_count": 34,
   "metadata": {},
   "outputs": [],
   "source": [
    "# get section grid values  # rest is regular grid points\n",
    "points_in_section = section_shape[0] * section_shape[1]\n",
    "section_grid_values = geo_model.grid.values[:points_in_section,:]\n",
    "\n",
    "# destructure & reshape\n",
    "section_xvals = section_grid_values[:,0].reshape(section_shape).T\n",
    "section_yvals = section_grid_values[:,1].reshape(section_shape).T\n",
    "section_zvals = section_grid_values[:,2].reshape(section_shape).T\n",
    "\n",
    "# cut out values of surface\n",
    "section_xvals_surface = section_xvals[:-1,:][biger_level_0_i]\n",
    "section_yvals_surface = section_yvals[:-1,:][biger_level_0_i]\n",
    "section_zvals_surface = section_zvals[:-1,:][biger_level_0_i]"
   ]
  },
  {
   "cell_type": "code",
   "execution_count": 35,
   "metadata": {},
   "outputs": [
    {
     "data": {
      "image/png": "[encoded data removed]",
      "text/plain": [
       "<Figure size 748.8x514.8 with 1 Axes>"
      ]
     },
     "metadata": {},
     "output_type": "display_data"
    }
   ],
   "source": [
    "fig = plt.figure()\n",
    "ax = fig.add_subplot(1,1,1)\n",
    "\n",
    "ax.plot(section_yvals_surface.flatten(), section_zvals_surface.flatten(), 'o')\n",
    "ax.set_xlim(0,2000)\n",
    "ax.set_ylim(0,2000)\n",
    "\n",
    "plt.show()"
   ]
  },
  {
   "cell_type": "code",
   "execution_count": null,
   "metadata": {},
   "outputs": [],
   "source": []
  },
  {
   "cell_type": "code",
   "execution_count": null,
   "metadata": {},
   "outputs": [],
   "source": []
  }
 ],
 "metadata": {
  "kernelspec": {
   "display_name": "notebooks",
   "language": "python",
   "name": "notebooks"
  },
  "language_info": {
   "codemirror_mode": {
    "name": "ipython",
    "version": 3
   },
   "file_extension": ".py",
   "mimetype": "text/x-python",
   "name": "python",
   "nbconvert_exporter": "python",
   "pygments_lexer": "ipython3",
   "version": "3.8.2"
  }
 },
 "nbformat": 4,
 "nbformat_minor": 4
}
