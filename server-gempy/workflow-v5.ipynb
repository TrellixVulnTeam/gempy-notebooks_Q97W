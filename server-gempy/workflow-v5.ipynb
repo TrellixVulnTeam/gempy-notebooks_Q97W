{
 "cells": [
  {
   "cell_type": "code",
   "execution_count": 1,
   "metadata": {},
   "outputs": [
    {
     "name": "stderr",
     "output_type": "stream",
     "text": [
      "WARNING (theano.tensor.blas): Using NumPy C-API based implementation for BLAS functions.\n"
     ]
    },
    {
     "name": "stdout",
     "output_type": "stream",
     "text": [
      "/home/stefan/coding/notebooks/env/bin/python\n"
     ]
    }
   ],
   "source": [
    "# standart libs\n",
    "import sys\n",
    "import random\n",
    "import copy\n",
    "from operator import itemgetter\n",
    "from PIL import Image\n",
    "\n",
    "\n",
    "# 3rd party libs\n",
    "import pandas as pd\n",
    "import numpy as np\n",
    "import gempy as gp\n",
    "import matplotlib.pyplot as plt\n",
    "import scipy.stats as ss\n",
    "from skimage import measure\n",
    "\n",
    "\n",
    "# local\n",
    "import functions.realization_setup as real_setup\n",
    "import functions.realization_run as real_run\n",
    "import functions.post_processing as post_pro\n",
    "import functions.uq_runs as uq_runs\n",
    "\n",
    "# executable\n",
    "print(sys.executable)"
   ]
  },
  {
   "cell_type": "code",
   "execution_count": 2,
   "metadata": {},
   "outputs": [
    {
     "name": "stdout",
     "output_type": "stream",
     "text": [
      "Active grids: ['regular']\n",
      "Setting kriging parameters to their default values.\n",
      "Compiling theano function...\n",
      "Level of Optimization:  fast_run\n",
      "Device:  cpu\n",
      "Precision:  float64\n",
      "Number of faults:  0\n",
      "Compilation Done!\n",
      "Kriging values: \n",
      "                     values\n",
      "range              1.73205\n",
      "$C_o$            0.0714286\n",
      "drift equations        [3]\n"
     ]
    },
    {
     "data": {
      "text/plain": [
       "<gempy.core.interpolator.InterpolatorModel at 0x7fa312acef70>"
      ]
     },
     "execution_count": 2,
     "metadata": {},
     "output_type": "execute_result"
    }
   ],
   "source": [
    "# instantiate the geo_model\n",
    "geo_model = gp.create_model(\"GeoModel\")\n",
    "\n",
    "# defautl data\n",
    "geo_model = gp.init_data(\n",
    "    geo_model,\n",
    "    extent=[0, 1, 0, 1, 0, 1],\n",
    "    resolution=[1, 1, 1]\n",
    ")\n",
    "\n",
    "# compile theno function\n",
    "gp.set_interpolation_data(\n",
    "    geo_model,\n",
    "    compile_theano=True,\n",
    "    theano_optimizer='fast_run',\n",
    ")"
   ]
  },
  {
   "cell_type": "code",
   "execution_count": 3,
   "metadata": {},
   "outputs": [],
   "source": [
    "# meta\n",
    "geo_model_extent_1 = [0,1000,0,1000,0,1000]\n",
    "section_1 = {\n",
    "    'p1': [0, 500],\n",
    "    'p2': [1000, 500],\n",
    "    'resolution': [200, 200]\n",
    "}\n",
    "\n",
    "# sereis\n",
    "series_df_1 = pd.DataFrame(columns=['name', 'isfault', 'order_series'])\n",
    "series_df_1.loc[0] = { 'order_series': 0, 'name': 'Basement_Series', 'isfault': False }\n",
    "series_df_1.loc[1] = { 'order_series': 1, 'name': 'Strat_Series', 'isfault': False }\n",
    "\n",
    "# surfaces\n",
    "surfaces_df_1 = pd.DataFrame(columns=['name', 'serie', 'order_surface'])\n",
    "surfaces_df_1.loc[0] = { 'name': 'basement', 'serie': 'Basement_Series', 'order_surface': 0 }\n",
    "surfaces_df_1.loc[2] = { 'name': 'rock1', 'serie': 'Strat_Series', 'order_surface': 1 }\n",
    "surfaces_df_1.loc[1] = { 'name': 'rock2', 'serie': 'Strat_Series', 'order_surface': 2 }\n",
    "\n",
    "# geoData\n",
    "surface_points_input_data_1 = pd.read_csv('./data/model2_surface_points.csv')\n",
    "orientaions_input_data_1 = pd.read_csv('./data/model2_orientations.csv')\n",
    "\n",
    "# Format geological_input_data\n",
    "surface_points_original_df_1 = surface_points_input_data_1[['X', 'Y', 'Z', 'formation']]\n",
    "\n",
    "# rename colums\n",
    "surface_points_original_df_1.columns = ['X', 'Y', 'Z', 'surface']\n",
    "\n",
    "# add distribution type and parameter\n",
    "surface_points_original_df_1['param1'] = 10\n",
    "\n",
    "# Orientaions\n",
    "orientations_original_df_1 = orientaions_input_data_1[['X', 'Y', 'Z', 'dip', 'azimuth', 'polarity', 'formation']]"
   ]
  },
  {
   "cell_type": "code",
   "execution_count": 4,
   "metadata": {},
   "outputs": [
    {
     "name": "stdout",
     "output_type": "stream",
     "text": [
      "Active grids: ['regular']\n",
      "Active grids: ['regular' 'sections']\n",
      "HOTFIX in update_series()\n",
      "HOTFIX in update_surfaces()\n"
     ]
    }
   ],
   "source": [
    "# %%timeit\n",
    "# setup model 1\n",
    "real_setup.setup_realization(\n",
    "        geo_model=geo_model,\n",
    "        geo_model_extent=geo_model_extent_1,\n",
    "        section=section_1,\n",
    "        series_df=series_df_1,\n",
    "        surfaces_df=surfaces_df_1,\n",
    "        surface_points_original_df=surface_points_original_df_1,\n",
    "        orientations_original_df=orientations_original_df_1\n",
    ")"
   ]
  },
  {
   "cell_type": "code",
   "execution_count": 5,
   "metadata": {},
   "outputs": [
    {
     "name": "stdout",
     "output_type": "stream",
     "text": [
      "Run realizations setup checks until stable workflow.\n",
      "HOTFIX in gempy/core/gempy_api.py 328\n"
     ]
    },
    {
     "name": "stderr",
     "output_type": "stream",
     "text": [
      "/home/stefan/coding/notebooks/env/lib/python3.8/site-packages/gempy/core/solution.py:196: FutureWarning: marching_cubes_lewiner is deprecated in favor of marching_cubes. marching_cubes_lewiner will be removed in version 0.19\n",
      "  vertices, simplices, normals, values = measure.marching_cubes_lewiner(\n"
     ]
    }
   ],
   "source": [
    "if real_run.check_setup_single_realization(geo_model):\n",
    "    solution = gp.compute_model(model=geo_model, sort_surfaces=False)"
   ]
  },
  {
   "cell_type": "markdown",
   "metadata": {},
   "source": [
    "# Find contours of surfaces"
   ]
  },
  {
   "cell_type": "code",
   "execution_count": 10,
   "metadata": {},
   "outputs": [
    {
     "data": {
      "image/png": "[encoded data removed]",
      "text/plain": [
       "<Figure size 748.8x514.8 with 1 Axes>"
      ]
     },
     "metadata": {},
     "output_type": "display_data"
    }
   ],
   "source": [
    "# get section contours\n",
    "contours = post_pro.compute_section_contours(geo_model)\n",
    "\n",
    "# for konva  # x0y0x1y1...xnyn\n",
    "contours_konva = post_pro.process_section_contours_for_konva(contours)\n",
    "\n",
    "# plot\n",
    "fig, ax = plt.subplots()\n",
    "\n",
    "for key in contours.keys():\n",
    "    \n",
    "    ax.plot(contours[key][:,0], contours[key][:,1], '.', label=key)\n",
    "    \n",
    "ax.axis('image')\n",
    "ax.set_xticks([])\n",
    "ax.set_yticks([])\n",
    "plt.legend()\n",
    "plt.show()"
   ]
  },
  {
   "cell_type": "markdown",
   "metadata": {},
   "source": [
    "# Parametize a line"
   ]
  },
  {
   "cell_type": "markdown",
   "metadata": {},
   "source": [
    "## Get and prepare a line for developement"
   ]
  },
  {
   "cell_type": "code",
   "execution_count": 11,
   "metadata": {},
   "outputs": [
    {
     "data": {
      "image/png": "[encoded data removed]",
      "text/plain": [
       "<Figure size 432x216 with 2 Axes>"
      ]
     },
     "metadata": {},
     "output_type": "display_data"
    }
   ],
   "source": [
    "# load line\n",
    "xs, ys = contours['rock1'][:,0], contours['rock1'][:,1]\n",
    "\n",
    "# add noise\n",
    "noise = np.random.normal(0,1,len(xs))\n",
    "ys_noisy = ys + noise\n",
    "\n",
    "# plot\n",
    "fig, (ax_1, ax_2) = plt.subplots(nrows=1, ncols=2, sharex=True, figsize=(6, 3))\n",
    "\n",
    "ax_1.set_title('Clean line')\n",
    "ax_1.plot(xs, ys, '.')\n",
    "\n",
    "ax_2.set_title('Noisy line')\n",
    "ax_2.plot(xs, ys_noisy, '.')\n",
    "\n",
    "ax.axis('image')\n",
    "ax.set_xticks([])\n",
    "ax.set_yticks([])\n",
    "plt.show()"
   ]
  },
  {
   "cell_type": "markdown",
   "metadata": {},
   "source": [
    "## Find minima and maxima"
   ]
  },
  {
   "cell_type": "code",
   "execution_count": 16,
   "metadata": {},
   "outputs": [
    {
     "data": {
      "image/png": "[encoded data removed]",
      "text/plain": [
       "<Figure size 288x288 with 1 Axes>"
      ]
     },
     "metadata": {},
     "output_type": "display_data"
    }
   ],
   "source": [
    "\n",
    "xs_extrems, ys_extrems = post_pro.get_line_extrema(xs, ys)\n",
    "\n",
    "# plot\n",
    "fig, (ax_1) = plt.subplots(nrows=1, ncols=1, sharex=True, figsize=(4, 4))\n",
    "ax_1.plot(xs, ys, '.', color='steelblue')\n",
    "ax_1.plot(xs_extrems, ys_extrems, 'o', color='orange')\n",
    "plt.show()"
   ]
  },
  {
   "cell_type": "code",
   "execution_count": null,
   "metadata": {},
   "outputs": [],
   "source": []
  }
 ],
 "metadata": {
  "kernelspec": {
   "display_name": "notebooks",
   "language": "python",
   "name": "notebooks"
  },
  "language_info": {
   "codemirror_mode": {
    "name": "ipython",
    "version": 3
   },
   "file_extension": ".py",
   "mimetype": "text/x-python",
   "name": "python",
   "nbconvert_exporter": "python",
   "pygments_lexer": "ipython3",
   "version": "3.8.2"
  }
 },
 "nbformat": 4,
 "nbformat_minor": 4
}
