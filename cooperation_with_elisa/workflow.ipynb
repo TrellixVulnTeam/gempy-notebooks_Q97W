{
 "cells": [
  {
   "cell_type": "code",
   "execution_count": 1,
   "metadata": {},
   "outputs": [
    {
     "name": "stderr",
     "output_type": "stream",
     "text": [
      "WARNING (theano.tensor.blas): Using NumPy C-API based implementation for BLAS functions.\n"
     ]
    }
   ],
   "source": [
    "import os\n",
    "import sys\n",
    "\n",
    "import gempy as gp"
   ]
  },
  {
   "cell_type": "markdown",
   "metadata": {},
   "source": [
    "### Source data"
   ]
  },
  {
   "cell_type": "code",
   "execution_count": 2,
   "metadata": {},
   "outputs": [],
   "source": [
    "# Set path to data;\n",
    "path_to_project_data = \"service/project/DATA\""
   ]
  },
  {
   "cell_type": "code",
   "execution_count": 3,
   "metadata": {},
   "outputs": [
    {
     "name": "stdout",
     "output_type": "stream",
     "text": [
      "['anticline_orientations.csv', 'anticline_surfacespoints.csv']\n"
     ]
    }
   ],
   "source": [
    "# Get items within the DATA directory;\n",
    "items = [i for i in os.listdir(path_to_project_data)]\n",
    "\n",
    "# Print gathered items;\n",
    "print(items)"
   ]
  },
  {
   "cell_type": "markdown",
   "metadata": {},
   "source": [
    "### Configure geo_model"
   ]
  },
  {
   "cell_type": "markdown",
   "metadata": {},
   "source": [
    "#### Initial data"
   ]
  },
  {
   "cell_type": "code",
   "execution_count": 4,
   "metadata": {},
   "outputs": [],
   "source": [
    "# Init geo_model\n",
    "geo_model = gp.create_model(\"geo_model\")"
   ]
  },
  {
   "cell_type": "code",
   "execution_count": 5,
   "metadata": {},
   "outputs": [],
   "source": [
    "# Set global variables\n",
    "RESOLUTION = [50,50,50]\n",
    "\n",
    "EXTENT = [0,1000,0,1000,0,1000]\n",
    "\n",
    "sketchboard_resolution = {\n",
    "    \"width\": 100,\n",
    "    \"height\": 100\n",
    "}"
   ]
  },
  {
   "cell_type": "code",
   "execution_count": 6,
   "metadata": {},
   "outputs": [
    {
     "name": "stdout",
     "output_type": "stream",
     "text": [
      "Active grids: ['regular']\n"
     ]
    },
    {
     "data": {
      "text/plain": [
       "geo_model  2020-03-10 13:52"
      ]
     },
     "execution_count": 6,
     "metadata": {},
     "output_type": "execute_result"
    }
   ],
   "source": [
    "# Set geo_data\n",
    "gp.init_data(\n",
    "    geo_model=geo_model,\n",
    "    extent=EXTENT,\n",
    "    resolution=RESOLUTION,\n",
    "    path_o=path_to_project_data + \"/anticline_orientations.csv\",\n",
    "    path_i=path_to_project_data + \"/anticline_surfacespoints.csv\"\n",
    ")"
   ]
  },
  {
   "cell_type": "code",
   "execution_count": 7,
   "metadata": {},
   "outputs": [
    {
     "data": {
      "text/html": [
       "<style  type=\"text/css\" >\n",
       "    #T_f756ed20_62cd_11ea_9177_5c879c2acfb0row0_col4 {\n",
       "            background-color:  #015482;\n",
       "        }    #T_f756ed20_62cd_11ea_9177_5c879c2acfb0row1_col4 {\n",
       "            background-color:  #9f0052;\n",
       "        }    #T_f756ed20_62cd_11ea_9177_5c879c2acfb0row2_col4 {\n",
       "            background-color:  #ffbe00;\n",
       "        }</style><table id=\"T_f756ed20_62cd_11ea_9177_5c879c2acfb0\" ><thead>    <tr>        <th class=\"blank level0\" ></th>        <th class=\"col_heading level0 col0\" >surface</th>        <th class=\"col_heading level0 col1\" >series</th>        <th class=\"col_heading level0 col2\" >order_surfaces</th>        <th class=\"col_heading level0 col3\" >isActive</th>        <th class=\"col_heading level0 col4\" >color</th>        <th class=\"col_heading level0 col5\" >id</th>    </tr></thead><tbody>\n",
       "                <tr>\n",
       "                        <th id=\"T_f756ed20_62cd_11ea_9177_5c879c2acfb0level0_row0\" class=\"row_heading level0 row0\" >0</th>\n",
       "                        <td id=\"T_f756ed20_62cd_11ea_9177_5c879c2acfb0row0_col0\" class=\"data row0 col0\" >rock1</td>\n",
       "                        <td id=\"T_f756ed20_62cd_11ea_9177_5c879c2acfb0row0_col1\" class=\"data row0 col1\" >Strat_Series</td>\n",
       "                        <td id=\"T_f756ed20_62cd_11ea_9177_5c879c2acfb0row0_col2\" class=\"data row0 col2\" >1</td>\n",
       "                        <td id=\"T_f756ed20_62cd_11ea_9177_5c879c2acfb0row0_col3\" class=\"data row0 col3\" >True</td>\n",
       "                        <td id=\"T_f756ed20_62cd_11ea_9177_5c879c2acfb0row0_col4\" class=\"data row0 col4\" >#015482</td>\n",
       "                        <td id=\"T_f756ed20_62cd_11ea_9177_5c879c2acfb0row0_col5\" class=\"data row0 col5\" >1</td>\n",
       "            </tr>\n",
       "            <tr>\n",
       "                        <th id=\"T_f756ed20_62cd_11ea_9177_5c879c2acfb0level0_row1\" class=\"row_heading level0 row1\" >1</th>\n",
       "                        <td id=\"T_f756ed20_62cd_11ea_9177_5c879c2acfb0row1_col0\" class=\"data row1 col0\" >rock2</td>\n",
       "                        <td id=\"T_f756ed20_62cd_11ea_9177_5c879c2acfb0row1_col1\" class=\"data row1 col1\" >Strat_Series</td>\n",
       "                        <td id=\"T_f756ed20_62cd_11ea_9177_5c879c2acfb0row1_col2\" class=\"data row1 col2\" >2</td>\n",
       "                        <td id=\"T_f756ed20_62cd_11ea_9177_5c879c2acfb0row1_col3\" class=\"data row1 col3\" >True</td>\n",
       "                        <td id=\"T_f756ed20_62cd_11ea_9177_5c879c2acfb0row1_col4\" class=\"data row1 col4\" >#9f0052</td>\n",
       "                        <td id=\"T_f756ed20_62cd_11ea_9177_5c879c2acfb0row1_col5\" class=\"data row1 col5\" >2</td>\n",
       "            </tr>\n",
       "            <tr>\n",
       "                        <th id=\"T_f756ed20_62cd_11ea_9177_5c879c2acfb0level0_row2\" class=\"row_heading level0 row2\" >2</th>\n",
       "                        <td id=\"T_f756ed20_62cd_11ea_9177_5c879c2acfb0row2_col0\" class=\"data row2 col0\" >basement</td>\n",
       "                        <td id=\"T_f756ed20_62cd_11ea_9177_5c879c2acfb0row2_col1\" class=\"data row2 col1\" >Basement_Series</td>\n",
       "                        <td id=\"T_f756ed20_62cd_11ea_9177_5c879c2acfb0row2_col2\" class=\"data row2 col2\" >1</td>\n",
       "                        <td id=\"T_f756ed20_62cd_11ea_9177_5c879c2acfb0row2_col3\" class=\"data row2 col3\" >True</td>\n",
       "                        <td id=\"T_f756ed20_62cd_11ea_9177_5c879c2acfb0row2_col4\" class=\"data row2 col4\" >#ffbe00</td>\n",
       "                        <td id=\"T_f756ed20_62cd_11ea_9177_5c879c2acfb0row2_col5\" class=\"data row2 col5\" >3</td>\n",
       "            </tr>\n",
       "    </tbody></table>"
      ],
      "text/plain": [
       "    surface           series  order_surfaces  isActive    color  id\n",
       "0     rock1     Strat_Series               1      True  #015482   1\n",
       "1     rock2     Strat_Series               2      True  #9f0052   2\n",
       "2  basement  Basement_Series               1      True  #ffbe00   3"
      ]
     },
     "execution_count": 7,
     "metadata": {},
     "output_type": "execute_result"
    }
   ],
   "source": [
    "# Map series to surfaces\n",
    "gp.map_series_to_surfaces(\n",
    "    geo_model=geo_model,\n",
    "    mapping_object={\n",
    "        \"Strat_Series\": ('rock2','rock1'),\n",
    "        \"Basement_Series\":('basement')\n",
    "    }\n",
    ")"
   ]
  },
  {
   "cell_type": "markdown",
   "metadata": {},
   "source": [
    "### Compile modeling function"
   ]
  },
  {
   "cell_type": "code",
   "execution_count": 8,
   "metadata": {},
   "outputs": [
    {
     "name": "stdout",
     "output_type": "stream",
     "text": [
      "Compiling theano function...\n",
      "Level of Optimization:  fast_run\n",
      "Device:  cpu\n",
      "Precision:  float64\n",
      "Number of faults:  0\n",
      "Compilation Done!\n"
     ]
    },
    {
     "data": {
      "text/plain": [
       "<gempy.core.interpolator.InterpolatorModel at 0x7f2dc68fee48>"
      ]
     },
     "execution_count": 8,
     "metadata": {},
     "output_type": "execute_result"
    }
   ],
   "source": [
    "# Compile theano function\n",
    "gp.set_interpolation_data(\n",
    "    geo_model=geo_model,\n",
    "    theano_optimizer='fast_run'\n",
    ")"
   ]
  },
  {
   "cell_type": "markdown",
   "metadata": {},
   "source": [
    "### Compute solutions"
   ]
  },
  {
   "cell_type": "code",
   "execution_count": 9,
   "metadata": {},
   "outputs": [
    {
     "name": "stderr",
     "output_type": "stream",
     "text": [
      "/home/namur/coding/gempy/gempy/core/solution.py:266: UserWarning: Attribute error. Using non masked marching cubesmarching_cubes_lewiner() got an unexpected keyword argument 'mask'.\n",
      "  warnings.warn('Attribute error. Using non masked marching cubes' + str(e)+'.')\n"
     ]
    }
   ],
   "source": [
    "# compute solution\n",
    "sol = gp.compute_model(model=geo_model)"
   ]
  },
  {
   "cell_type": "markdown",
   "metadata": {},
   "source": [
    "### Visualize"
   ]
  },
  {
   "cell_type": "code",
   "execution_count": 10,
   "metadata": {},
   "outputs": [
    {
     "data": {
      "text/plain": [
       "<gempy.plot.visualization_2d.PlotSolution at 0x7f2dc5f52240>"
      ]
     },
     "execution_count": 10,
     "metadata": {},
     "output_type": "execute_result"
    },
    {
     "data": {
      "image/png": "[encoded data removed]",
      "text/plain": [
       "<Figure size 432x288 with 1 Axes>"
      ]
     },
     "metadata": {
      "needs_background": "light"
     },
     "output_type": "display_data"
    }
   ],
   "source": [
    "%matplotlib inline\n",
    "gp.plot.plot_section(\n",
    "    model=geo_model,\n",
    "    cell_number=15,\n",
    "    direction='y',\n",
    "    show_data=True\n",
    ")"
   ]
  },
  {
   "cell_type": "markdown",
   "metadata": {},
   "source": [
    "### Postprocessing"
   ]
  },
  {
   "cell_type": "markdown",
   "metadata": {},
   "source": [
    "#### Section"
   ]
  },
  {
   "cell_type": "code",
   "execution_count": 11,
   "metadata": {},
   "outputs": [],
   "source": [
    "# Define section to be interpolated;\n",
    "section_dict = {\n",
    "    'section_sektchboard':(\n",
    "        [EXTENT[0], EXTENT[2]],\n",
    "        [EXTENT[1], EXTENT[3]], \n",
    "        [\n",
    "            sketchboard_resolution[\"width\"],\n",
    "            sketchboard_resolution[\"height\"]\n",
    "        ]\n",
    "    )\n",
    "}"
   ]
  },
  {
   "cell_type": "code",
   "execution_count": 12,
   "metadata": {},
   "outputs": [
    {
     "name": "stdout",
     "output_type": "stream",
     "text": [
      "Active grids: ['regular']\n"
     ]
    },
    {
     "data": {
      "text/html": [
       "<table border=\"1\" class=\"dataframe\">\n",
       "  <thead>\n",
       "    <tr style=\"text-align: right;\">\n",
       "      <th></th>\n",
       "      <th>start</th>\n",
       "      <th>stop</th>\n",
       "      <th>resolution</th>\n",
       "      <th>dist</th>\n",
       "    </tr>\n",
       "  </thead>\n",
       "  <tbody>\n",
       "    <tr>\n",
       "      <th>section_sektchboard</th>\n",
       "      <td>[0, 0]</td>\n",
       "      <td>[1000, 1000]</td>\n",
       "      <td>[100, 100]</td>\n",
       "      <td>1414.213562</td>\n",
       "    </tr>\n",
       "  </tbody>\n",
       "</table>"
      ],
      "text/plain": [
       "<gempy.core.grid_modules.grid_types.Sections at 0x7f2dc6921ef0>"
      ]
     },
     "execution_count": 12,
     "metadata": {},
     "output_type": "execute_result"
    }
   ],
   "source": [
    "# Add section to geo_model.grid class\n",
    "geo_model.set_section_grid(section_dict)"
   ]
  },
  {
   "cell_type": "code",
   "execution_count": 13,
   "metadata": {},
   "outputs": [],
   "source": [
    "# Calculate solution again to include section\n",
    "solutions = gp.compute_model(model=geo_model, compute_mesh=True)"
   ]
  },
  {
   "cell_type": "code",
   "execution_count": 14,
   "metadata": {},
   "outputs": [
    {
     "ename": "AttributeError",
     "evalue": "no sections for plotting defined",
     "output_type": "error",
     "traceback": [
      "\u001b[0;31m---------------------------------------------------------------------------\u001b[0m",
      "\u001b[0;31mAttributeError\u001b[0m                            Traceback (most recent call last)",
      "\u001b[0;32m<ipython-input-14-0181156d5597>\u001b[0m in \u001b[0;36m<module>\u001b[0;34m\u001b[0m\n\u001b[1;32m      1\u001b[0m \u001b[0;31m# Plot the result\u001b[0m\u001b[0;34m\u001b[0m\u001b[0;34m\u001b[0m\u001b[0;34m\u001b[0m\u001b[0m\n\u001b[0;32m----> 2\u001b[0;31m \u001b[0mgp\u001b[0m\u001b[0;34m.\u001b[0m\u001b[0mplot\u001b[0m\u001b[0;34m.\u001b[0m\u001b[0mplot_section_by_name\u001b[0m\u001b[0;34m(\u001b[0m\u001b[0mmodel\u001b[0m\u001b[0;34m=\u001b[0m\u001b[0mgeo_model\u001b[0m\u001b[0;34m,\u001b[0m \u001b[0msection_name\u001b[0m\u001b[0;34m=\u001b[0m\u001b[0;34m'section_sektchboard'\u001b[0m\u001b[0;34m)\u001b[0m\u001b[0;34m\u001b[0m\u001b[0;34m\u001b[0m\u001b[0m\n\u001b[0m",
      "\u001b[0;32m~/coding/gempy/gempy/plot/plot.py\u001b[0m in \u001b[0;36mplot_section_by_name\u001b[0;34m(model, section_name, show_faults, show_topo, show_data, show_all_data, radius, contourplot)\u001b[0m\n\u001b[1;32m    289\u001b[0m     \u001b[0mplot\u001b[0m \u001b[0;34m=\u001b[0m \u001b[0mPlotSolution\u001b[0m\u001b[0;34m(\u001b[0m\u001b[0mmodel\u001b[0m\u001b[0;34m)\u001b[0m\u001b[0;34m\u001b[0m\u001b[0;34m\u001b[0m\u001b[0m\n\u001b[1;32m    290\u001b[0m     plot.plot_section_by_name(section_name=section_name, show_topo=show_topo, show_faults=show_faults,\n\u001b[0;32m--> 291\u001b[0;31m                               show_data=show_data, show_all_data=show_all_data, radius=radius, contourplot=contourplot)\n\u001b[0m\u001b[1;32m    292\u001b[0m \u001b[0;34m\u001b[0m\u001b[0m\n\u001b[1;32m    293\u001b[0m \u001b[0;34m\u001b[0m\u001b[0m\n",
      "\u001b[0;32m~/coding/gempy/gempy/plot/visualization_2d.py\u001b[0m in \u001b[0;36mplot_section_by_name\u001b[0;34m(self, section_name, show_data, show_faults, show_topo, show_all_data, contourplot, radius, **kwargs)\u001b[0m\n\u001b[1;32m    591\u001b[0m \u001b[0;34m\u001b[0m\u001b[0m\n\u001b[1;32m    592\u001b[0m         \u001b[0;32mif\u001b[0m \u001b[0mself\u001b[0m\u001b[0;34m.\u001b[0m\u001b[0mmodel\u001b[0m\u001b[0;34m.\u001b[0m\u001b[0msolutions\u001b[0m\u001b[0;34m.\u001b[0m\u001b[0msections\u001b[0m \u001b[0;32mis\u001b[0m \u001b[0;32mNone\u001b[0m\u001b[0;34m:\u001b[0m\u001b[0;34m\u001b[0m\u001b[0;34m\u001b[0m\u001b[0m\n\u001b[0;32m--> 593\u001b[0;31m             \u001b[0;32mraise\u001b[0m \u001b[0mAttributeError\u001b[0m\u001b[0;34m(\u001b[0m\u001b[0;34m'no sections for plotting defined'\u001b[0m\u001b[0;34m)\u001b[0m\u001b[0;34m\u001b[0m\u001b[0;34m\u001b[0m\u001b[0m\n\u001b[0m\u001b[1;32m    594\u001b[0m         \u001b[0;32mif\u001b[0m \u001b[0msection_name\u001b[0m \u001b[0;32mnot\u001b[0m \u001b[0;32min\u001b[0m \u001b[0mself\u001b[0m\u001b[0;34m.\u001b[0m\u001b[0mmodel\u001b[0m\u001b[0;34m.\u001b[0m\u001b[0mgrid\u001b[0m\u001b[0;34m.\u001b[0m\u001b[0msections\u001b[0m\u001b[0;34m.\u001b[0m\u001b[0mnames\u001b[0m\u001b[0;34m:\u001b[0m\u001b[0;34m\u001b[0m\u001b[0;34m\u001b[0m\u001b[0m\n\u001b[1;32m    595\u001b[0m             raise AttributeError(f'Section \"{section_name}\" is not defined. '\n",
      "\u001b[0;31mAttributeError\u001b[0m: no sections for plotting defined"
     ]
    }
   ],
   "source": [
    "# Plot the result\n",
    "gp.plot.plot_section_by_name(model=geo_model, section_name='section_sektchboard')"
   ]
  },
  {
   "cell_type": "markdown",
   "metadata": {},
   "source": [
    "### Get section as polygon"
   ]
  },
  {
   "cell_type": "code",
   "execution_count": 15,
   "metadata": {},
   "outputs": [
    {
     "name": "stdout",
     "output_type": "stream",
     "text": [
      "0.7071067811865475\n"
     ]
    },
    {
     "ename": "TypeError",
     "evalue": "'NoneType' object is not subscriptable",
     "output_type": "error",
     "traceback": [
      "\u001b[0;31m---------------------------------------------------------------------------\u001b[0m",
      "\u001b[0;31mTypeError\u001b[0m                                 Traceback (most recent call last)",
      "\u001b[0;32m<ipython-input-15-af95d81e5a97>\u001b[0m in \u001b[0;36m<module>\u001b[0;34m\u001b[0m\n\u001b[1;32m      1\u001b[0m \u001b[0;31m# this stores the xy points in the sections for every surface.\u001b[0m\u001b[0;34m\u001b[0m\u001b[0;34m\u001b[0m\u001b[0;34m\u001b[0m\u001b[0m\n\u001b[1;32m      2\u001b[0m \u001b[0;32mfrom\u001b[0m \u001b[0mgempy\u001b[0m\u001b[0;34m.\u001b[0m\u001b[0mutils\u001b[0m \u001b[0;32mimport\u001b[0m \u001b[0msection_utils\u001b[0m\u001b[0;34m\u001b[0m\u001b[0;34m\u001b[0m\u001b[0m\n\u001b[0;32m----> 3\u001b[0;31m \u001b[0mpolygondict\u001b[0m\u001b[0;34m,\u001b[0m \u001b[0mcdict\u001b[0m\u001b[0;34m,\u001b[0m \u001b[0mextent\u001b[0m \u001b[0;34m=\u001b[0m \u001b[0msection_utils\u001b[0m\u001b[0;34m.\u001b[0m\u001b[0mget_polygon_dictionary\u001b[0m\u001b[0;34m(\u001b[0m\u001b[0mgeo_model\u001b[0m\u001b[0;34m,\u001b[0m \u001b[0;34m'section_sektchboard'\u001b[0m\u001b[0;34m)\u001b[0m\u001b[0;34m\u001b[0m\u001b[0;34m\u001b[0m\u001b[0m\n\u001b[0m",
      "\u001b[0;32m~/coding/gempy/gempy/utils/section_utils.py\u001b[0m in \u001b[0;36mget_polygon_dictionary\u001b[0;34m(geo_model, section_name)\u001b[0m\n\u001b[1;32m     93\u001b[0m     \u001b[0mt\u001b[0m \u001b[0;34m=\u001b[0m \u001b[0mp\u001b[0m\u001b[0;34m.\u001b[0m\u001b[0madd_section\u001b[0m\u001b[0;34m(\u001b[0m\u001b[0msection_name\u001b[0m\u001b[0;34m,\u001b[0m \u001b[0max_pos\u001b[0m\u001b[0;34m=\u001b[0m\u001b[0;36m224\u001b[0m\u001b[0;34m)\u001b[0m\u001b[0;34m\u001b[0m\u001b[0;34m\u001b[0m\u001b[0m\n\u001b[1;32m     94\u001b[0m \u001b[0;34m\u001b[0m\u001b[0m\n\u001b[0;32m---> 95\u001b[0;31m     \u001b[0mcs\u001b[0m\u001b[0;34m,\u001b[0m \u001b[0mcolors\u001b[0m\u001b[0;34m,\u001b[0m \u001b[0mextent\u001b[0m \u001b[0;34m=\u001b[0m \u001b[0m_extract_boundaries\u001b[0m\u001b[0;34m(\u001b[0m\u001b[0mp\u001b[0m\u001b[0;34m,\u001b[0m \u001b[0mp\u001b[0m\u001b[0;34m.\u001b[0m\u001b[0maxes\u001b[0m\u001b[0;34m[\u001b[0m\u001b[0;36m0\u001b[0m\u001b[0;34m]\u001b[0m\u001b[0;34m,\u001b[0m \u001b[0msection_name\u001b[0m\u001b[0;34m)\u001b[0m\u001b[0;34m\u001b[0m\u001b[0;34m\u001b[0m\u001b[0m\n\u001b[0m\u001b[1;32m     96\u001b[0m \u001b[0;34m\u001b[0m\u001b[0m\n\u001b[1;32m     97\u001b[0m     \u001b[0mall_paths\u001b[0m \u001b[0;34m=\u001b[0m \u001b[0;34m[\u001b[0m\u001b[0;34m]\u001b[0m\u001b[0;34m\u001b[0m\u001b[0;34m\u001b[0m\u001b[0m\n",
      "\u001b[0;32m~/coding/gempy/gempy/utils/section_utils.py\u001b[0m in \u001b[0;36m_extract_boundaries\u001b[0;34m(self, axes, section_name)\u001b[0m\n\u001b[1;32m     29\u001b[0m         \u001b[0mj\u001b[0m \u001b[0;34m=\u001b[0m \u001b[0mnp\u001b[0m\u001b[0;34m.\u001b[0m\u001b[0mwhere\u001b[0m\u001b[0;34m(\u001b[0m\u001b[0mself\u001b[0m\u001b[0;34m.\u001b[0m\u001b[0mmodel\u001b[0m\u001b[0;34m.\u001b[0m\u001b[0mgrid\u001b[0m\u001b[0;34m.\u001b[0m\u001b[0msections\u001b[0m\u001b[0;34m.\u001b[0m\u001b[0mnames\u001b[0m \u001b[0;34m==\u001b[0m \u001b[0msection_name\u001b[0m\u001b[0;34m)\u001b[0m\u001b[0;34m[\u001b[0m\u001b[0;36m0\u001b[0m\u001b[0;34m]\u001b[0m\u001b[0;34m[\u001b[0m\u001b[0;36m0\u001b[0m\u001b[0;34m]\u001b[0m\u001b[0;34m\u001b[0m\u001b[0;34m\u001b[0m\u001b[0m\n\u001b[1;32m     30\u001b[0m         \u001b[0mshape\u001b[0m \u001b[0;34m=\u001b[0m \u001b[0;34m[\u001b[0m\u001b[0mself\u001b[0m\u001b[0;34m.\u001b[0m\u001b[0mmodel\u001b[0m\u001b[0;34m.\u001b[0m\u001b[0mgrid\u001b[0m\u001b[0;34m.\u001b[0m\u001b[0msections\u001b[0m\u001b[0;34m.\u001b[0m\u001b[0mresolution\u001b[0m\u001b[0;34m[\u001b[0m\u001b[0mj\u001b[0m\u001b[0;34m]\u001b[0m\u001b[0;34m[\u001b[0m\u001b[0;36m0\u001b[0m\u001b[0;34m]\u001b[0m\u001b[0;34m,\u001b[0m \u001b[0mself\u001b[0m\u001b[0;34m.\u001b[0m\u001b[0mmodel\u001b[0m\u001b[0;34m.\u001b[0m\u001b[0mgrid\u001b[0m\u001b[0;34m.\u001b[0m\u001b[0msections\u001b[0m\u001b[0;34m.\u001b[0m\u001b[0mresolution\u001b[0m\u001b[0;34m[\u001b[0m\u001b[0mj\u001b[0m\u001b[0;34m]\u001b[0m\u001b[0;34m[\u001b[0m\u001b[0;36m1\u001b[0m\u001b[0;34m]\u001b[0m\u001b[0;34m]\u001b[0m\u001b[0;34m\u001b[0m\u001b[0;34m\u001b[0m\u001b[0m\n\u001b[0;32m---> 31\u001b[0;31m         \u001b[0ma\u001b[0m \u001b[0;34m=\u001b[0m \u001b[0mself\u001b[0m\u001b[0;34m.\u001b[0m\u001b[0mmodel\u001b[0m\u001b[0;34m.\u001b[0m\u001b[0msolutions\u001b[0m\u001b[0;34m.\u001b[0m\u001b[0msections\u001b[0m\u001b[0;34m[\u001b[0m\u001b[0;36m1\u001b[0m\u001b[0;34m]\u001b[0m\u001b[0;34m[\u001b[0m\u001b[0;34m:\u001b[0m\u001b[0;34m,\u001b[0m \u001b[0ml0\u001b[0m\u001b[0;34m:\u001b[0m\u001b[0ml1\u001b[0m\u001b[0;34m]\u001b[0m\u001b[0;34m\u001b[0m\u001b[0;34m\u001b[0m\u001b[0m\n\u001b[0m\u001b[1;32m     32\u001b[0m         \u001b[0;31m# b = self.model.solutions.sections[0][:, l0:l1].reshape(shape).T\u001b[0m\u001b[0;34m\u001b[0m\u001b[0;34m\u001b[0m\u001b[0;34m\u001b[0m\u001b[0m\n\u001b[1;32m     33\u001b[0m         extent = [0, self.model.grid.sections.dist[j][0], self.model.grid.regular_grid.extent[4],\n",
      "\u001b[0;31mTypeError\u001b[0m: 'NoneType' object is not subscriptable"
     ]
    },
    {
     "data": {
      "image/png": "[encoded data removed]",
      "text/plain": [
       "<Figure size 936x936 with 1 Axes>"
      ]
     },
     "metadata": {},
     "output_type": "display_data"
    }
   ],
   "source": [
    "# this stores the xy points in the sections for every surface.\n",
    "from gempy.utils import section_utils\n",
    "polygondict, cdict, extent = section_utils.get_polygon_dictionary(geo_model, 'section_sektchboard')"
   ]
  },
  {
   "cell_type": "code",
   "execution_count": null,
   "metadata": {},
   "outputs": [],
   "source": []
  }
 ],
 "metadata": {
  "kernelspec": {
   "display_name": "Python 3",
   "language": "python",
   "name": "python3"
  },
  "language_info": {
   "codemirror_mode": {
    "name": "ipython",
    "version": 3
   },
   "file_extension": ".py",
   "mimetype": "text/x-python",
   "name": "python",
   "nbconvert_exporter": "python",
   "pygments_lexer": "ipython3",
   "version": "3.6.9"
  }
 },
 "nbformat": 4,
 "nbformat_minor": 2
}
